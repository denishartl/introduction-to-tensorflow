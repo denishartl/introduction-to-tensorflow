{
 "cells": [
  {
   "cell_type": "markdown",
   "metadata": {},
   "source": [
    "# Introduction to regression with neural networks in TensorFlow"
   ]
  },
  {
   "cell_type": "markdown",
   "metadata": {},
   "source": [
    "There are many definitions for a regression problem but in our case, we're going to simplify it: Predicting a numerical variable based on some other combination of variables.\n",
    "\n",
    "Even shorter: Predicting a number\n"
   ]
  },
  {
   "cell_type": "code",
   "execution_count": 1,
   "metadata": {},
   "outputs": [
    {
     "name": "stdout",
     "output_type": "stream",
     "text": [
      "2.7.0\n"
     ]
    }
   ],
   "source": [
    "%config IPCompleter.greedy=True\n",
    "# Import TensorFlow\n",
    "import tensorflow as tf\n",
    "print(tf.__version__)"
   ]
  },
  {
   "cell_type": "markdown",
   "metadata": {},
   "source": [
    "## Creating data to view and fit"
   ]
  },
  {
   "cell_type": "code",
   "execution_count": 2,
   "metadata": {},
   "outputs": [
    {
     "data": {
      "image/png": "[encoded data removed]",
      "text/plain": [
       "<Figure size 432x288 with 1 Axes>"
      ]
     },
     "metadata": {
      "needs_background": "light"
     },
     "output_type": "display_data"
    }
   ],
   "source": [
    "import numpy as np\n",
    "import matplotlib.pyplot as plt\n",
    "\n",
    "# Create features\n",
    "X = np.array([-7.0, -4.0, -1.0, 2.0, 5.0, 8.0, 11.0, 14.0])\n",
    "\n",
    "# Create labels\n",
    "y = np.array([3.0, 6.0, 9.0, 12.0, 15.0, 18.0, 21.0, 24.0])\n",
    "\n",
    "# Visualize it\n",
    "plt.scatter(X, y);"
   ]
  },
  {
   "cell_type": "code",
   "execution_count": 3,
   "metadata": {},
   "outputs": [
    {
     "data": {
      "text/plain": [
       "array([ True,  True,  True,  True,  True,  True,  True,  True])"
      ]
     },
     "execution_count": 3,
     "metadata": {},
     "output_type": "execute_result"
    }
   ],
   "source": [
    "# This is the relationship between X and y. Our model will have to try and learn this\n",
    "y == X + 10"
   ]
  },
  {
   "cell_type": "markdown",
   "metadata": {},
   "source": [
    "## Input and output shapes"
   ]
  },
  {
   "cell_type": "code",
   "execution_count": 4,
   "metadata": {},
   "outputs": [
    {
     "name": "stderr",
     "output_type": "stream",
     "text": [
      "2022-02-12 10:06:01.730180: I tensorflow/core/common_runtime/pluggable_device/pluggable_device_factory.cc:305] Could not identify NUMA node of platform GPU ID 0, defaulting to 0. Your kernel may not have been built with NUMA support.\n",
      "2022-02-12 10:06:01.730329: I tensorflow/core/common_runtime/pluggable_device/pluggable_device_factory.cc:271] Created TensorFlow device (/job:localhost/replica:0/task:0/device:GPU:0 with 0 MB memory) -> physical PluggableDevice (device: 0, name: METAL, pci bus id: <undefined>)\n"
     ]
    },
    {
     "data": {
      "text/plain": [
       "(<tf.Tensor: shape=(3,), dtype=string, numpy=array([b'bedroom', b'bathroom', b'garage'], dtype=object)>,\n",
       " <tf.Tensor: shape=(1,), dtype=int32, numpy=array([939700], dtype=int32)>)"
      ]
     },
     "execution_count": 4,
     "metadata": {},
     "output_type": "execute_result"
    },
    {
     "name": "stdout",
     "output_type": "stream",
     "text": [
      "Metal device set to: Apple M1 Pro\n",
      "\n",
      "systemMemory: 32.00 GB\n",
      "maxCacheSize: 10.67 GB\n",
      "\n"
     ]
    }
   ],
   "source": [
    "# Create a demo tensor for our housing price prediction problem\n",
    "house_info = tf.constant([\"bedroom\", \"bathroom\", \"garage\"])\n",
    "house_price = tf.constant([939700])\n",
    "house_info, house_price"
   ]
  },
  {
   "cell_type": "code",
   "execution_count": 5,
   "metadata": {},
   "outputs": [
    {
     "data": {
      "text/plain": [
       "(-7.0, 3.0)"
      ]
     },
     "execution_count": 5,
     "metadata": {},
     "output_type": "execute_result"
    }
   ],
   "source": [
    "X[0], y[0]"
   ]
  },
  {
   "cell_type": "code",
   "execution_count": 6,
   "metadata": {},
   "outputs": [
    {
     "data": {
      "text/plain": [
       "(-4.0, 6.0)"
      ]
     },
     "execution_count": 6,
     "metadata": {},
     "output_type": "execute_result"
    }
   ],
   "source": [
    "X[1], y[1]"
   ]
  },
  {
   "cell_type": "code",
   "execution_count": 7,
   "metadata": {},
   "outputs": [
    {
     "data": {
      "text/plain": [
       "((), ())"
      ]
     },
     "execution_count": 7,
     "metadata": {},
     "output_type": "execute_result"
    }
   ],
   "source": [
    "input_shape = X[0].shape\n",
    "output_shape = y[0].shape\n",
    "\n",
    "input_shape, output_shape"
   ]
  },
  {
   "cell_type": "code",
   "execution_count": 8,
   "metadata": {},
   "outputs": [
    {
     "data": {
      "text/plain": [
       "0"
      ]
     },
     "execution_count": 8,
     "metadata": {},
     "output_type": "execute_result"
    }
   ],
   "source": [
    "X[0].ndim"
   ]
  },
  {
   "cell_type": "code",
   "execution_count": 9,
   "metadata": {},
   "outputs": [
    {
     "data": {
      "text/plain": [
       "(-7.0, 3.0)"
      ]
     },
     "execution_count": 9,
     "metadata": {},
     "output_type": "execute_result"
    }
   ],
   "source": [
    "X[0], y[0]"
   ]
  },
  {
   "cell_type": "code",
   "execution_count": 10,
   "metadata": {},
   "outputs": [
    {
     "data": {
      "text/plain": [
       "(<tf.Tensor: shape=(8,), dtype=float32, numpy=array([-7., -4., -1.,  2.,  5.,  8., 11., 14.], dtype=float32)>,\n",
       " <tf.Tensor: shape=(8,), dtype=float32, numpy=array([ 3.,  6.,  9., 12., 15., 18., 21., 24.], dtype=float32)>)"
      ]
     },
     "execution_count": 10,
     "metadata": {},
     "output_type": "execute_result"
    }
   ],
   "source": [
    "# Turn out NumPy arrays into tensors\n",
    "X = tf.cast(tf.constant(X), dtype=tf.float32)\n",
    "y = tf.cast(tf.constant(y), dtype=tf.float32)\n",
    "X, y"
   ]
  },
  {
   "cell_type": "code",
   "execution_count": 11,
   "metadata": {},
   "outputs": [
    {
     "data": {
      "text/plain": [
       "(TensorShape([]), TensorShape([]))"
      ]
     },
     "execution_count": 11,
     "metadata": {},
     "output_type": "execute_result"
    }
   ],
   "source": [
    "input_shape = X[0].shape\n",
    "output_shape = y[0].shape\n",
    "input_shape, output_shape"
   ]
  },
  {
   "cell_type": "code",
   "execution_count": 12,
   "metadata": {},
   "outputs": [
    {
     "data": {
      "image/png": "[encoded data removed]",
      "text/plain": [
       "<Figure size 432x288 with 1 Axes>"
      ]
     },
     "metadata": {
      "needs_background": "light"
     },
     "output_type": "display_data"
    }
   ],
   "source": [
    "plt.scatter(X, y);"
   ]
  },
  {
   "cell_type": "markdown",
   "metadata": {},
   "source": [
    "## Steps in modelling with TensorFlow"
   ]
  },
  {
   "cell_type": "markdown",
   "metadata": {},
   "source": [
    "1. Creating a model - define the input and output layers as well as the hidden layers of a deep learning model.\n",
    "2. Compiling a model - define the loss function (in other words, the function which tells our model how wrong it is) and the optimizer (tells our model how to improve the patterns its learning) and evaluation metrics (what we can use to interpret the performance of our model).\n",
    "3. Fitting the model - letting the model try to find patterns between X & y (features and labels)."
   ]
  },
  {
   "cell_type": "code",
   "execution_count": 13,
   "metadata": {},
   "outputs": [
    {
     "name": "stdout",
     "output_type": "stream",
     "text": [
      "Epoch 1/5\n",
      "1/1 [==============================] - 0s 142ms/step - loss: 14.1284 - mae: 14.1284\n",
      "Epoch 2/5\n",
      "1/1 [==============================] - 0s 5ms/step - loss: 13.9959 - mae: 13.9959\n",
      "Epoch 3/5\n",
      "1/1 [==============================] - 0s 4ms/step - loss: 13.8634 - mae: 13.8634\n",
      "Epoch 4/5\n",
      "1/1 [==============================] - 0s 6ms/step - loss: 13.7309 - mae: 13.7309\n",
      "Epoch 5/5\n",
      "1/1 [==============================] - 0s 4ms/step - loss: 13.5984 - mae: 13.5984\n"
     ]
    },
    {
     "name": "stderr",
     "output_type": "stream",
     "text": [
      "2022-02-12 10:06:02.070335: W tensorflow/core/platform/profile_utils/cpu_utils.cc:128] Failed to get CPU frequency: 0 Hz\n",
      "2022-02-12 10:06:02.168967: I tensorflow/core/grappler/optimizers/custom_graph_optimizer_registry.cc:112] Plugin optimizer for device_type GPU is enabled.\n"
     ]
    },
    {
     "data": {
      "text/plain": [
       "<keras.callbacks.History at 0x2826d3370>"
      ]
     },
     "execution_count": 13,
     "metadata": {},
     "output_type": "execute_result"
    }
   ],
   "source": [
    "# Set the random seed\n",
    "tf.random.set_seed(42)\n",
    "\n",
    "# 1. Create a model using the Sequential API\n",
    "model = tf.keras.Sequential()\n",
    "model.add(tf.keras.layers.Dense(1))\n",
    "\n",
    "# 2. Compile the model\n",
    "model.compile(loss=tf.keras.losses.mae, # mae is mean absolute error\n",
    "              optimizer=tf.keras.optimizers.SGD(), # sgd is short for stochastic gradient descend\n",
    "              metrics=[\"mae\"])\n",
    "\n",
    "# 3. Fit the model\n",
    "model.fit(tf.expand_dims(X, axis=-1), y, epochs=5)"
   ]
  },
  {
   "cell_type": "code",
   "execution_count": 14,
   "metadata": {},
   "outputs": [
    {
     "data": {
      "text/plain": [
       "(<tf.Tensor: shape=(8,), dtype=float32, numpy=array([-7., -4., -1.,  2.,  5.,  8., 11., 14.], dtype=float32)>,\n",
       " <tf.Tensor: shape=(8,), dtype=float32, numpy=array([ 3.,  6.,  9., 12., 15., 18., 21., 24.], dtype=float32)>)"
      ]
     },
     "execution_count": 14,
     "metadata": {},
     "output_type": "execute_result"
    }
   ],
   "source": [
    "# Check out X and y\n",
    "X, y"
   ]
  },
  {
   "cell_type": "code",
   "execution_count": 15,
   "metadata": {},
   "outputs": [
    {
     "name": "stderr",
     "output_type": "stream",
     "text": [
      "2022-02-12 10:06:02.337286: I tensorflow/core/grappler/optimizers/custom_graph_optimizer_registry.cc:112] Plugin optimizer for device_type GPU is enabled.\n"
     ]
    },
    {
     "data": {
      "text/plain": [
       "array([[-0.02746051]], dtype=float32)"
      ]
     },
     "execution_count": 15,
     "metadata": {},
     "output_type": "execute_result"
    }
   ],
   "source": [
    "# Try and make a prediction using our model\n",
    "y_pred = model.predict([17.0])\n",
    "y_pred"
   ]
  },
  {
   "cell_type": "markdown",
   "metadata": {},
   "source": [
    "## Improving our model"
   ]
  },
  {
   "cell_type": "markdown",
   "metadata": {},
   "source": [
    "We can improve our model by altering the steps we took to create a model.\n",
    "\n",
    "1. **Creating a model** - here we might add more layers, increase the number of hidden units (neurons) within each of the hidden layers, change the activation function of each layer.\n",
    "2. **Compiling a model** - here we might change the optimization function or perhaps the **learning rate** of the optimization function\n",
    "3. **Fitting a model** - here we might fit a model for more **epochs** (leave it training for longer) or on more data (give the model more data to learn on)"
   ]
  },
  {
   "cell_type": "code",
   "execution_count": 16,
   "metadata": {},
   "outputs": [
    {
     "name": "stdout",
     "output_type": "stream",
     "text": [
      "Epoch 1/100\n",
      "1/1 [==============================] - 0s 102ms/step - loss: 18.6057 - mae: 18.6057\n",
      "Epoch 2/100\n",
      "1/1 [==============================] - 0s 4ms/step - loss: 18.3244 - mae: 18.3244\n",
      "Epoch 3/100\n",
      "1/1 [==============================] - 0s 4ms/step - loss: 18.0432 - mae: 18.0432\n",
      "Epoch 4/100\n",
      "1/1 [==============================] - 0s 4ms/step - loss: 17.7619 - mae: 17.7619\n",
      "Epoch 5/100\n",
      "1/1 [==============================] - 0s 5ms/step - loss: 17.4807 - mae: 17.4807\n",
      "Epoch 6/100\n",
      "1/1 [==============================] - 0s 4ms/step - loss: 17.1994 - mae: 17.1994\n",
      "Epoch 7/100\n",
      "1/1 [==============================] - 0s 4ms/step - loss: 16.9182 - mae: 16.9182\n"
     ]
    },
    {
     "name": "stderr",
     "output_type": "stream",
     "text": [
      "2022-02-12 10:06:02.468190: I tensorflow/core/grappler/optimizers/custom_graph_optimizer_registry.cc:112] Plugin optimizer for device_type GPU is enabled.\n"
     ]
    },
    {
     "name": "stdout",
     "output_type": "stream",
     "text": [
      "Epoch 8/100\n",
      "1/1 [==============================] - 0s 4ms/step - loss: 16.6369 - mae: 16.6369\n",
      "Epoch 9/100\n",
      "1/1 [==============================] - 0s 4ms/step - loss: 16.3557 - mae: 16.3557\n",
      "Epoch 10/100\n",
      "1/1 [==============================] - 0s 5ms/step - loss: 16.0744 - mae: 16.0744\n",
      "Epoch 11/100\n",
      "1/1 [==============================] - 0s 4ms/step - loss: 15.7932 - mae: 15.7932\n",
      "Epoch 12/100\n",
      "1/1 [==============================] - 0s 4ms/step - loss: 15.5119 - mae: 15.5119\n",
      "Epoch 13/100\n",
      "1/1 [==============================] - 0s 4ms/step - loss: 15.2307 - mae: 15.2307\n",
      "Epoch 14/100\n",
      "1/1 [==============================] - 0s 4ms/step - loss: 14.9494 - mae: 14.9494\n",
      "Epoch 15/100\n",
      "1/1 [==============================] - 0s 4ms/step - loss: 14.7263 - mae: 14.7263\n",
      "Epoch 16/100\n",
      "1/1 [==============================] - 0s 5ms/step - loss: 14.5938 - mae: 14.5938\n",
      "Epoch 17/100\n",
      "1/1 [==============================] - 0s 4ms/step - loss: 14.4613 - mae: 14.4613\n",
      "Epoch 18/100\n",
      "1/1 [==============================] - 0s 4ms/step - loss: 14.3288 - mae: 14.3288\n",
      "Epoch 19/100\n",
      "1/1 [==============================] - 0s 4ms/step - loss: 14.1963 - mae: 14.1963\n",
      "Epoch 20/100\n",
      "1/1 [==============================] - 0s 5ms/step - loss: 14.0638 - mae: 14.0638\n",
      "Epoch 21/100\n",
      "1/1 [==============================] - 0s 4ms/step - loss: 13.9313 - mae: 13.9313\n",
      "Epoch 22/100\n",
      "1/1 [==============================] - 0s 4ms/step - loss: 13.7988 - mae: 13.7988\n",
      "Epoch 23/100\n",
      "1/1 [==============================] - 0s 4ms/step - loss: 13.6663 - mae: 13.6663\n",
      "Epoch 24/100\n",
      "1/1 [==============================] - 0s 4ms/step - loss: 13.5338 - mae: 13.5338\n",
      "Epoch 25/100\n",
      "1/1 [==============================] - 0s 4ms/step - loss: 13.4013 - mae: 13.4013\n",
      "Epoch 26/100\n",
      "1/1 [==============================] - 0s 5ms/step - loss: 13.2688 - mae: 13.2688\n",
      "Epoch 27/100\n",
      "1/1 [==============================] - 0s 4ms/step - loss: 13.1363 - mae: 13.1363\n",
      "Epoch 28/100\n",
      "1/1 [==============================] - 0s 5ms/step - loss: 13.0038 - mae: 13.0038\n",
      "Epoch 29/100\n",
      "1/1 [==============================] - 0s 5ms/step - loss: 12.8713 - mae: 12.8713\n",
      "Epoch 30/100\n",
      "1/1 [==============================] - 0s 4ms/step - loss: 12.7388 - mae: 12.7388\n",
      "Epoch 31/100\n",
      "1/1 [==============================] - 0s 4ms/step - loss: 12.6063 - mae: 12.6063\n",
      "Epoch 32/100\n",
      "1/1 [==============================] - 0s 4ms/step - loss: 12.4738 - mae: 12.4738\n",
      "Epoch 33/100\n",
      "1/1 [==============================] - 0s 5ms/step - loss: 12.3413 - mae: 12.3413\n",
      "Epoch 34/100\n",
      "1/1 [==============================] - 0s 4ms/step - loss: 12.2088 - mae: 12.2088\n",
      "Epoch 35/100\n",
      "1/1 [==============================] - 0s 4ms/step - loss: 12.0763 - mae: 12.0763\n",
      "Epoch 36/100\n",
      "1/1 [==============================] - 0s 4ms/step - loss: 11.9438 - mae: 11.9438\n",
      "Epoch 37/100\n",
      "1/1 [==============================] - 0s 5ms/step - loss: 11.8113 - mae: 11.8113\n",
      "Epoch 38/100\n",
      "1/1 [==============================] - 0s 5ms/step - loss: 11.6788 - mae: 11.6788\n",
      "Epoch 39/100\n",
      "1/1 [==============================] - 0s 4ms/step - loss: 11.5463 - mae: 11.5463\n",
      "Epoch 40/100\n",
      "1/1 [==============================] - 0s 4ms/step - loss: 11.4138 - mae: 11.4138\n",
      "Epoch 41/100\n",
      "1/1 [==============================] - 0s 5ms/step - loss: 11.2813 - mae: 11.2813\n",
      "Epoch 42/100\n",
      "1/1 [==============================] - 0s 4ms/step - loss: 11.1488 - mae: 11.1488\n",
      "Epoch 43/100\n",
      "1/1 [==============================] - 0s 5ms/step - loss: 11.0163 - mae: 11.0163\n",
      "Epoch 44/100\n",
      "1/1 [==============================] - 0s 4ms/step - loss: 10.8838 - mae: 10.8838\n",
      "Epoch 45/100\n",
      "1/1 [==============================] - 0s 4ms/step - loss: 10.7513 - mae: 10.7513\n",
      "Epoch 46/100\n",
      "1/1 [==============================] - 0s 5ms/step - loss: 10.6188 - mae: 10.6188\n",
      "Epoch 47/100\n",
      "1/1 [==============================] - 0s 4ms/step - loss: 10.4863 - mae: 10.4863\n",
      "Epoch 48/100\n",
      "1/1 [==============================] - 0s 4ms/step - loss: 10.3538 - mae: 10.3538\n",
      "Epoch 49/100\n",
      "1/1 [==============================] - 0s 6ms/step - loss: 10.2213 - mae: 10.2213\n",
      "Epoch 50/100\n",
      "1/1 [==============================] - 0s 4ms/step - loss: 10.0888 - mae: 10.0888\n",
      "Epoch 51/100\n",
      "1/1 [==============================] - 0s 4ms/step - loss: 9.9563 - mae: 9.9563\n",
      "Epoch 52/100\n",
      "1/1 [==============================] - 0s 5ms/step - loss: 9.8238 - mae: 9.8238\n",
      "Epoch 53/100\n",
      "1/1 [==============================] - 0s 4ms/step - loss: 9.6913 - mae: 9.6913\n",
      "Epoch 54/100\n",
      "1/1 [==============================] - 0s 4ms/step - loss: 9.5588 - mae: 9.5588\n",
      "Epoch 55/100\n",
      "1/1 [==============================] - 0s 4ms/step - loss: 9.4263 - mae: 9.4263\n",
      "Epoch 56/100\n",
      "1/1 [==============================] - 0s 5ms/step - loss: 9.2938 - mae: 9.2938\n",
      "Epoch 57/100\n",
      "1/1 [==============================] - 0s 5ms/step - loss: 9.1613 - mae: 9.1613\n",
      "Epoch 58/100\n",
      "1/1 [==============================] - 0s 5ms/step - loss: 9.0288 - mae: 9.0288\n",
      "Epoch 59/100\n",
      "1/1 [==============================] - 0s 5ms/step - loss: 8.8963 - mae: 8.8963\n",
      "Epoch 60/100\n",
      "1/1 [==============================] - 0s 4ms/step - loss: 8.7638 - mae: 8.7638\n",
      "Epoch 61/100\n",
      "1/1 [==============================] - 0s 5ms/step - loss: 8.6313 - mae: 8.6313\n",
      "Epoch 62/100\n",
      "1/1 [==============================] - 0s 5ms/step - loss: 8.4988 - mae: 8.4988\n",
      "Epoch 63/100\n",
      "1/1 [==============================] - 0s 4ms/step - loss: 8.3663 - mae: 8.3663\n",
      "Epoch 64/100\n",
      "1/1 [==============================] - 0s 5ms/step - loss: 8.2338 - mae: 8.2338\n",
      "Epoch 65/100\n",
      "1/1 [==============================] - 0s 4ms/step - loss: 8.1013 - mae: 8.1013\n",
      "Epoch 66/100\n",
      "1/1 [==============================] - 0s 4ms/step - loss: 7.9688 - mae: 7.9688\n",
      "Epoch 67/100\n",
      "1/1 [==============================] - 0s 6ms/step - loss: 7.8363 - mae: 7.8363\n",
      "Epoch 68/100\n",
      "1/1 [==============================] - 0s 4ms/step - loss: 7.7038 - mae: 7.7038\n",
      "Epoch 69/100\n",
      "1/1 [==============================] - 0s 4ms/step - loss: 7.5713 - mae: 7.5713\n",
      "Epoch 70/100\n",
      "1/1 [==============================] - 0s 4ms/step - loss: 7.4388 - mae: 7.4388\n",
      "Epoch 71/100\n",
      "1/1 [==============================] - 0s 4ms/step - loss: 7.3063 - mae: 7.3063\n",
      "Epoch 72/100\n",
      "1/1 [==============================] - 0s 5ms/step - loss: 7.1738 - mae: 7.1738\n",
      "Epoch 73/100\n",
      "1/1 [==============================] - 0s 4ms/step - loss: 7.0413 - mae: 7.0413\n",
      "Epoch 74/100\n",
      "1/1 [==============================] - 0s 4ms/step - loss: 6.9788 - mae: 6.9788\n",
      "Epoch 75/100\n",
      "1/1 [==============================] - 0s 5ms/step - loss: 6.9731 - mae: 6.9731\n",
      "Epoch 76/100\n",
      "1/1 [==============================] - 0s 4ms/step - loss: 6.9675 - mae: 6.9675\n",
      "Epoch 77/100\n",
      "1/1 [==============================] - 0s 5ms/step - loss: 6.9619 - mae: 6.9619\n",
      "Epoch 78/100\n",
      "1/1 [==============================] - 0s 4ms/step - loss: 6.9563 - mae: 6.9563\n",
      "Epoch 79/100\n",
      "1/1 [==============================] - 0s 4ms/step - loss: 6.9506 - mae: 6.9506\n",
      "Epoch 80/100\n",
      "1/1 [==============================] - 0s 5ms/step - loss: 6.9450 - mae: 6.9450\n",
      "Epoch 81/100\n",
      "1/1 [==============================] - 0s 4ms/step - loss: 6.9394 - mae: 6.9394\n",
      "Epoch 82/100\n",
      "1/1 [==============================] - 0s 5ms/step - loss: 6.9338 - mae: 6.9338\n",
      "Epoch 83/100\n",
      "1/1 [==============================] - 0s 5ms/step - loss: 6.9281 - mae: 6.9281\n",
      "Epoch 84/100\n",
      "1/1 [==============================] - 0s 4ms/step - loss: 6.9225 - mae: 6.9225\n",
      "Epoch 85/100\n",
      "1/1 [==============================] - 0s 5ms/step - loss: 6.9169 - mae: 6.9169\n",
      "Epoch 86/100\n",
      "1/1 [==============================] - 0s 4ms/step - loss: 6.9113 - mae: 6.9113\n",
      "Epoch 87/100\n",
      "1/1 [==============================] - 0s 4ms/step - loss: 6.9056 - mae: 6.9056\n",
      "Epoch 88/100\n",
      "1/1 [==============================] - 0s 5ms/step - loss: 6.9000 - mae: 6.9000\n",
      "Epoch 89/100\n",
      "1/1 [==============================] - 0s 4ms/step - loss: 6.8944 - mae: 6.8944\n",
      "Epoch 90/100\n",
      "1/1 [==============================] - 0s 5ms/step - loss: 6.8888 - mae: 6.8888\n",
      "Epoch 91/100\n",
      "1/1 [==============================] - 0s 4ms/step - loss: 6.8831 - mae: 6.8831\n",
      "Epoch 92/100\n",
      "1/1 [==============================] - 0s 4ms/step - loss: 6.8775 - mae: 6.8775\n",
      "Epoch 93/100\n",
      "1/1 [==============================] - 0s 5ms/step - loss: 6.8719 - mae: 6.8719\n",
      "Epoch 94/100\n",
      "1/1 [==============================] - 0s 4ms/step - loss: 6.8663 - mae: 6.8663\n",
      "Epoch 95/100\n",
      "1/1 [==============================] - 0s 4ms/step - loss: 6.8606 - mae: 6.8606\n",
      "Epoch 96/100\n",
      "1/1 [==============================] - 0s 5ms/step - loss: 6.8550 - mae: 6.8550\n",
      "Epoch 97/100\n",
      "1/1 [==============================] - 0s 4ms/step - loss: 6.8494 - mae: 6.8494\n",
      "Epoch 98/100\n",
      "1/1 [==============================] - 0s 4ms/step - loss: 6.8438 - mae: 6.8438\n",
      "Epoch 99/100\n",
      "1/1 [==============================] - 0s 4ms/step - loss: 6.8381 - mae: 6.8381\n",
      "Epoch 100/100\n",
      "1/1 [==============================] - 0s 4ms/step - loss: 6.8325 - mae: 6.8325\n"
     ]
    },
    {
     "data": {
      "text/plain": [
       "<keras.callbacks.History at 0x283ab7dc0>"
      ]
     },
     "execution_count": 16,
     "metadata": {},
     "output_type": "execute_result"
    }
   ],
   "source": [
    "# Let's rebuild our model\n",
    "\n",
    "# 1. Create the model\n",
    "model = tf.keras.Sequential()\n",
    "model.add(tf.keras.layers.Dense(1))\n",
    "\n",
    "# 2. Compile the model\n",
    "model.compile(loss=tf.keras.losses.mae,\n",
    "              optimizer=tf.keras.optimizers.SGD(),\n",
    "              metrics=[\"mae\"])\n",
    "\n",
    "# 3. Fit the model (this time we'll train for longer)\n",
    "model.fit(tf.expand_dims(X, axis=-1), y, epochs=100)"
   ]
  },
  {
   "cell_type": "code",
   "execution_count": 17,
   "metadata": {},
   "outputs": [
    {
     "data": {
      "text/plain": [
       "(<tf.Tensor: shape=(8,), dtype=float32, numpy=array([-7., -4., -1.,  2.,  5.,  8., 11., 14.], dtype=float32)>,\n",
       " <tf.Tensor: shape=(8,), dtype=float32, numpy=array([ 3.,  6.,  9., 12., 15., 18., 21., 24.], dtype=float32)>)"
      ]
     },
     "execution_count": 17,
     "metadata": {},
     "output_type": "execute_result"
    }
   ],
   "source": [
    "# Remind ourselves of the data\n",
    "X, y"
   ]
  },
  {
   "cell_type": "code",
   "execution_count": 18,
   "metadata": {},
   "outputs": [
    {
     "name": "stderr",
     "output_type": "stream",
     "text": [
      "2022-02-12 10:06:03.198265: I tensorflow/core/grappler/optimizers/custom_graph_optimizer_registry.cc:112] Plugin optimizer for device_type GPU is enabled.\n"
     ]
    },
    {
     "data": {
      "text/plain": [
       "array([[29.536253]], dtype=float32)"
      ]
     },
     "execution_count": 18,
     "metadata": {},
     "output_type": "execute_result"
    }
   ],
   "source": [
    "# Let's see if our model's prediction has improved\n",
    "model.predict([17.0])"
   ]
  },
  {
   "cell_type": "code",
   "execution_count": 19,
   "metadata": {},
   "outputs": [
    {
     "name": "stdout",
     "output_type": "stream",
     "text": [
      "Epoch 1/100\n"
     ]
    },
    {
     "name": "stderr",
     "output_type": "stream",
     "text": [
      "2022-02-12 10:06:03.349518: I tensorflow/core/grappler/optimizers/custom_graph_optimizer_registry.cc:112] Plugin optimizer for device_type GPU is enabled.\n"
     ]
    },
    {
     "name": "stdout",
     "output_type": "stream",
     "text": [
      "1/1 [==============================] - 0s 160ms/step - loss: 13.6434 - mae: 13.6434\n",
      "Epoch 2/100\n",
      "1/1 [==============================] - 0s 5ms/step - loss: 12.9011 - mae: 12.9011\n",
      "Epoch 3/100\n",
      "1/1 [==============================] - 0s 5ms/step - loss: 12.1557 - mae: 12.1557\n",
      "Epoch 4/100\n",
      "1/1 [==============================] - 0s 5ms/step - loss: 11.4070 - mae: 11.4070\n",
      "Epoch 5/100\n",
      "1/1 [==============================] - 0s 5ms/step - loss: 10.6540 - mae: 10.6540\n",
      "Epoch 6/100\n",
      "1/1 [==============================] - 0s 5ms/step - loss: 9.8949 - mae: 9.8949\n",
      "Epoch 7/100\n",
      "1/1 [==============================] - 0s 5ms/step - loss: 9.1275 - mae: 9.1275\n",
      "Epoch 8/100\n",
      "1/1 [==============================] - 0s 6ms/step - loss: 8.3493 - mae: 8.3493\n",
      "Epoch 9/100\n",
      "1/1 [==============================] - 0s 5ms/step - loss: 7.5570 - mae: 7.5570\n",
      "Epoch 10/100\n",
      "1/1 [==============================] - 0s 5ms/step - loss: 6.7473 - mae: 6.7473\n",
      "Epoch 11/100\n",
      "1/1 [==============================] - 0s 5ms/step - loss: 6.6650 - mae: 6.6650\n",
      "Epoch 12/100\n",
      "1/1 [==============================] - 0s 5ms/step - loss: 7.0083 - mae: 7.0083\n",
      "Epoch 13/100\n",
      "1/1 [==============================] - 0s 6ms/step - loss: 7.2506 - mae: 7.2506\n",
      "Epoch 14/100\n",
      "1/1 [==============================] - 0s 5ms/step - loss: 7.4318 - mae: 7.4318\n",
      "Epoch 15/100\n",
      "1/1 [==============================] - 0s 5ms/step - loss: 7.3985 - mae: 7.3985\n",
      "Epoch 16/100\n",
      "1/1 [==============================] - 0s 5ms/step - loss: 7.2016 - mae: 7.2016\n",
      "Epoch 17/100\n",
      "1/1 [==============================] - 0s 5ms/step - loss: 6.8876 - mae: 6.8876\n",
      "Epoch 18/100\n",
      "1/1 [==============================] - 0s 5ms/step - loss: 6.6488 - mae: 6.6488\n",
      "Epoch 19/100\n",
      "1/1 [==============================] - 0s 5ms/step - loss: 6.3895 - mae: 6.3895\n",
      "Epoch 20/100\n",
      "1/1 [==============================] - 0s 6ms/step - loss: 6.1143 - mae: 6.1143\n",
      "Epoch 21/100\n",
      "1/1 [==============================] - 0s 5ms/step - loss: 5.9241 - mae: 5.9241\n",
      "Epoch 22/100\n",
      "1/1 [==============================] - 0s 5ms/step - loss: 5.8702 - mae: 5.8702\n",
      "Epoch 23/100\n",
      "1/1 [==============================] - 0s 5ms/step - loss: 5.8947 - mae: 5.8947\n",
      "Epoch 24/100\n",
      "1/1 [==============================] - 0s 7ms/step - loss: 5.9483 - mae: 5.9483\n",
      "Epoch 25/100\n",
      "1/1 [==============================] - 0s 5ms/step - loss: 5.8998 - mae: 5.8998\n",
      "Epoch 26/100\n",
      "1/1 [==============================] - 0s 6ms/step - loss: 5.7615 - mae: 5.7615\n",
      "Epoch 27/100\n",
      "1/1 [==============================] - 0s 5ms/step - loss: 5.5423 - mae: 5.5423\n",
      "Epoch 28/100\n",
      "1/1 [==============================] - 0s 5ms/step - loss: 5.3546 - mae: 5.3546\n",
      "Epoch 29/100\n",
      "1/1 [==============================] - 0s 5ms/step - loss: 5.2401 - mae: 5.2401\n",
      "Epoch 30/100\n",
      "1/1 [==============================] - 0s 5ms/step - loss: 5.1222 - mae: 5.1222\n",
      "Epoch 31/100\n",
      "1/1 [==============================] - 0s 6ms/step - loss: 5.1322 - mae: 5.1322\n",
      "Epoch 32/100\n",
      "1/1 [==============================] - 0s 5ms/step - loss: 5.1038 - mae: 5.1038\n",
      "Epoch 33/100\n",
      "1/1 [==============================] - 0s 5ms/step - loss: 5.0314 - mae: 5.0314\n",
      "Epoch 34/100\n",
      "1/1 [==============================] - 0s 6ms/step - loss: 4.9186 - mae: 4.9186\n",
      "Epoch 35/100\n",
      "1/1 [==============================] - 0s 5ms/step - loss: 4.7686 - mae: 4.7686\n",
      "Epoch 36/100\n",
      "1/1 [==============================] - 0s 5ms/step - loss: 4.5847 - mae: 4.5847\n",
      "Epoch 37/100\n",
      "1/1 [==============================] - 0s 4ms/step - loss: 4.3699 - mae: 4.3699\n",
      "Epoch 38/100\n",
      "1/1 [==============================] - 0s 5ms/step - loss: 4.2613 - mae: 4.2613\n",
      "Epoch 39/100\n",
      "1/1 [==============================] - 0s 6ms/step - loss: 4.1563 - mae: 4.1563\n",
      "Epoch 40/100\n",
      "1/1 [==============================] - 0s 5ms/step - loss: 4.1373 - mae: 4.1373\n",
      "Epoch 41/100\n",
      "1/1 [==============================] - 0s 6ms/step - loss: 4.0409 - mae: 4.0409\n",
      "Epoch 42/100\n",
      "1/1 [==============================] - 0s 5ms/step - loss: 3.8299 - mae: 3.8299\n",
      "Epoch 43/100\n",
      "1/1 [==============================] - 0s 5ms/step - loss: 3.5961 - mae: 3.5961\n",
      "Epoch 44/100\n",
      "1/1 [==============================] - 0s 5ms/step - loss: 3.4238 - mae: 3.4238\n",
      "Epoch 45/100\n",
      "1/1 [==============================] - 0s 5ms/step - loss: 3.3177 - mae: 3.3177\n",
      "Epoch 46/100\n",
      "1/1 [==============================] - 0s 6ms/step - loss: 3.2172 - mae: 3.2172\n",
      "Epoch 47/100\n",
      "1/1 [==============================] - 0s 5ms/step - loss: 3.0653 - mae: 3.0653\n",
      "Epoch 48/100\n",
      "1/1 [==============================] - 0s 5ms/step - loss: 2.8648 - mae: 2.8648\n",
      "Epoch 49/100\n",
      "1/1 [==============================] - 0s 5ms/step - loss: 2.6184 - mae: 2.6184\n",
      "Epoch 50/100\n",
      "1/1 [==============================] - 0s 4ms/step - loss: 2.3993 - mae: 2.3993\n",
      "Epoch 51/100\n",
      "1/1 [==============================] - 0s 5ms/step - loss: 2.2437 - mae: 2.2437\n",
      "Epoch 52/100\n",
      "1/1 [==============================] - 0s 5ms/step - loss: 2.0615 - mae: 2.0615\n",
      "Epoch 53/100\n",
      "1/1 [==============================] - 0s 6ms/step - loss: 1.7999 - mae: 1.7999\n",
      "Epoch 54/100\n",
      "1/1 [==============================] - 0s 5ms/step - loss: 1.5896 - mae: 1.5896\n",
      "Epoch 55/100\n",
      "1/1 [==============================] - 0s 5ms/step - loss: 1.3952 - mae: 1.3952\n",
      "Epoch 56/100\n",
      "1/1 [==============================] - 0s 6ms/step - loss: 1.1402 - mae: 1.1402\n",
      "Epoch 57/100\n",
      "1/1 [==============================] - 0s 6ms/step - loss: 0.8840 - mae: 0.8840\n",
      "Epoch 58/100\n",
      "1/1 [==============================] - 0s 5ms/step - loss: 0.7437 - mae: 0.7437\n",
      "Epoch 59/100\n",
      "1/1 [==============================] - 0s 5ms/step - loss: 0.4391 - mae: 0.4391\n",
      "Epoch 60/100\n",
      "1/1 [==============================] - 0s 7ms/step - loss: 0.2463 - mae: 0.2463\n",
      "Epoch 61/100\n",
      "1/1 [==============================] - 0s 5ms/step - loss: 0.2419 - mae: 0.2419\n",
      "Epoch 62/100\n",
      "1/1 [==============================] - 0s 5ms/step - loss: 0.4284 - mae: 0.4284\n",
      "Epoch 63/100\n",
      "1/1 [==============================] - 0s 5ms/step - loss: 0.5635 - mae: 0.5635\n",
      "Epoch 64/100\n",
      "1/1 [==============================] - 0s 6ms/step - loss: 0.6236 - mae: 0.6236\n",
      "Epoch 65/100\n",
      "1/1 [==============================] - 0s 5ms/step - loss: 0.7014 - mae: 0.7014\n",
      "Epoch 66/100\n",
      "1/1 [==============================] - 0s 5ms/step - loss: 0.7077 - mae: 0.7077\n",
      "Epoch 67/100\n",
      "1/1 [==============================] - 0s 5ms/step - loss: 0.6900 - mae: 0.6900\n",
      "Epoch 68/100\n",
      "1/1 [==============================] - 0s 5ms/step - loss: 0.6320 - mae: 0.6320\n",
      "Epoch 69/100\n",
      "1/1 [==============================] - 0s 6ms/step - loss: 0.6109 - mae: 0.6109\n",
      "Epoch 70/100\n",
      "1/1 [==============================] - 0s 5ms/step - loss: 0.4394 - mae: 0.4394\n",
      "Epoch 71/100\n",
      "1/1 [==============================] - 0s 6ms/step - loss: 0.4067 - mae: 0.4067\n",
      "Epoch 72/100\n",
      "1/1 [==============================] - 0s 5ms/step - loss: 0.2206 - mae: 0.2206\n",
      "Epoch 73/100\n",
      "1/1 [==============================] - 0s 5ms/step - loss: 0.2206 - mae: 0.2206\n",
      "Epoch 74/100\n",
      "1/1 [==============================] - 0s 6ms/step - loss: 0.2136 - mae: 0.2136\n",
      "Epoch 75/100\n",
      "1/1 [==============================] - 0s 5ms/step - loss: 0.3379 - mae: 0.3379\n",
      "Epoch 76/100\n",
      "1/1 [==============================] - 0s 6ms/step - loss: 0.4656 - mae: 0.4656\n",
      "Epoch 77/100\n",
      "1/1 [==============================] - 0s 4ms/step - loss: 0.4197 - mae: 0.4197\n",
      "Epoch 78/100\n",
      "1/1 [==============================] - 0s 6ms/step - loss: 0.3245 - mae: 0.3245\n",
      "Epoch 79/100\n",
      "1/1 [==============================] - 0s 5ms/step - loss: 0.4112 - mae: 0.4112\n",
      "Epoch 80/100\n",
      "1/1 [==============================] - 0s 5ms/step - loss: 0.2722 - mae: 0.2722\n",
      "Epoch 81/100\n",
      "1/1 [==============================] - 0s 5ms/step - loss: 0.2846 - mae: 0.2846\n",
      "Epoch 82/100\n",
      "1/1 [==============================] - 0s 4ms/step - loss: 0.3124 - mae: 0.3124\n",
      "Epoch 83/100\n",
      "1/1 [==============================] - 0s 6ms/step - loss: 0.1015 - mae: 0.1015\n",
      "Epoch 84/100\n",
      "1/1 [==============================] - 0s 4ms/step - loss: 0.4032 - mae: 0.4032\n",
      "Epoch 85/100\n",
      "1/1 [==============================] - 0s 4ms/step - loss: 0.5461 - mae: 0.5461\n",
      "Epoch 86/100\n",
      "1/1 [==============================] - 0s 5ms/step - loss: 0.4135 - mae: 0.4135\n",
      "Epoch 87/100\n",
      "1/1 [==============================] - 0s 4ms/step - loss: 0.1990 - mae: 0.1990\n",
      "Epoch 88/100\n",
      "1/1 [==============================] - 0s 6ms/step - loss: 0.5411 - mae: 0.5411\n",
      "Epoch 89/100\n",
      "1/1 [==============================] - 0s 5ms/step - loss: 0.6871 - mae: 0.6871\n",
      "Epoch 90/100\n",
      "1/1 [==============================] - 0s 5ms/step - loss: 0.5299 - mae: 0.5299\n",
      "Epoch 91/100\n",
      "1/1 [==============================] - 0s 5ms/step - loss: 0.1196 - mae: 0.1196\n",
      "Epoch 92/100\n",
      "1/1 [==============================] - 0s 4ms/step - loss: 0.5175 - mae: 0.5175\n",
      "Epoch 93/100\n",
      "1/1 [==============================] - 0s 5ms/step - loss: 0.7983 - mae: 0.7983\n",
      "Epoch 94/100\n",
      "1/1 [==============================] - 0s 5ms/step - loss: 0.7762 - mae: 0.7762\n",
      "Epoch 95/100\n",
      "1/1 [==============================] - 0s 6ms/step - loss: 0.4897 - mae: 0.4897\n",
      "Epoch 96/100\n",
      "1/1 [==============================] - 0s 5ms/step - loss: 0.1635 - mae: 0.1635\n",
      "Epoch 97/100\n",
      "1/1 [==============================] - 0s 5ms/step - loss: 0.3690 - mae: 0.3690\n",
      "Epoch 98/100\n",
      "1/1 [==============================] - 0s 5ms/step - loss: 0.4041 - mae: 0.4041\n",
      "Epoch 99/100\n",
      "1/1 [==============================] - 0s 4ms/step - loss: 0.1955 - mae: 0.1955\n",
      "Epoch 100/100\n",
      "1/1 [==============================] - 0s 5ms/step - loss: 0.2286 - mae: 0.2286\n"
     ]
    },
    {
     "data": {
      "text/plain": [
       "<keras.callbacks.History at 0x283cc9b20>"
      ]
     },
     "execution_count": 19,
     "metadata": {},
     "output_type": "execute_result"
    }
   ],
   "source": [
    "# Let's see if we can make another change to improve our model\n",
    "\n",
    "# 1. Create the model\n",
    "model = tf.keras.Sequential()\n",
    "model.add(tf.keras.layers.Dense(50, activation=None))\n",
    "model.add(tf.keras.layers.Dense(1))\n",
    "\n",
    "# 2. Compile the model\n",
    "model.compile(loss=tf.keras.losses.mae,\n",
    "              optimizer=tf.keras.optimizers.Adam(learning_rate=0.01),\n",
    "              metrics=[\"mae\"])\n",
    "\n",
    "# 3. Fit the model\n",
    "model.fit(tf.expand_dims(X, axis=-1), y, epochs=100)"
   ]
  },
  {
   "cell_type": "code",
   "execution_count": 20,
   "metadata": {},
   "outputs": [
    {
     "data": {
      "text/plain": [
       "(<tf.Tensor: shape=(8,), dtype=float32, numpy=array([-7., -4., -1.,  2.,  5.,  8., 11., 14.], dtype=float32)>,\n",
       " <tf.Tensor: shape=(8,), dtype=float32, numpy=array([ 3.,  6.,  9., 12., 15., 18., 21., 24.], dtype=float32)>)"
      ]
     },
     "execution_count": 20,
     "metadata": {},
     "output_type": "execute_result"
    }
   ],
   "source": [
    "# Let's remind ourselves of the data\n",
    "X, y"
   ]
  },
  {
   "cell_type": "code",
   "execution_count": 21,
   "metadata": {},
   "outputs": [
    {
     "name": "stderr",
     "output_type": "stream",
     "text": [
      "2022-02-12 10:06:04.194037: I tensorflow/core/grappler/optimizers/custom_graph_optimizer_registry.cc:112] Plugin optimizer for device_type GPU is enabled.\n"
     ]
    },
    {
     "data": {
      "text/plain": [
       "array([[27.898079]], dtype=float32)"
      ]
     },
     "execution_count": 21,
     "metadata": {},
     "output_type": "execute_result"
    }
   ],
   "source": [
    "# Let's try to make a prediction\n",
    "model.predict([17.0])"
   ]
  },
  {
   "cell_type": "markdown",
   "metadata": {},
   "source": [
    "## Evaluating a model"
   ]
  },
  {
   "cell_type": "markdown",
   "metadata": {},
   "source": [
    "In practice a typical workflow you'll go through when building neural networks is:\n",
    "\n",
    "```\n",
    "Build a model -> fit it -> evaluate it -> tweak a model -> fit it -> evaluate it -> tweak a model -> fit it -> evaluate it ...\n",
    "```\n"
   ]
  },
  {
   "cell_type": "markdown",
   "metadata": {},
   "source": [
    "When it comes to evaluation.. there are 3 words you should memorize:\n",
    "\n",
    "> \"Visualize, visualize, visualize\"\n",
    "\n",
    "\n",
    "It's a good idea to visualize:\n",
    "* The data - what data are we working with? What does it look like?\n",
    "* The model itself - what does our model look like?\n",
    "* The training of a model - how does a model perform while it learns?\n",
    "* The predictions of the model - How do the model's predictions line up against the ground truth?\n",
    "  "
   ]
  },
  {
   "cell_type": "code",
   "execution_count": 22,
   "metadata": {},
   "outputs": [
    {
     "data": {
      "text/plain": [
       "<tf.Tensor: shape=(50,), dtype=int32, numpy=\n",
       "array([-100,  -96,  -92,  -88,  -84,  -80,  -76,  -72,  -68,  -64,  -60,\n",
       "        -56,  -52,  -48,  -44,  -40,  -36,  -32,  -28,  -24,  -20,  -16,\n",
       "        -12,   -8,   -4,    0,    4,    8,   12,   16,   20,   24,   28,\n",
       "         32,   36,   40,   44,   48,   52,   56,   60,   64,   68,   72,\n",
       "         76,   80,   84,   88,   92,   96], dtype=int32)>"
      ]
     },
     "execution_count": 22,
     "metadata": {},
     "output_type": "execute_result"
    }
   ],
   "source": [
    "# Make a bigger dataset\n",
    "X = tf.range(-100, 100, 4)\n",
    "X"
   ]
  },
  {
   "cell_type": "code",
   "execution_count": 23,
   "metadata": {},
   "outputs": [
    {
     "data": {
      "text/plain": [
       "<tf.Tensor: shape=(50,), dtype=int32, numpy=\n",
       "array([-90, -86, -82, -78, -74, -70, -66, -62, -58, -54, -50, -46, -42,\n",
       "       -38, -34, -30, -26, -22, -18, -14, -10,  -6,  -2,   2,   6,  10,\n",
       "        14,  18,  22,  26,  30,  34,  38,  42,  46,  50,  54,  58,  62,\n",
       "        66,  70,  74,  78,  82,  86,  90,  94,  98, 102, 106], dtype=int32)>"
      ]
     },
     "execution_count": 23,
     "metadata": {},
     "output_type": "execute_result"
    }
   ],
   "source": [
    "# Make labels for the dataset\n",
    "y = X + 10\n",
    "y"
   ]
  },
  {
   "cell_type": "code",
   "execution_count": 24,
   "metadata": {},
   "outputs": [
    {
     "data": {
      "image/png": "[encoded data removed]",
      "text/plain": [
       "<Figure size 432x288 with 1 Axes>"
      ]
     },
     "metadata": {
      "needs_background": "light"
     },
     "output_type": "display_data"
    }
   ],
   "source": [
    "# Visualize the data\n",
    "import matplotlib.pyplot as plt\n",
    "\n",
    "plt.scatter(X, y);"
   ]
  },
  {
   "cell_type": "markdown",
   "metadata": {},
   "source": [
    "### The 3 sets..."
   ]
  },
  {
   "cell_type": "markdown",
   "metadata": {},
   "source": [
    "* **Training set** - the model learns from this data, which is typically 70-80% of the total data you have avaliavle.\n",
    "* **Validation set** - the model gets tuned on this data, which typically is 10-15% of the data avaliable.\n",
    "* **Test set** - the model gets evaluate on this data to test what it has learned. This set is typically 10-15% of the total data avaliable."
   ]
  },
  {
   "cell_type": "code",
   "execution_count": 25,
   "metadata": {},
   "outputs": [
    {
     "data": {
      "text/plain": [
       "50"
      ]
     },
     "execution_count": 25,
     "metadata": {},
     "output_type": "execute_result"
    }
   ],
   "source": [
    "# Check the length of how many samples we have\n",
    "len(X)"
   ]
  },
  {
   "cell_type": "code",
   "execution_count": 26,
   "metadata": {},
   "outputs": [
    {
     "data": {
      "text/plain": [
       "(40, 10, 40, 10)"
      ]
     },
     "execution_count": 26,
     "metadata": {},
     "output_type": "execute_result"
    }
   ],
   "source": [
    "# Split the data into train and test sets\n",
    "X_train = X[:40]  # first 40 are training samples (80%)\n",
    "y_train = y[:40]\n",
    "\n",
    "X_test = X[40:] # last 10 are testing samples (20%)\n",
    "y_test = y[40:]\n",
    "\n",
    "len(X_train), len(X_test), len(y_train), len(y_test)"
   ]
  },
  {
   "cell_type": "markdown",
   "metadata": {},
   "source": [
    "### Visualizing the data"
   ]
  },
  {
   "cell_type": "markdown",
   "metadata": {},
   "source": [
    "Now we've got our data in training and test sets... let's visualize it again!"
   ]
  },
  {
   "cell_type": "code",
   "execution_count": 27,
   "metadata": {},
   "outputs": [
    {
     "data": {
      "image/png": "[encoded data removed]",
      "text/plain": [
       "<Figure size 720x504 with 1 Axes>"
      ]
     },
     "metadata": {
      "needs_background": "light"
     },
     "output_type": "display_data"
    }
   ],
   "source": [
    "plt.figure(figsize=(10, 7))\n",
    "# Plot training data in blue\n",
    "plt.scatter(X_train, y_train, c=\"blue\", label=\"Training data\")\n",
    "# Plot test data in green\n",
    "plt.scatter(X_test, y_test, c=\"green\", label=\"Testing data\")\n",
    "# Show a legend\n",
    "plt.legend();"
   ]
  },
  {
   "cell_type": "code",
   "execution_count": 28,
   "metadata": {},
   "outputs": [],
   "source": [
    "# Let's have a look at how to build a neural network for our data\n",
    "\n",
    "# 1. Create a model\n",
    "model = tf.keras.Sequential()\n",
    "model.add(tf.keras.layers.Dense(1))\n",
    "\n",
    "# 2. Compile the model\n",
    "model.compile(loss=tf.keras.losses.mae,\n",
    "              optimizer=tf.keras.optimizers.SGD(),\n",
    "              metrics=[\"mae\"])\n",
    "\n",
    "# 3. Fit the model\n",
    "#model.fit(tf.expand_dims(X_train, axis=-1), y_train, epochs=100)"
   ]
  },
  {
   "cell_type": "markdown",
   "metadata": {},
   "source": [
    "### Visualizing the model"
   ]
  },
  {
   "cell_type": "code",
   "execution_count": 29,
   "metadata": {},
   "outputs": [
    {
     "ename": "ValueError",
     "evalue": "This model has not yet been built. Build the model first by calling `build()` or by calling the model on a batch of data.",
     "output_type": "error",
     "traceback": [
      "\u001b[0;31m---------------------------------------------------------------------------\u001b[0m",
      "\u001b[0;31mValueError\u001b[0m                                Traceback (most recent call last)",
      "\u001b[0;32m/var/folders/1q/dk98nx5j4h5cdr90cljwlyj00000gn/T/ipykernel_33934/3470139634.py\u001b[0m in \u001b[0;36m<module>\u001b[0;34m\u001b[0m\n\u001b[0;32m----> 1\u001b[0;31m \u001b[0mmodel\u001b[0m\u001b[0;34m.\u001b[0m\u001b[0msummary\u001b[0m\u001b[0;34m(\u001b[0m\u001b[0;34m)\u001b[0m\u001b[0;34m\u001b[0m\u001b[0;34m\u001b[0m\u001b[0m\n\u001b[0m",
      "\u001b[0;32m~/Projects/introduction-to-tensorflow/env/lib/python3.9/site-packages/keras/engine/training.py\u001b[0m in \u001b[0;36msummary\u001b[0;34m(self, line_length, positions, print_fn, expand_nested)\u001b[0m\n\u001b[1;32m   2577\u001b[0m     \"\"\"\n\u001b[1;32m   2578\u001b[0m     \u001b[0;32mif\u001b[0m \u001b[0;32mnot\u001b[0m \u001b[0mself\u001b[0m\u001b[0;34m.\u001b[0m\u001b[0mbuilt\u001b[0m\u001b[0;34m:\u001b[0m\u001b[0;34m\u001b[0m\u001b[0;34m\u001b[0m\u001b[0m\n\u001b[0;32m-> 2579\u001b[0;31m       raise ValueError(\n\u001b[0m\u001b[1;32m   2580\u001b[0m           \u001b[0;34m'This model has not yet been built. '\u001b[0m\u001b[0;34m\u001b[0m\u001b[0;34m\u001b[0m\u001b[0m\n\u001b[1;32m   2581\u001b[0m           \u001b[0;34m'Build the model first by calling `build()` or by calling '\u001b[0m\u001b[0;34m\u001b[0m\u001b[0;34m\u001b[0m\u001b[0m\n",
      "\u001b[0;31mValueError\u001b[0m: This model has not yet been built. Build the model first by calling `build()` or by calling the model on a batch of data."
     ]
    }
   ],
   "source": [
    "model.summary()"
   ]
  },
  {
   "cell_type": "code",
   "execution_count": 89,
   "metadata": {},
   "outputs": [
    {
     "name": "stderr",
     "output_type": "stream",
     "text": [
      "/Users/hartlden/Projects/introduction-to-tensorflow/env/lib/python3.9/site-packages/keras/optimizer_v2/adam.py:105: UserWarning: The `lr` argument is deprecated, use `learning_rate` instead.\n",
      "  super(Adam, self).__init__(name, **kwargs)\n"
     ]
    }
   ],
   "source": [
    "# Let's create model which builds automatically by defining the input shape in the first layer\n",
    "tf.random.set_seed(42)\n",
    "\n",
    "# 1. Create a model\n",
    "model = tf.keras.Sequential(name=\"model_1\")\n",
    "model.add(tf.keras.layers.Dense(20, input_shape=[1], name=\"input_layer\"))\n",
    "model.add(tf.keras.layers.Dense(20, name=\"input_layer_2\"))\n",
    "model.add(tf.keras.layers.Dense(1, name=\"output_layer\"))\n",
    "\n",
    "# 2. Compile the model\n",
    "model.compile(loss=tf.keras.losses.mae,\n",
    "              optimizer=tf.keras.optimizers.Adam(lr=0.01),\n",
    "              metrics=[\"mae\"])"
   ]
  },
  {
   "cell_type": "code",
   "execution_count": 90,
   "metadata": {},
   "outputs": [
    {
     "name": "stdout",
     "output_type": "stream",
     "text": [
      "Model: \"model_1\"\n",
      "_________________________________________________________________\n",
      " Layer (type)                Output Shape              Param #   \n",
      "=================================================================\n",
      " input_layer (Dense)         (None, 20)                40        \n",
      "                                                                 \n",
      " input_layer_2 (Dense)       (None, 20)                420       \n",
      "                                                                 \n",
      " output_layer (Dense)        (None, 1)                 21        \n",
      "                                                                 \n",
      "=================================================================\n",
      "Total params: 481\n",
      "Trainable params: 481\n",
      "Non-trainable params: 0\n",
      "_________________________________________________________________\n"
     ]
    }
   ],
   "source": [
    "model.summary()"
   ]
  },
  {
   "cell_type": "markdown",
   "metadata": {},
   "source": [
    "* Total params - total number of parameters in the model.\n",
    "* Trainable parameters - these are the parameters (patterns) the model can update as it trains.\n",
    "* Non-trainable params - The parameters aren't update during training. This is typical when you bring in parameters from other models during **transfer learning**.\n",
    "\n",
    "📖 **Resource:** For a more in-depth overview of the trainable parameters within a layer, check out MIT's introduction to Deep Learning video.\n",
    "\n",
    "🛠 **Exercise:** Try playing around with the number of hidden units in the dense layer, see how that effects the number of parameters."
   ]
  },
  {
   "cell_type": "code",
   "execution_count": 91,
   "metadata": {},
   "outputs": [
    {
     "name": "stderr",
     "output_type": "stream",
     "text": [
      "2022-02-12 10:09:37.959891: I tensorflow/core/grappler/optimizers/custom_graph_optimizer_registry.cc:112] Plugin optimizer for device_type GPU is enabled.\n"
     ]
    },
    {
     "data": {
      "text/plain": [
       "<keras.callbacks.History at 0x2823882e0>"
      ]
     },
     "execution_count": 91,
     "metadata": {},
     "output_type": "execute_result"
    }
   ],
   "source": [
    "# Let's fit our model to the training data\n",
    "model.fit(tf.expand_dims(X_train, axis=-1), y_train, epochs=100, verbose=0)"
   ]
  },
  {
   "cell_type": "code",
   "execution_count": 92,
   "metadata": {},
   "outputs": [
    {
     "data": {
      "image/png": "[encoded data removed]",
      "text/plain": [
       "<IPython.core.display.Image object>"
      ]
     },
     "execution_count": 92,
     "metadata": {},
     "output_type": "execute_result"
    }
   ],
   "source": [
    "from tensorflow.keras.utils import plot_model\n",
    "\n",
    "plot_model(model=model, show_shapes=True)"
   ]
  },
  {
   "cell_type": "markdown",
   "metadata": {},
   "source": [
    "### Visualize our models's predictions"
   ]
  },
  {
   "cell_type": "markdown",
   "metadata": {},
   "source": [
    "To visualize predictions, it's a good idea to plot them against the ground truth labels.\n",
    "\n",
    "Often you'll see this in the form of `y_test` or `y_true` versus `y_pred` (ground truth versus your model's predictions)."
   ]
  },
  {
   "cell_type": "code",
   "execution_count": 93,
   "metadata": {},
   "outputs": [
    {
     "name": "stderr",
     "output_type": "stream",
     "text": [
      "2022-02-12 10:09:41.522749: I tensorflow/core/grappler/optimizers/custom_graph_optimizer_registry.cc:112] Plugin optimizer for device_type GPU is enabled.\n"
     ]
    },
    {
     "data": {
      "text/plain": [
       "array([[ 69.670715],\n",
       "       [ 73.64897 ],\n",
       "       [ 77.62724 ],\n",
       "       [ 81.6055  ],\n",
       "       [ 85.58376 ],\n",
       "       [ 89.56202 ],\n",
       "       [ 93.54028 ],\n",
       "       [ 97.518555],\n",
       "       [101.49682 ],\n",
       "       [105.475075]], dtype=float32)"
      ]
     },
     "execution_count": 93,
     "metadata": {},
     "output_type": "execute_result"
    }
   ],
   "source": [
    "# Make some predictions\n",
    "y_pred = model.predict(X_test)\n",
    "y_pred"
   ]
  },
  {
   "cell_type": "code",
   "execution_count": 94,
   "metadata": {},
   "outputs": [
    {
     "data": {
      "text/plain": [
       "<tf.Tensor: shape=(10,), dtype=int32, numpy=array([ 70,  74,  78,  82,  86,  90,  94,  98, 102, 106], dtype=int32)>"
      ]
     },
     "execution_count": 94,
     "metadata": {},
     "output_type": "execute_result"
    }
   ],
   "source": [
    "y_test"
   ]
  },
  {
   "cell_type": "markdown",
   "metadata": {},
   "source": [
    "🔑 **Note:** If you feel like you're going to reuse some kind of functionality in the future, it's a good idea to turn it into a function."
   ]
  },
  {
   "cell_type": "code",
   "execution_count": 95,
   "metadata": {},
   "outputs": [],
   "source": [
    "# Let's create a plotting function\n",
    "def plot_predictions(train_data=X_train,\n",
    "                     train_labels=y_train,\n",
    "                     test_data=X_test,\n",
    "                     test_labels=y_test,\n",
    "                     predictions=y_pred):\n",
    "    \"\"\"\n",
    "    Plots training data, test data and compares predictions to ground truth labels.\n",
    "    \"\"\"\n",
    "    plt.figure(figsize=(10, 7))\n",
    "    # Plot training data in blue\n",
    "    plt.scatter(train_data, train_labels, c=\"b\", label=\"Training data\")\n",
    "    # Plot testing data in green\n",
    "    plt.scatter(test_data, test_labels, c=\"g\", label=\"Testind data\")\n",
    "    # Plot model's predictions in red\n",
    "    plt.scatter(test_data, predictions, c=\"r\", label=\"Predictions\")\n",
    "    # Show the legend\n",
    "    plt.legend();"
   ]
  },
  {
   "cell_type": "code",
   "execution_count": 96,
   "metadata": {},
   "outputs": [
    {
     "data": {
      "image/png": "[encoded data removed]",
      "text/plain": [
       "<Figure size 720x504 with 1 Axes>"
      ]
     },
     "metadata": {
      "needs_background": "light"
     },
     "output_type": "display_data"
    }
   ],
   "source": [
    "plot_predictions(train_data=X_train,\n",
    "                 train_labels=y_train,\n",
    "                 test_data=X_test,\n",
    "                 test_labels=y_test,\n",
    "                 predictions=y_pred)"
   ]
  },
  {
   "cell_type": "markdown",
   "metadata": {},
   "source": [
    "### Evaluating our model's predictions with regression evaluation metrics"
   ]
  },
  {
   "cell_type": "markdown",
   "metadata": {},
   "source": [
    "Depending on the problem you're working on, there will be different evaluation metrics to evaluate your model's performance.\n",
    "\n",
    "Since we're working on a regression problem, two of the main metrics are:\n",
    "* **MAE** - mean absolute error, \"on average, how wrong is each of my model's predictions\"\n",
    "* **MSE** - mean squared error, \"square the average errors\"\n",
    "  "
   ]
  },
  {
   "cell_type": "code",
   "execution_count": 101,
   "metadata": {},
   "outputs": [
    {
     "name": "stdout",
     "output_type": "stream",
     "text": [
      "1/1 [==============================] - 0s 13ms/step - loss: 0.4271 - mae: 0.4271\n"
     ]
    },
    {
     "data": {
      "text/plain": [
       "[0.42710572481155396, 0.42710572481155396]"
      ]
     },
     "execution_count": 101,
     "metadata": {},
     "output_type": "execute_result"
    }
   ],
   "source": [
    "# Evaluate the model on the test set\n",
    "model.evaluate(X_test, y_test)"
   ]
  },
  {
   "cell_type": "code",
   "execution_count": 142,
   "metadata": {},
   "outputs": [],
   "source": [
    "# Calculate the mean absolute error (my version)\n",
    "def my_mae(y_test=y_test, y_pred=y_pred):\n",
    "    mae = 0\n",
    "    for index, value in np.ndenumerate(y_pred):\n",
    "        mae = mae + np.abs(tf.cast(y_test[index[0]], dtype=tf.float32) - value)\n",
    "    return mae/len(y_test)"
   ]
  },
  {
   "cell_type": "code",
   "execution_count": 143,
   "metadata": {},
   "outputs": [
    {
     "data": {
      "text/plain": [
       "0.427105712890625"
      ]
     },
     "execution_count": 143,
     "metadata": {},
     "output_type": "execute_result"
    }
   ],
   "source": [
    "my_mae(y_test, y_pred)"
   ]
  },
  {
   "cell_type": "code",
   "execution_count": 140,
   "metadata": {},
   "outputs": [
    {
     "data": {
      "text/plain": [
       "(<tf.Tensor: shape=(10,), dtype=float32, numpy=\n",
       " array([18.329285, 15.080823, 12.623654, 10.957801, 10.083247, 10.      ,\n",
       "        10.708056, 12.207422, 14.498092, 17.580061], dtype=float32)>,\n",
       " TensorShape([10]),\n",
       " (10, 1))"
      ]
     },
     "execution_count": 140,
     "metadata": {},
     "output_type": "execute_result"
    }
   ],
   "source": [
    "# Calculate the mean absolute error (Daniel's version)\n",
    "mae = tf.metrics.mean_absolute_error(y_true=y_test,\n",
    "                                     y_pred=tf.constant(y_pred))\n",
    "mae, y_test.shape, y_pred.shape # This is wrong because y_test and y_pred are in different shapes"
   ]
  },
  {
   "cell_type": "code",
   "execution_count": 141,
   "metadata": {},
   "outputs": [
    {
     "data": {
      "text/plain": [
       "<tf.Tensor: shape=(), dtype=float32, numpy=0.42710572>"
      ]
     },
     "execution_count": 141,
     "metadata": {},
     "output_type": "execute_result"
    }
   ],
   "source": [
    "# Calculate the mean absolute error\n",
    "mae = tf.metrics.mean_absolute_error(y_true=y_test,\n",
    "                                     y_pred=tf.squeeze(y_pred))\n",
    "mae"
   ]
  },
  {
   "cell_type": "code",
   "execution_count": 144,
   "metadata": {},
   "outputs": [
    {
     "data": {
      "text/plain": [
       "<tf.Tensor: shape=(), dtype=float32, numpy=0.18631755>"
      ]
     },
     "execution_count": 144,
     "metadata": {},
     "output_type": "execute_result"
    }
   ],
   "source": [
    "# Calculate the mean square error\n",
    "mse = tf.metrics.mean_squared_error(y_true=y_test,\n",
    "                                    y_pred=tf.squeeze(y_pred))\n",
    "mse"
   ]
  },
  {
   "cell_type": "code",
   "execution_count": 167,
   "metadata": {},
   "outputs": [],
   "source": [
    "# Make some functions to reuse MAE and MSE\n",
    "def mae(y_true, y_pred):\n",
    "    return tf.metrics.mean_absolute_error(y_true=y_true,\n",
    "                                          y_pred=tf.squeeze(y_pred))\n",
    "    \n",
    "def mse(y_true, y_pred):\n",
    "    return tf.metrics.mean_squared_error(y_true=y_true,\n",
    "                                         y_pred=tf.squeeze(y_pred))"
   ]
  },
  {
   "cell_type": "markdown",
   "metadata": {},
   "source": [
    "### Running experiments to improve our model"
   ]
  },
  {
   "cell_type": "markdown",
   "metadata": {},
   "source": [
    "```\n",
    "Build a model -> fit it -> evaluate it -> tweak it -> fit it -> evaluate it -> tweak it -> fit it -> evaluate it ....\n",
    "```\n",
    "\n",
    "1. Get more data - get more examples for your model to train on (more opportunities to learn patterns or relationships between features and labels).\n",
    "2. Make your model larger (using a more complex model) - this might come in the form of more layers or more hidden units in each layer.\n",
    "3. Train for longer - give your model more of a chance to find patterns in the data.\n",
    "\n",
    "Let's do 3 modelling experiments:\n",
    "1. `model_1` - same as the original model, 1 layer, trained for 100 epochs.\n",
    "2. `model_2` - 2 layers, trained for 100 epochs\n",
    "3. `model_3` - 2 layers, trained for 500 epochs\n",
    "\n",
    "**Build `model_1`**"
   ]
  },
  {
   "cell_type": "code",
   "execution_count": 163,
   "metadata": {},
   "outputs": [
    {
     "name": "stdout",
     "output_type": "stream",
     "text": [
      "Epoch 1/100\n",
      "2/2 [==============================] - 0s 11ms/step - loss: 45.2757 - mae: 45.2757\n",
      "Epoch 2/100\n",
      "2/2 [==============================] - 0s 5ms/step - loss: 14.7306 - mae: 14.7306\n",
      "Epoch 3/100\n",
      "2/2 [==============================] - 0s 5ms/step - loss: 13.8314 - mae: 13.8314\n",
      "Epoch 4/100\n",
      "2/2 [==============================] - 0s 5ms/step - loss: 7.5791 - mae: 7.5791\n",
      "Epoch 5/100\n",
      "2/2 [==============================] - 0s 5ms/step - loss: 12.0204 - mae: 12.0204\n",
      "Epoch 6/100\n",
      "2/2 [==============================] - 0s 5ms/step - loss: 9.3012 - mae: 9.3012\n",
      "Epoch 7/100\n",
      "2/2 [==============================] - 0s 5ms/step - loss: 8.4637 - mae: 8.4637\n",
      "Epoch 8/100\n",
      "2/2 [==============================] - 0s 5ms/step - loss: 9.0439 - mae: 9.0439\n",
      "Epoch 9/100\n",
      "2/2 [==============================] - 0s 4ms/step - loss: 18.4674 - mae: 18.4674\n",
      "Epoch 10/100\n",
      "2/2 [==============================] - 0s 4ms/step - loss: 9.9626 - mae: 9.9626\n",
      "Epoch 11/100\n",
      "2/2 [==============================] - 0s 6ms/step - loss: 8.3446 - mae: 8.3446\n",
      "Epoch 12/100\n",
      "2/2 [==============================] - 0s 5ms/step - loss: 10.5443 - mae: 10.5443\n",
      "Epoch 13/100\n",
      "2/2 [==============================] - 0s 6ms/step - loss: 9.7558 - mae: 9.7558\n",
      "Epoch 14/100\n",
      "2/2 [==============================] - 0s 5ms/step - loss: 15.7062 - mae: 15.7062\n"
     ]
    },
    {
     "name": "stderr",
     "output_type": "stream",
     "text": [
      "2022-02-12 11:07:30.711774: I tensorflow/core/grappler/optimizers/custom_graph_optimizer_registry.cc:112] Plugin optimizer for device_type GPU is enabled.\n"
     ]
    },
    {
     "name": "stdout",
     "output_type": "stream",
     "text": [
      "Epoch 15/100\n",
      "2/2 [==============================] - 0s 5ms/step - loss: 11.6568 - mae: 11.6568\n",
      "Epoch 16/100\n",
      "2/2 [==============================] - 0s 5ms/step - loss: 8.4756 - mae: 8.4756\n",
      "Epoch 17/100\n",
      "2/2 [==============================] - 0s 5ms/step - loss: 13.4774 - mae: 13.4774\n",
      "Epoch 18/100\n",
      "2/2 [==============================] - 0s 11ms/step - loss: 11.2639 - mae: 11.2639\n",
      "Epoch 19/100\n",
      "2/2 [==============================] - 0s 6ms/step - loss: 18.2680 - mae: 18.2680\n",
      "Epoch 20/100\n",
      "2/2 [==============================] - 0s 5ms/step - loss: 14.9759 - mae: 14.9759\n",
      "Epoch 21/100\n",
      "2/2 [==============================] - 0s 5ms/step - loss: 10.8569 - mae: 10.8569\n",
      "Epoch 22/100\n",
      "2/2 [==============================] - 0s 6ms/step - loss: 8.6086 - mae: 8.6086\n",
      "Epoch 23/100\n",
      "2/2 [==============================] - 0s 5ms/step - loss: 9.7150 - mae: 9.7150\n",
      "Epoch 24/100\n",
      "2/2 [==============================] - 0s 5ms/step - loss: 10.9694 - mae: 10.9694\n",
      "Epoch 25/100\n",
      "2/2 [==============================] - 0s 5ms/step - loss: 9.1711 - mae: 9.1711\n",
      "Epoch 26/100\n",
      "2/2 [==============================] - 0s 6ms/step - loss: 13.2075 - mae: 13.2075\n",
      "Epoch 27/100\n",
      "2/2 [==============================] - 0s 6ms/step - loss: 10.6775 - mae: 10.6775\n",
      "Epoch 28/100\n",
      "2/2 [==============================] - 0s 5ms/step - loss: 12.9003 - mae: 12.9003\n",
      "Epoch 29/100\n",
      "2/2 [==============================] - 0s 5ms/step - loss: 9.5192 - mae: 9.5192\n",
      "Epoch 30/100\n",
      "2/2 [==============================] - 0s 6ms/step - loss: 16.4273 - mae: 16.4273\n",
      "Epoch 31/100\n",
      "2/2 [==============================] - 0s 5ms/step - loss: 23.5705 - mae: 23.5705\n",
      "Epoch 32/100\n",
      "2/2 [==============================] - 0s 5ms/step - loss: 7.6161 - mae: 7.6161\n",
      "Epoch 33/100\n",
      "2/2 [==============================] - 0s 5ms/step - loss: 9.3125 - mae: 9.3125\n",
      "Epoch 34/100\n",
      "2/2 [==============================] - 0s 5ms/step - loss: 13.6810 - mae: 13.6810\n",
      "Epoch 35/100\n",
      "2/2 [==============================] - 0s 5ms/step - loss: 11.1664 - mae: 11.1664\n",
      "Epoch 36/100\n",
      "2/2 [==============================] - 0s 6ms/step - loss: 13.3911 - mae: 13.3911\n",
      "Epoch 37/100\n",
      "2/2 [==============================] - 0s 6ms/step - loss: 9.4578 - mae: 9.4578\n",
      "Epoch 38/100\n",
      "2/2 [==============================] - 0s 5ms/step - loss: 10.1090 - mae: 10.1090\n",
      "Epoch 39/100\n",
      "2/2 [==============================] - 0s 5ms/step - loss: 10.2185 - mae: 10.2185\n",
      "Epoch 40/100\n",
      "2/2 [==============================] - 0s 5ms/step - loss: 10.9639 - mae: 10.9639\n",
      "Epoch 41/100\n",
      "2/2 [==============================] - 0s 5ms/step - loss: 7.9398 - mae: 7.9398\n",
      "Epoch 42/100\n",
      "2/2 [==============================] - 0s 5ms/step - loss: 10.5869 - mae: 10.5869\n",
      "Epoch 43/100\n",
      "2/2 [==============================] - 0s 6ms/step - loss: 7.2189 - mae: 7.2189\n",
      "Epoch 44/100\n",
      "2/2 [==============================] - 0s 5ms/step - loss: 8.0020 - mae: 8.0020\n",
      "Epoch 45/100\n",
      "2/2 [==============================] - 0s 5ms/step - loss: 9.7943 - mae: 9.7943\n",
      "Epoch 46/100\n",
      "2/2 [==============================] - 0s 6ms/step - loss: 8.8695 - mae: 8.8695\n",
      "Epoch 47/100\n",
      "2/2 [==============================] - 0s 5ms/step - loss: 7.5825 - mae: 7.5825\n",
      "Epoch 48/100\n",
      "2/2 [==============================] - 0s 5ms/step - loss: 8.5881 - mae: 8.5881\n",
      "Epoch 49/100\n",
      "2/2 [==============================] - 0s 5ms/step - loss: 9.9987 - mae: 9.9987\n",
      "Epoch 50/100\n",
      "2/2 [==============================] - 0s 5ms/step - loss: 9.0406 - mae: 9.0406\n",
      "Epoch 51/100\n",
      "2/2 [==============================] - 0s 4ms/step - loss: 10.6671 - mae: 10.6671\n",
      "Epoch 52/100\n",
      "2/2 [==============================] - 0s 5ms/step - loss: 15.3107 - mae: 15.3107\n",
      "Epoch 53/100\n",
      "2/2 [==============================] - 0s 6ms/step - loss: 14.3290 - mae: 14.3290\n",
      "Epoch 54/100\n",
      "2/2 [==============================] - 0s 5ms/step - loss: 21.6317 - mae: 21.6317\n",
      "Epoch 55/100\n",
      "2/2 [==============================] - 0s 5ms/step - loss: 15.9824 - mae: 15.9824\n",
      "Epoch 56/100\n",
      "2/2 [==============================] - 0s 5ms/step - loss: 10.3039 - mae: 10.3039\n",
      "Epoch 57/100\n",
      "2/2 [==============================] - 0s 5ms/step - loss: 9.7690 - mae: 9.7690\n",
      "Epoch 58/100\n",
      "2/2 [==============================] - 0s 5ms/step - loss: 9.0559 - mae: 9.0559\n",
      "Epoch 59/100\n",
      "2/2 [==============================] - 0s 6ms/step - loss: 8.2595 - mae: 8.2595\n",
      "Epoch 60/100\n",
      "2/2 [==============================] - 0s 5ms/step - loss: 9.3585 - mae: 9.3585\n",
      "Epoch 61/100\n",
      "2/2 [==============================] - 0s 5ms/step - loss: 11.1633 - mae: 11.1633\n",
      "Epoch 62/100\n",
      "2/2 [==============================] - 0s 6ms/step - loss: 12.0932 - mae: 12.0932\n",
      "Epoch 63/100\n",
      "2/2 [==============================] - 0s 5ms/step - loss: 7.2756 - mae: 7.2756\n",
      "Epoch 64/100\n",
      "2/2 [==============================] - 0s 5ms/step - loss: 12.4275 - mae: 12.4275\n",
      "Epoch 65/100\n",
      "2/2 [==============================] - 0s 5ms/step - loss: 10.4991 - mae: 10.4991\n",
      "Epoch 66/100\n",
      "2/2 [==============================] - 0s 5ms/step - loss: 15.6256 - mae: 15.6256\n",
      "Epoch 67/100\n",
      "2/2 [==============================] - 0s 5ms/step - loss: 10.0255 - mae: 10.0255\n",
      "Epoch 68/100\n",
      "2/2 [==============================] - 0s 5ms/step - loss: 8.7321 - mae: 8.7321\n",
      "Epoch 69/100\n",
      "2/2 [==============================] - 0s 6ms/step - loss: 13.5032 - mae: 13.5032\n",
      "Epoch 70/100\n",
      "2/2 [==============================] - 0s 5ms/step - loss: 7.4766 - mae: 7.4766\n",
      "Epoch 71/100\n",
      "2/2 [==============================] - 0s 5ms/step - loss: 12.2260 - mae: 12.2260\n",
      "Epoch 72/100\n",
      "2/2 [==============================] - 0s 5ms/step - loss: 8.5451 - mae: 8.5451\n",
      "Epoch 73/100\n",
      "2/2 [==============================] - 0s 5ms/step - loss: 7.0474 - mae: 7.0474\n",
      "Epoch 74/100\n",
      "2/2 [==============================] - 0s 5ms/step - loss: 9.9464 - mae: 9.9464\n",
      "Epoch 75/100\n",
      "2/2 [==============================] - 0s 5ms/step - loss: 9.9386 - mae: 9.9386\n",
      "Epoch 76/100\n",
      "2/2 [==============================] - 0s 5ms/step - loss: 10.1065 - mae: 10.1065\n",
      "Epoch 77/100\n",
      "2/2 [==============================] - 0s 5ms/step - loss: 12.9483 - mae: 12.9483\n",
      "Epoch 78/100\n",
      "2/2 [==============================] - 0s 5ms/step - loss: 11.1597 - mae: 11.1597\n",
      "Epoch 79/100\n",
      "2/2 [==============================] - 0s 5ms/step - loss: 14.7165 - mae: 14.7165\n",
      "Epoch 80/100\n",
      "2/2 [==============================] - 0s 5ms/step - loss: 8.9275 - mae: 8.9275\n",
      "Epoch 81/100\n",
      "2/2 [==============================] - 0s 5ms/step - loss: 10.7676 - mae: 10.7676\n",
      "Epoch 82/100\n",
      "2/2 [==============================] - 0s 5ms/step - loss: 8.4033 - mae: 8.4033\n",
      "Epoch 83/100\n",
      "2/2 [==============================] - 0s 5ms/step - loss: 9.2254 - mae: 9.2254\n",
      "Epoch 84/100\n",
      "2/2 [==============================] - 0s 5ms/step - loss: 8.9472 - mae: 8.9472\n",
      "Epoch 85/100\n",
      "2/2 [==============================] - 0s 5ms/step - loss: 13.1902 - mae: 13.1902\n",
      "Epoch 86/100\n",
      "2/2 [==============================] - 0s 5ms/step - loss: 13.7167 - mae: 13.7167\n",
      "Epoch 87/100\n",
      "2/2 [==============================] - 0s 5ms/step - loss: 13.2013 - mae: 13.2013\n",
      "Epoch 88/100\n",
      "2/2 [==============================] - 0s 6ms/step - loss: 11.5284 - mae: 11.5284\n",
      "Epoch 89/100\n",
      "2/2 [==============================] - 0s 5ms/step - loss: 7.8133 - mae: 7.8133\n",
      "Epoch 90/100\n",
      "2/2 [==============================] - 0s 4ms/step - loss: 10.9432 - mae: 10.9432\n",
      "Epoch 91/100\n",
      "2/2 [==============================] - 0s 5ms/step - loss: 6.7566 - mae: 6.7566\n",
      "Epoch 92/100\n",
      "2/2 [==============================] - 0s 5ms/step - loss: 10.1360 - mae: 10.1360\n",
      "Epoch 93/100\n",
      "2/2 [==============================] - 0s 5ms/step - loss: 7.6107 - mae: 7.6107\n",
      "Epoch 94/100\n",
      "2/2 [==============================] - 0s 5ms/step - loss: 9.2431 - mae: 9.2431\n",
      "Epoch 95/100\n",
      "2/2 [==============================] - 0s 6ms/step - loss: 10.8291 - mae: 10.8291\n",
      "Epoch 96/100\n",
      "2/2 [==============================] - 0s 5ms/step - loss: 10.3081 - mae: 10.3081\n",
      "Epoch 97/100\n",
      "2/2 [==============================] - 0s 5ms/step - loss: 7.6812 - mae: 7.6812\n",
      "Epoch 98/100\n",
      "2/2 [==============================] - 0s 6ms/step - loss: 8.6175 - mae: 8.6175\n",
      "Epoch 99/100\n",
      "2/2 [==============================] - 0s 5ms/step - loss: 9.3955 - mae: 9.3955\n",
      "Epoch 100/100\n",
      "2/2 [==============================] - 0s 5ms/step - loss: 8.8429 - mae: 8.8429\n"
     ]
    },
    {
     "data": {
      "text/plain": [
       "<keras.callbacks.History at 0x28c4ef370>"
      ]
     },
     "execution_count": 163,
     "metadata": {},
     "output_type": "execute_result"
    }
   ],
   "source": [
    "# Set random seed\n",
    "tf.random.set_seed(42)\n",
    "\n",
    "# 1. Create the model\n",
    "model_1 = tf.keras.Sequential(name=\"model_1\")\n",
    "model_1.add(tf.keras.layers.Dense(1))\n",
    "\n",
    "# 2. Compile the model\n",
    "model_1.compile(loss=tf.keras.losses.mae,\n",
    "                optimizer=tf.keras.optimizers.SGD(),\n",
    "                metrics=[\"mae\"])\n",
    "\n",
    "# 3. Fit the model\n",
    "model_1.fit(tf.expand_dims(X_train, axis=-1), y_train, epochs=100)"
   ]
  },
  {
   "cell_type": "code",
   "execution_count": 170,
   "metadata": {},
   "outputs": [
    {
     "name": "stderr",
     "output_type": "stream",
     "text": [
      "2022-02-12 11:13:57.111269: I tensorflow/core/grappler/optimizers/custom_graph_optimizer_registry.cc:112] Plugin optimizer for device_type GPU is enabled.\n"
     ]
    },
    {
     "data": {
      "image/png": "[encoded data removed]",
      "text/plain": [
       "<Figure size 720x504 with 1 Axes>"
      ]
     },
     "metadata": {
      "needs_background": "light"
     },
     "output_type": "display_data"
    }
   ],
   "source": [
    "# Make and plot predictions with for model_1\n",
    "y_preds_1 = model_1.predict(X_test)\n",
    "plot_predictions(predictions=y_preds_1)"
   ]
  },
  {
   "cell_type": "code",
   "execution_count": 168,
   "metadata": {},
   "outputs": [
    {
     "data": {
      "text/plain": [
       "(<tf.Tensor: shape=(), dtype=float32, numpy=8.584009>,\n",
       " <tf.Tensor: shape=(), dtype=float32, numpy=80.172775>)"
      ]
     },
     "execution_count": 168,
     "metadata": {},
     "output_type": "execute_result"
    }
   ],
   "source": [
    "# Calculate model_1 evaluation metrics\n",
    "mae_1 = mae(y_test, y_preds_1)\n",
    "mse_1 = mse(y_test, y_preds_1)\n",
    "mae_1, mse_1"
   ]
  },
  {
   "cell_type": "markdown",
   "metadata": {},
   "source": [
    "**Build `model_2`**\n",
    "\n",
    "* 2 dense layers, trained for 100 epochs"
   ]
  },
  {
   "cell_type": "code",
   "execution_count": 189,
   "metadata": {},
   "outputs": [
    {
     "name": "stdout",
     "output_type": "stream",
     "text": [
      "Epoch 1/100\n",
      "2/2 [==============================] - 0s 12ms/step - loss: 37.7641 - mse: 2035.7916\n",
      "Epoch 2/100\n",
      "2/2 [==============================] - 0s 5ms/step - loss: 26.8380 - mse: 933.5803\n",
      "Epoch 3/100\n",
      "2/2 [==============================] - 0s 7ms/step - loss: 32.1597 - mse: 1543.4480\n",
      "Epoch 4/100\n",
      "2/2 [==============================] - 0s 7ms/step - loss: 26.8132 - mse: 1051.9125\n",
      "Epoch 5/100\n",
      "2/2 [==============================] - 0s 5ms/step - loss: 14.6635 - mse: 267.2861\n",
      "Epoch 6/100\n",
      "2/2 [==============================] - 0s 5ms/step - loss: 11.6777 - mse: 159.2467\n",
      "Epoch 7/100\n",
      "2/2 [==============================] - 0s 7ms/step - loss: 11.0280 - mse: 147.3315\n",
      "Epoch 8/100\n",
      "2/2 [==============================] - 0s 7ms/step - loss: 11.0402 - mse: 152.8685\n",
      "Epoch 9/100\n",
      "2/2 [==============================] - 0s 5ms/step - loss: 39.8903 - mse: 2499.0798\n",
      "Epoch 10/100\n",
      "2/2 [==============================] - 0s 5ms/step - loss: 27.3607 - mse: 1053.6687\n",
      "Epoch 11/100\n",
      "2/2 [==============================] - 0s 5ms/step - loss: 10.2404 - mse: 146.0266\n",
      "Epoch 12/100\n",
      "2/2 [==============================] - 0s 6ms/step - loss: 25.4438 - mse: 900.9149\n"
     ]
    },
    {
     "name": "stderr",
     "output_type": "stream",
     "text": [
      "2022-02-12 11:32:35.251974: I tensorflow/core/grappler/optimizers/custom_graph_optimizer_registry.cc:112] Plugin optimizer for device_type GPU is enabled.\n"
     ]
    },
    {
     "name": "stdout",
     "output_type": "stream",
     "text": [
      "Epoch 13/100\n",
      "2/2 [==============================] - 0s 5ms/step - loss: 16.7568 - mse: 386.6826\n",
      "Epoch 14/100\n",
      "2/2 [==============================] - 0s 5ms/step - loss: 25.5069 - mse: 1012.4545\n",
      "Epoch 15/100\n",
      "2/2 [==============================] - 0s 5ms/step - loss: 17.4168 - mse: 419.3784\n",
      "Epoch 16/100\n",
      "2/2 [==============================] - 0s 7ms/step - loss: 9.9934 - mse: 124.5311\n",
      "Epoch 17/100\n",
      "2/2 [==============================] - 0s 5ms/step - loss: 18.4537 - mse: 454.6596\n",
      "Epoch 18/100\n",
      "2/2 [==============================] - 0s 5ms/step - loss: 11.3192 - mse: 197.0930\n",
      "Epoch 19/100\n",
      "2/2 [==============================] - 0s 5ms/step - loss: 13.8859 - mse: 299.9961\n",
      "Epoch 20/100\n",
      "2/2 [==============================] - 0s 6ms/step - loss: 11.1691 - mse: 145.9364\n",
      "Epoch 21/100\n",
      "2/2 [==============================] - 0s 5ms/step - loss: 17.2074 - mse: 418.8426\n",
      "Epoch 22/100\n",
      "2/2 [==============================] - 0s 5ms/step - loss: 15.4457 - mse: 328.4963\n",
      "Epoch 23/100\n",
      "2/2 [==============================] - 0s 6ms/step - loss: 9.2338 - mse: 118.3844\n",
      "Epoch 24/100\n",
      "2/2 [==============================] - 0s 7ms/step - loss: 17.2816 - mse: 409.5704\n",
      "Epoch 25/100\n",
      "2/2 [==============================] - 0s 5ms/step - loss: 15.9466 - mse: 334.3000\n",
      "Epoch 26/100\n",
      "2/2 [==============================] - 0s 5ms/step - loss: 20.9568 - mse: 650.5749\n",
      "Epoch 27/100\n",
      "2/2 [==============================] - 0s 6ms/step - loss: 25.9019 - mse: 1046.1321\n",
      "Epoch 28/100\n",
      "2/2 [==============================] - 0s 6ms/step - loss: 18.4072 - mse: 536.1356\n",
      "Epoch 29/100\n",
      "2/2 [==============================] - 0s 6ms/step - loss: 9.2305 - mse: 97.7021\n",
      "Epoch 30/100\n",
      "2/2 [==============================] - 0s 12ms/step - loss: 29.0285 - mse: 1503.7098\n",
      "Epoch 31/100\n",
      "2/2 [==============================] - 0s 6ms/step - loss: 52.5685 - mse: 4940.2061\n",
      "Epoch 32/100\n",
      "2/2 [==============================] - 0s 6ms/step - loss: 11.8933 - mse: 205.3053\n",
      "Epoch 33/100\n",
      "2/2 [==============================] - 0s 5ms/step - loss: 15.4778 - mse: 330.0558\n",
      "Epoch 34/100\n",
      "2/2 [==============================] - 0s 5ms/step - loss: 12.5784 - mse: 208.4875\n",
      "Epoch 35/100\n",
      "2/2 [==============================] - 0s 6ms/step - loss: 9.1839 - mse: 91.3140\n",
      "Epoch 36/100\n",
      "2/2 [==============================] - 0s 5ms/step - loss: 16.4676 - mse: 394.1979\n",
      "Epoch 37/100\n",
      "2/2 [==============================] - 0s 5ms/step - loss: 11.0788 - mse: 192.0434\n",
      "Epoch 38/100\n",
      "2/2 [==============================] - 0s 5ms/step - loss: 18.2083 - mse: 436.8822\n",
      "Epoch 39/100\n",
      "2/2 [==============================] - 0s 5ms/step - loss: 19.1394 - mse: 533.4880\n",
      "Epoch 40/100\n",
      "2/2 [==============================] - 0s 6ms/step - loss: 20.5034 - mse: 614.1699\n",
      "Epoch 41/100\n",
      "2/2 [==============================] - 0s 5ms/step - loss: 14.8058 - mse: 274.5531\n",
      "Epoch 42/100\n",
      "2/2 [==============================] - 0s 6ms/step - loss: 12.2024 - mse: 182.5426\n",
      "Epoch 43/100\n",
      "2/2 [==============================] - 0s 6ms/step - loss: 10.6885 - mse: 163.5820\n",
      "Epoch 44/100\n",
      "2/2 [==============================] - 0s 7ms/step - loss: 32.3291 - mse: 1719.4131\n",
      "Epoch 45/100\n",
      "2/2 [==============================] - 0s 7ms/step - loss: 12.4734 - mse: 202.4718\n",
      "Epoch 46/100\n",
      "2/2 [==============================] - 0s 5ms/step - loss: 17.5666 - mse: 462.4561\n",
      "Epoch 47/100\n",
      "2/2 [==============================] - 0s 6ms/step - loss: 15.7297 - mse: 338.3487\n",
      "Epoch 48/100\n",
      "2/2 [==============================] - 0s 6ms/step - loss: 8.3545 - mse: 112.4668\n",
      "Epoch 49/100\n",
      "2/2 [==============================] - 0s 6ms/step - loss: 13.9572 - mse: 268.3201\n",
      "Epoch 50/100\n",
      "2/2 [==============================] - 0s 5ms/step - loss: 12.8038 - mse: 214.6203\n",
      "Epoch 51/100\n",
      "2/2 [==============================] - 0s 6ms/step - loss: 14.8169 - mse: 308.4117\n",
      "Epoch 52/100\n",
      "2/2 [==============================] - 0s 5ms/step - loss: 18.7044 - mse: 527.9189\n",
      "Epoch 53/100\n",
      "2/2 [==============================] - 0s 5ms/step - loss: 24.1367 - mse: 826.5378\n",
      "Epoch 54/100\n",
      "2/2 [==============================] - 0s 6ms/step - loss: 23.2502 - mse: 810.3369\n",
      "Epoch 55/100\n",
      "2/2 [==============================] - 0s 5ms/step - loss: 24.1138 - mse: 875.3784\n",
      "Epoch 56/100\n",
      "2/2 [==============================] - 0s 6ms/step - loss: 11.1768 - mse: 170.8649\n",
      "Epoch 57/100\n",
      "2/2 [==============================] - 0s 5ms/step - loss: 13.1442 - mse: 215.5520\n",
      "Epoch 58/100\n",
      "2/2 [==============================] - 0s 5ms/step - loss: 9.8238 - mse: 106.5531\n",
      "Epoch 59/100\n",
      "2/2 [==============================] - 0s 5ms/step - loss: 13.3441 - mse: 251.8644\n",
      "Epoch 60/100\n",
      "2/2 [==============================] - 0s 7ms/step - loss: 10.8885 - mse: 140.1667\n",
      "Epoch 61/100\n",
      "2/2 [==============================] - 0s 6ms/step - loss: 13.5073 - mse: 243.9465\n",
      "Epoch 62/100\n",
      "2/2 [==============================] - 0s 5ms/step - loss: 17.5866 - mse: 472.2124\n",
      "Epoch 63/100\n",
      "2/2 [==============================] - 0s 5ms/step - loss: 9.1696 - mse: 87.5887\n",
      "Epoch 64/100\n",
      "2/2 [==============================] - 0s 6ms/step - loss: 18.4614 - mse: 495.4090\n",
      "Epoch 65/100\n",
      "2/2 [==============================] - 0s 5ms/step - loss: 10.1266 - mse: 115.4847\n",
      "Epoch 66/100\n",
      "2/2 [==============================] - 0s 5ms/step - loss: 24.3549 - mse: 896.1921\n",
      "Epoch 67/100\n",
      "2/2 [==============================] - 0s 6ms/step - loss: 10.9106 - mse: 143.9882\n",
      "Epoch 68/100\n",
      "2/2 [==============================] - 0s 6ms/step - loss: 10.7850 - mse: 161.1969\n",
      "Epoch 69/100\n",
      "2/2 [==============================] - 0s 5ms/step - loss: 23.3674 - mse: 789.6858\n",
      "Epoch 70/100\n",
      "2/2 [==============================] - 0s 5ms/step - loss: 8.7896 - mse: 143.8368\n",
      "Epoch 71/100\n",
      "2/2 [==============================] - 0s 6ms/step - loss: 15.9367 - mse: 345.7824\n",
      "Epoch 72/100\n",
      "2/2 [==============================] - 0s 5ms/step - loss: 8.1107 - mse: 109.7786\n",
      "Epoch 73/100\n",
      "2/2 [==============================] - 0s 5ms/step - loss: 9.4537 - mse: 153.8088\n",
      "Epoch 74/100\n",
      "2/2 [==============================] - 0s 5ms/step - loss: 28.1196 - mse: 1107.9246\n",
      "Epoch 75/100\n",
      "2/2 [==============================] - 0s 6ms/step - loss: 10.2260 - mse: 145.2511\n",
      "Epoch 76/100\n",
      "2/2 [==============================] - 0s 5ms/step - loss: 13.1841 - mse: 221.0271\n",
      "Epoch 77/100\n",
      "2/2 [==============================] - 0s 6ms/step - loss: 18.7066 - mse: 546.4291\n",
      "Epoch 78/100\n",
      "2/2 [==============================] - 0s 5ms/step - loss: 8.8291 - mse: 82.8222\n",
      "Epoch 79/100\n",
      "2/2 [==============================] - 0s 5ms/step - loss: 27.1017 - mse: 1150.7279\n",
      "Epoch 80/100\n",
      "2/2 [==============================] - 0s 6ms/step - loss: 30.6680 - mse: 1489.5585\n",
      "Epoch 81/100\n",
      "2/2 [==============================] - 0s 5ms/step - loss: 13.1804 - mse: 241.2532\n",
      "Epoch 82/100\n",
      "2/2 [==============================] - 0s 5ms/step - loss: 14.5999 - mse: 294.0961\n",
      "Epoch 83/100\n",
      "2/2 [==============================] - 0s 6ms/step - loss: 18.6375 - mse: 459.2656\n",
      "Epoch 84/100\n",
      "2/2 [==============================] - 0s 5ms/step - loss: 9.4122 - mse: 152.5144\n",
      "Epoch 85/100\n",
      "2/2 [==============================] - 0s 5ms/step - loss: 25.0348 - mse: 878.9800\n",
      "Epoch 86/100\n",
      "2/2 [==============================] - 0s 5ms/step - loss: 17.1306 - mse: 433.0190\n",
      "Epoch 87/100\n",
      "2/2 [==============================] - 0s 6ms/step - loss: 11.0258 - mse: 148.3922\n",
      "Epoch 88/100\n",
      "2/2 [==============================] - 0s 6ms/step - loss: 24.8057 - mse: 876.3287\n",
      "Epoch 89/100\n",
      "2/2 [==============================] - 0s 5ms/step - loss: 9.6666 - mse: 129.2801\n",
      "Epoch 90/100\n",
      "2/2 [==============================] - 0s 6ms/step - loss: 18.8118 - mse: 507.3620\n",
      "Epoch 91/100\n",
      "2/2 [==============================] - 0s 5ms/step - loss: 10.5078 - mse: 164.1302\n",
      "Epoch 92/100\n",
      "2/2 [==============================] - 0s 5ms/step - loss: 18.0411 - mse: 445.3338\n",
      "Epoch 93/100\n",
      "2/2 [==============================] - 0s 5ms/step - loss: 6.5791 - mse: 61.6611\n",
      "Epoch 94/100\n",
      "2/2 [==============================] - 0s 5ms/step - loss: 11.1580 - mse: 153.8983\n",
      "Epoch 95/100\n",
      "2/2 [==============================] - 0s 5ms/step - loss: 24.4145 - mse: 894.5620\n",
      "Epoch 96/100\n",
      "2/2 [==============================] - 0s 6ms/step - loss: 10.7644 - mse: 172.9263\n",
      "Epoch 97/100\n",
      "2/2 [==============================] - 0s 5ms/step - loss: 15.3928 - mse: 358.9944\n",
      "Epoch 98/100\n",
      "2/2 [==============================] - 0s 7ms/step - loss: 8.2717 - mse: 111.3568\n",
      "Epoch 99/100\n",
      "2/2 [==============================] - 0s 5ms/step - loss: 16.5536 - mse: 384.7667\n",
      "Epoch 100/100\n",
      "2/2 [==============================] - 0s 5ms/step - loss: 14.3325 - mse: 296.5000\n"
     ]
    },
    {
     "data": {
      "text/plain": [
       "<keras.callbacks.History at 0x28d6ac2e0>"
      ]
     },
     "execution_count": 189,
     "metadata": {},
     "output_type": "execute_result"
    }
   ],
   "source": [
    "# Set random seed \n",
    "tf.random.set_seed(42)\n",
    "\n",
    "# 1. Create the model\n",
    "model_2 = tf.keras.Sequential()\n",
    "model_2.add(tf.keras.layers.Dense(10))\n",
    "model_2.add(tf.keras.layers.Dense(1))\n",
    "\n",
    "# 2. Compile the model\n",
    "model_2.compile(loss=tf.keras.losses.mae,\n",
    "                optimizer=tf.keras.optimizers.SGD(),\n",
    "                metrics=[\"mse\"])\n",
    "\n",
    "# 3. Fit the model\n",
    "model_2.fit(tf.expand_dims(X_train, axis=-1), y_train, epochs=100)"
   ]
  },
  {
   "cell_type": "code",
   "execution_count": 190,
   "metadata": {},
   "outputs": [
    {
     "name": "stderr",
     "output_type": "stream",
     "text": [
      "2022-02-12 11:32:36.985730: I tensorflow/core/grappler/optimizers/custom_graph_optimizer_registry.cc:112] Plugin optimizer for device_type GPU is enabled.\n"
     ]
    },
    {
     "data": {
      "image/png": "[encoded data removed]",
      "text/plain": [
       "<Figure size 720x504 with 1 Axes>"
      ]
     },
     "metadata": {
      "needs_background": "light"
     },
     "output_type": "display_data"
    }
   ],
   "source": [
    "# Make and plot predictions with model_2\n",
    "y_preds_2 = model_2.predict(X_test)\n",
    "plot_predictions(predictions=y_preds_2)"
   ]
  },
  {
   "cell_type": "code",
   "execution_count": 191,
   "metadata": {},
   "outputs": [
    {
     "data": {
      "text/plain": [
       "(<tf.Tensor: shape=(), dtype=float32, numpy=10.800007>,\n",
       " <tf.Tensor: shape=(), dtype=float32, numpy=124.55125>)"
      ]
     },
     "execution_count": 191,
     "metadata": {},
     "output_type": "execute_result"
    }
   ],
   "source": [
    "# Calculate mae and mse for model_2\n",
    "mae_2 = mae(y_test, y_preds_2)\n",
    "mse_2 = mse(y_test, y_preds_2)\n",
    "mae_2, mse_2"
   ]
  },
  {
   "cell_type": "markdown",
   "metadata": {},
   "source": [
    "**Build `model_3`**\n",
    "\n",
    "* 2 dense layers, trained for 500 epochs"
   ]
  },
  {
   "cell_type": "code",
   "execution_count": 192,
   "metadata": {},
   "outputs": [
    {
     "name": "stdout",
     "output_type": "stream",
     "text": [
      "Epoch 1/500\n",
      "1/1 [==============================] - 0s 190ms/step - loss: 88.9613 - mae: 88.9613\n",
      "Epoch 2/500\n",
      "1/1 [==============================] - 0s 6ms/step - loss: 103.8929 - mae: 103.8929\n",
      "Epoch 3/500\n",
      "1/1 [==============================] - 0s 5ms/step - loss: 88.1473 - mae: 88.1473\n",
      "Epoch 4/500\n",
      "1/1 [==============================] - 0s 6ms/step - loss: 58.5797 - mae: 58.5797\n",
      "Epoch 5/500\n",
      "1/1 [==============================] - 0s 5ms/step - loss: 6.6556 - mae: 6.6556\n",
      "Epoch 6/500\n",
      "1/1 [==============================] - 0s 5ms/step - loss: 83.4822 - mae: 83.4822\n",
      "Epoch 7/500\n",
      "1/1 [==============================] - 0s 7ms/step - loss: 73.4750 - mae: 73.4750\n",
      "Epoch 8/500\n",
      "1/1 [==============================] - 0s 5ms/step - loss: 41.9983 - mae: 41.9983\n",
      "Epoch 9/500\n",
      "1/1 [==============================] - 0s 7ms/step - loss: 57.7078 - mae: 57.7078\n",
      "Epoch 10/500\n",
      "1/1 [==============================] - 0s 6ms/step - loss: 80.9238 - mae: 80.9238\n",
      "Epoch 11/500\n",
      "1/1 [==============================] - 0s 7ms/step - loss: 65.6332 - mae: 65.6332\n",
      "Epoch 12/500\n",
      "1/1 [==============================] - 0s 6ms/step - loss: 17.2046 - mae: 17.2046\n"
     ]
    },
    {
     "name": "stderr",
     "output_type": "stream",
     "text": [
      "2022-02-12 11:34:52.743006: I tensorflow/core/grappler/optimizers/custom_graph_optimizer_registry.cc:112] Plugin optimizer for device_type GPU is enabled.\n"
     ]
    },
    {
     "name": "stdout",
     "output_type": "stream",
     "text": [
      "Epoch 13/500\n",
      "1/1 [==============================] - 0s 7ms/step - loss: 136.2260 - mae: 136.2260\n",
      "Epoch 14/500\n",
      "1/1 [==============================] - 0s 5ms/step - loss: 77.1067 - mae: 77.1067\n",
      "Epoch 15/500\n",
      "1/1 [==============================] - 0s 6ms/step - loss: 53.5816 - mae: 53.5816\n",
      "Epoch 16/500\n",
      "1/1 [==============================] - 0s 5ms/step - loss: 20.9391 - mae: 20.9391\n",
      "Epoch 17/500\n",
      "1/1 [==============================] - 0s 6ms/step - loss: 82.6738 - mae: 82.6738\n",
      "Epoch 18/500\n",
      "1/1 [==============================] - 0s 5ms/step - loss: 71.2434 - mae: 71.2434\n",
      "Epoch 19/500\n",
      "1/1 [==============================] - 0s 6ms/step - loss: 35.0463 - mae: 35.0463\n",
      "Epoch 20/500\n",
      "1/1 [==============================] - 0s 5ms/step - loss: 79.6270 - mae: 79.6270\n",
      "Epoch 21/500\n",
      "1/1 [==============================] - 0s 6ms/step - loss: 79.8159 - mae: 79.8159\n",
      "Epoch 22/500\n",
      "1/1 [==============================] - 0s 5ms/step - loss: 62.2312 - mae: 62.2312\n",
      "Epoch 23/500\n",
      "1/1 [==============================] - 0s 6ms/step - loss: 6.5335 - mae: 6.5335\n",
      "Epoch 24/500\n",
      "1/1 [==============================] - 0s 5ms/step - loss: 169.9301 - mae: 169.9301\n",
      "Epoch 25/500\n",
      "1/1 [==============================] - 0s 5ms/step - loss: 75.4288 - mae: 75.4288\n",
      "Epoch 26/500\n",
      "1/1 [==============================] - 0s 5ms/step - loss: 48.3733 - mae: 48.3733\n",
      "Epoch 27/500\n",
      "1/1 [==============================] - 0s 5ms/step - loss: 37.3336 - mae: 37.3336\n",
      "Epoch 28/500\n",
      "1/1 [==============================] - 0s 5ms/step - loss: 81.8332 - mae: 81.8332\n",
      "Epoch 29/500\n",
      "1/1 [==============================] - 0s 5ms/step - loss: 68.6882 - mae: 68.6882\n",
      "Epoch 30/500\n",
      "1/1 [==============================] - 0s 5ms/step - loss: 27.0584 - mae: 27.0584\n",
      "Epoch 31/500\n",
      "1/1 [==============================] - 0s 5ms/step - loss: 104.8293 - mae: 104.8293\n",
      "Epoch 32/500\n",
      "1/1 [==============================] - 0s 5ms/step - loss: 78.5493 - mae: 78.5493\n",
      "Epoch 33/500\n",
      "1/1 [==============================] - 0s 6ms/step - loss: 58.3261 - mae: 58.3261\n",
      "Epoch 34/500\n",
      "1/1 [==============================] - 0s 5ms/step - loss: 5.7320 - mae: 5.7320\n",
      "Epoch 35/500\n",
      "1/1 [==============================] - 0s 5ms/step - loss: 83.3333 - mae: 83.3333\n",
      "Epoch 36/500\n",
      "1/1 [==============================] - 0s 7ms/step - loss: 73.5065 - mae: 73.5065\n",
      "Epoch 37/500\n",
      "1/1 [==============================] - 0s 8ms/step - loss: 42.3907 - mae: 42.3907\n",
      "Epoch 38/500\n",
      "1/1 [==============================] - 0s 6ms/step - loss: 56.1819 - mae: 56.1819\n",
      "Epoch 39/500\n",
      "1/1 [==============================] - 0s 5ms/step - loss: 80.8739 - mae: 80.8739\n",
      "Epoch 40/500\n",
      "1/1 [==============================] - 0s 5ms/step - loss: 65.7570 - mae: 65.7570\n",
      "Epoch 41/500\n",
      "1/1 [==============================] - 0s 6ms/step - loss: 17.8788 - mae: 17.8788\n",
      "Epoch 42/500\n",
      "1/1 [==============================] - 0s 6ms/step - loss: 133.8078 - mae: 133.8078\n",
      "Epoch 43/500\n",
      "1/1 [==============================] - 0s 15ms/step - loss: 77.1000 - mae: 77.1000\n",
      "Epoch 44/500\n",
      "1/1 [==============================] - 0s 15ms/step - loss: 53.8421 - mae: 53.8421\n",
      "Epoch 45/500\n",
      "1/1 [==============================] - 0s 10ms/step - loss: 19.8315 - mae: 19.8315\n",
      "Epoch 46/500\n",
      "1/1 [==============================] - 0s 5ms/step - loss: 82.6037 - mae: 82.6037\n",
      "Epoch 47/500\n",
      "1/1 [==============================] - 0s 5ms/step - loss: 71.3031 - mae: 71.3031\n",
      "Epoch 48/500\n",
      "1/1 [==============================] - 0s 6ms/step - loss: 35.5174 - mae: 35.5174\n",
      "Epoch 49/500\n",
      "1/1 [==============================] - 0s 5ms/step - loss: 77.8525 - mae: 77.8525\n",
      "Epoch 50/500\n",
      "1/1 [==============================] - 0s 5ms/step - loss: 79.7781 - mae: 79.7781\n",
      "Epoch 51/500\n",
      "1/1 [==============================] - 0s 6ms/step - loss: 62.3931 - mae: 62.3931\n",
      "Epoch 52/500\n",
      "1/1 [==============================] - 0s 6ms/step - loss: 7.3284 - mae: 7.3284\n",
      "Epoch 53/500\n",
      "1/1 [==============================] - 0s 6ms/step - loss: 167.1293 - mae: 167.1293\n",
      "Epoch 54/500\n",
      "1/1 [==============================] - 0s 5ms/step - loss: 75.4405 - mae: 75.4405\n",
      "Epoch 55/500\n",
      "1/1 [==============================] - 0s 6ms/step - loss: 48.6925 - mae: 48.6925\n",
      "Epoch 56/500\n",
      "1/1 [==============================] - 0s 6ms/step - loss: 36.0403 - mae: 36.0403\n",
      "Epoch 57/500\n",
      "1/1 [==============================] - 0s 6ms/step - loss: 81.7720 - mae: 81.7720\n",
      "Epoch 58/500\n",
      "1/1 [==============================] - 0s 5ms/step - loss: 68.7764 - mae: 68.7764\n",
      "Epoch 59/500\n",
      "1/1 [==============================] - 0s 6ms/step - loss: 27.6197 - mae: 27.6197\n",
      "Epoch 60/500\n",
      "1/1 [==============================] - 0s 6ms/step - loss: 102.7690 - mae: 102.7690\n",
      "Epoch 61/500\n",
      "1/1 [==============================] - 0s 7ms/step - loss: 78.5252 - mae: 78.5252\n",
      "Epoch 62/500\n",
      "1/1 [==============================] - 0s 5ms/step - loss: 58.5318 - mae: 58.5318\n",
      "Epoch 63/500\n",
      "1/1 [==============================] - 0s 7ms/step - loss: 4.7983 - mae: 4.7983\n",
      "Epoch 64/500\n",
      "1/1 [==============================] - 0s 6ms/step - loss: 83.2547 - mae: 83.2547\n",
      "Epoch 65/500\n",
      "1/1 [==============================] - 0s 12ms/step - loss: 73.5395 - mae: 73.5395\n",
      "Epoch 66/500\n",
      "1/1 [==============================] - 0s 5ms/step - loss: 42.7773 - mae: 42.7773\n",
      "Epoch 67/500\n",
      "1/1 [==============================] - 0s 6ms/step - loss: 54.6749 - mae: 54.6749\n",
      "Epoch 68/500\n",
      "1/1 [==============================] - 0s 6ms/step - loss: 80.8231 - mae: 80.8231\n",
      "Epoch 69/500\n",
      "1/1 [==============================] - 0s 7ms/step - loss: 65.8779 - mae: 65.8779\n",
      "Epoch 70/500\n",
      "1/1 [==============================] - 0s 7ms/step - loss: 18.5438 - mae: 18.5438\n",
      "Epoch 71/500\n",
      "1/1 [==============================] - 0s 7ms/step - loss: 131.4186 - mae: 131.4186\n",
      "Epoch 72/500\n",
      "1/1 [==============================] - 0s 7ms/step - loss: 77.0918 - mae: 77.0918\n",
      "Epoch 73/500\n",
      "1/1 [==============================] - 0s 6ms/step - loss: 54.0983 - mae: 54.0983\n",
      "Epoch 74/500\n",
      "1/1 [==============================] - 0s 6ms/step - loss: 18.7380 - mae: 18.7380\n",
      "Epoch 75/500\n",
      "1/1 [==============================] - 0s 6ms/step - loss: 82.5329 - mae: 82.5329\n",
      "Epoch 76/500\n",
      "1/1 [==============================] - 0s 6ms/step - loss: 71.3606 - mae: 71.3606\n",
      "Epoch 77/500\n",
      "1/1 [==============================] - 0s 7ms/step - loss: 35.9816 - mae: 35.9816\n",
      "Epoch 78/500\n",
      "1/1 [==============================] - 0s 7ms/step - loss: 76.0997 - mae: 76.0997\n",
      "Epoch 79/500\n",
      "1/1 [==============================] - 0s 6ms/step - loss: 79.7391 - mae: 79.7391\n",
      "Epoch 80/500\n",
      "1/1 [==============================] - 0s 5ms/step - loss: 62.5517 - mae: 62.5517\n",
      "Epoch 81/500\n",
      "1/1 [==============================] - 0s 5ms/step - loss: 8.1129 - mae: 8.1129\n",
      "Epoch 82/500\n",
      "1/1 [==============================] - 0s 6ms/step - loss: 164.3619 - mae: 164.3619\n",
      "Epoch 83/500\n",
      "1/1 [==============================] - 0s 6ms/step - loss: 75.4507 - mae: 75.4507\n",
      "Epoch 84/500\n",
      "1/1 [==============================] - 0s 5ms/step - loss: 49.0066 - mae: 49.0066\n",
      "Epoch 85/500\n",
      "1/1 [==============================] - 0s 5ms/step - loss: 34.7631 - mae: 34.7631\n",
      "Epoch 86/500\n",
      "1/1 [==============================] - 0s 5ms/step - loss: 81.7101 - mae: 81.7101\n",
      "Epoch 87/500\n",
      "1/1 [==============================] - 0s 5ms/step - loss: 68.8621 - mae: 68.8621\n",
      "Epoch 88/500\n",
      "1/1 [==============================] - 0s 5ms/step - loss: 28.1731 - mae: 28.1731\n",
      "Epoch 89/500\n",
      "1/1 [==============================] - 0s 5ms/step - loss: 100.7335 - mae: 100.7335\n",
      "Epoch 90/500\n",
      "1/1 [==============================] - 0s 5ms/step - loss: 78.5000 - mae: 78.5000\n",
      "Epoch 91/500\n",
      "1/1 [==============================] - 0s 5ms/step - loss: 58.7337 - mae: 58.7337\n",
      "Epoch 92/500\n",
      "1/1 [==============================] - 0s 6ms/step - loss: 3.8766 - mae: 3.8766\n",
      "Epoch 93/500\n",
      "1/1 [==============================] - 0s 7ms/step - loss: 83.1756 - mae: 83.1756\n",
      "Epoch 94/500\n",
      "1/1 [==============================] - 0s 5ms/step - loss: 73.5707 - mae: 73.5707\n",
      "Epoch 95/500\n",
      "1/1 [==============================] - 0s 5ms/step - loss: 43.1581 - mae: 43.1581\n",
      "Epoch 96/500\n",
      "1/1 [==============================] - 0s 5ms/step - loss: 53.1865 - mae: 53.1865\n",
      "Epoch 97/500\n",
      "1/1 [==============================] - 0s 6ms/step - loss: 80.7714 - mae: 80.7714\n",
      "Epoch 98/500\n",
      "1/1 [==============================] - 0s 5ms/step - loss: 65.9959 - mae: 65.9959\n",
      "Epoch 99/500\n",
      "1/1 [==============================] - 0s 6ms/step - loss: 19.1998 - mae: 19.1998\n",
      "Epoch 100/500\n",
      "1/1 [==============================] - 0s 6ms/step - loss: 129.0581 - mae: 129.0581\n",
      "Epoch 101/500\n",
      "1/1 [==============================] - 0s 5ms/step - loss: 77.0823 - mae: 77.0823\n",
      "Epoch 102/500\n",
      "1/1 [==============================] - 0s 5ms/step - loss: 54.3500 - mae: 54.3500\n",
      "Epoch 103/500\n",
      "1/1 [==============================] - 0s 5ms/step - loss: 17.6585 - mae: 17.6585\n",
      "Epoch 104/500\n",
      "1/1 [==============================] - 0s 5ms/step - loss: 82.4614 - mae: 82.4614\n",
      "Epoch 105/500\n",
      "1/1 [==============================] - 0s 8ms/step - loss: 71.4160 - mae: 71.4160\n",
      "Epoch 106/500\n",
      "1/1 [==============================] - 0s 6ms/step - loss: 36.4390 - mae: 36.4390\n",
      "Epoch 107/500\n",
      "1/1 [==============================] - 0s 7ms/step - loss: 74.3684 - mae: 74.3684\n",
      "Epoch 108/500\n",
      "1/1 [==============================] - 0s 7ms/step - loss: 79.6992 - mae: 79.6992\n",
      "Epoch 109/500\n",
      "1/1 [==============================] - 0s 5ms/step - loss: 62.7070 - mae: 62.7070\n",
      "Epoch 110/500\n",
      "1/1 [==============================] - 0s 6ms/step - loss: 8.8869 - mae: 8.8869\n",
      "Epoch 111/500\n",
      "1/1 [==============================] - 0s 6ms/step - loss: 161.6275 - mae: 161.6275\n",
      "Epoch 112/500\n",
      "1/1 [==============================] - 0s 5ms/step - loss: 75.4593 - mae: 75.4593\n",
      "Epoch 113/500\n",
      "1/1 [==============================] - 0s 6ms/step - loss: 49.3157 - mae: 49.3157\n",
      "Epoch 114/500\n",
      "1/1 [==============================] - 0s 5ms/step - loss: 33.5020 - mae: 33.5020\n",
      "Epoch 115/500\n",
      "1/1 [==============================] - 0s 5ms/step - loss: 81.6474 - mae: 81.6474\n",
      "Epoch 116/500\n",
      "1/1 [==============================] - 0s 5ms/step - loss: 68.9453 - mae: 68.9453\n",
      "Epoch 117/500\n",
      "1/1 [==============================] - 0s 5ms/step - loss: 28.7187 - mae: 28.7187\n",
      "Epoch 118/500\n",
      "1/1 [==============================] - 0s 6ms/step - loss: 98.7227 - mae: 98.7227\n",
      "Epoch 119/500\n",
      "1/1 [==============================] - 0s 5ms/step - loss: 78.4735 - mae: 78.4735\n",
      "Epoch 120/500\n",
      "1/1 [==============================] - 0s 5ms/step - loss: 58.9318 - mae: 58.9318\n",
      "Epoch 121/500\n",
      "1/1 [==============================] - 0s 6ms/step - loss: 2.9668 - mae: 2.9668\n",
      "Epoch 122/500\n",
      "1/1 [==============================] - 0s 5ms/step - loss: 83.0959 - mae: 83.0959\n",
      "Epoch 123/500\n",
      "1/1 [==============================] - 0s 5ms/step - loss: 73.6001 - mae: 73.6001\n",
      "Epoch 124/500\n",
      "1/1 [==============================] - 0s 5ms/step - loss: 43.5331 - mae: 43.5331\n",
      "Epoch 125/500\n",
      "1/1 [==============================] - 0s 6ms/step - loss: 51.7165 - mae: 51.7165\n",
      "Epoch 126/500\n",
      "1/1 [==============================] - 0s 6ms/step - loss: 80.7188 - mae: 80.7188\n",
      "Epoch 127/500\n",
      "1/1 [==============================] - 0s 6ms/step - loss: 66.1112 - mae: 66.1112\n",
      "Epoch 128/500\n",
      "1/1 [==============================] - 0s 7ms/step - loss: 19.8469 - mae: 19.8469\n",
      "Epoch 129/500\n",
      "1/1 [==============================] - 0s 8ms/step - loss: 126.7258 - mae: 126.7258\n",
      "Epoch 130/500\n",
      "1/1 [==============================] - 0s 11ms/step - loss: 77.0714 - mae: 77.0714\n",
      "Epoch 131/500\n",
      "1/1 [==============================] - 0s 10ms/step - loss: 54.5974 - mae: 54.5974\n",
      "Epoch 132/500\n",
      "1/1 [==============================] - 0s 6ms/step - loss: 16.5926 - mae: 16.5926\n",
      "Epoch 133/500\n",
      "1/1 [==============================] - 0s 7ms/step - loss: 82.3892 - mae: 82.3892\n",
      "Epoch 134/500\n",
      "1/1 [==============================] - 0s 5ms/step - loss: 71.4693 - mae: 71.4693\n",
      "Epoch 135/500\n",
      "1/1 [==============================] - 0s 7ms/step - loss: 36.8898 - mae: 36.8898\n",
      "Epoch 136/500\n",
      "1/1 [==============================] - 0s 6ms/step - loss: 72.6581 - mae: 72.6581\n",
      "Epoch 137/500\n",
      "1/1 [==============================] - 0s 5ms/step - loss: 79.6582 - mae: 79.6582\n",
      "Epoch 138/500\n",
      "1/1 [==============================] - 0s 4ms/step - loss: 62.8591 - mae: 62.8591\n",
      "Epoch 139/500\n",
      "1/1 [==============================] - 0s 7ms/step - loss: 9.6506 - mae: 9.6506\n",
      "Epoch 140/500\n",
      "1/1 [==============================] - 0s 6ms/step - loss: 158.9257 - mae: 158.9257\n",
      "Epoch 141/500\n",
      "1/1 [==============================] - 0s 5ms/step - loss: 75.4662 - mae: 75.4662\n",
      "Epoch 142/500\n",
      "1/1 [==============================] - 0s 5ms/step - loss: 49.6197 - mae: 49.6197\n",
      "Epoch 143/500\n",
      "1/1 [==============================] - 0s 5ms/step - loss: 32.2566 - mae: 32.2566\n",
      "Epoch 144/500\n",
      "1/1 [==============================] - 0s 5ms/step - loss: 81.5839 - mae: 81.5839\n",
      "Epoch 145/500\n",
      "1/1 [==============================] - 0s 5ms/step - loss: 69.0261 - mae: 69.0261\n",
      "Epoch 146/500\n",
      "1/1 [==============================] - 0s 5ms/step - loss: 29.2566 - mae: 29.2566\n",
      "Epoch 147/500\n",
      "1/1 [==============================] - 0s 5ms/step - loss: 96.7363 - mae: 96.7363\n",
      "Epoch 148/500\n",
      "1/1 [==============================] - 0s 5ms/step - loss: 78.4459 - mae: 78.4459\n",
      "Epoch 149/500\n",
      "1/1 [==============================] - 0s 5ms/step - loss: 59.1262 - mae: 59.1262\n",
      "Epoch 150/500\n",
      "1/1 [==============================] - 0s 9ms/step - loss: 2.1809 - mae: 2.1809\n",
      "Epoch 151/500\n",
      "1/1 [==============================] - 0s 6ms/step - loss: 77.0065 - mae: 77.0065\n",
      "Epoch 152/500\n",
      "1/1 [==============================] - 0s 6ms/step - loss: 54.5913 - mae: 54.5913\n",
      "Epoch 153/500\n",
      "1/1 [==============================] - 0s 6ms/step - loss: 16.4125 - mae: 16.4125\n",
      "Epoch 154/500\n",
      "1/1 [==============================] - 0s 7ms/step - loss: 82.3104 - mae: 82.3104\n",
      "Epoch 155/500\n",
      "1/1 [==============================] - 0s 5ms/step - loss: 71.4190 - mae: 71.4190\n",
      "Epoch 156/500\n",
      "1/1 [==============================] - 0s 6ms/step - loss: 36.9299 - mae: 36.9299\n",
      "Epoch 157/500\n",
      "1/1 [==============================] - 0s 5ms/step - loss: 72.3314 - mae: 72.3314\n",
      "Epoch 158/500\n",
      "1/1 [==============================] - 0s 6ms/step - loss: 79.5864 - mae: 79.5864\n",
      "Epoch 159/500\n",
      "1/1 [==============================] - 0s 5ms/step - loss: 62.8312 - mae: 62.8312\n",
      "Epoch 160/500\n",
      "1/1 [==============================] - 0s 7ms/step - loss: 9.7619 - mae: 9.7619\n",
      "Epoch 161/500\n",
      "1/1 [==============================] - 0s 5ms/step - loss: 158.3733 - mae: 158.3733\n",
      "Epoch 162/500\n",
      "1/1 [==============================] - 0s 6ms/step - loss: 75.4054 - mae: 75.4054\n",
      "Epoch 163/500\n",
      "1/1 [==============================] - 0s 5ms/step - loss: 49.6265 - mae: 49.6265\n",
      "Epoch 164/500\n",
      "1/1 [==============================] - 0s 5ms/step - loss: 32.0357 - mae: 32.0357\n",
      "Epoch 165/500\n",
      "1/1 [==============================] - 0s 5ms/step - loss: 81.5071 - mae: 81.5071\n",
      "Epoch 166/500\n",
      "1/1 [==============================] - 0s 6ms/step - loss: 68.9820 - mae: 68.9820\n",
      "Epoch 167/500\n",
      "1/1 [==============================] - 0s 5ms/step - loss: 29.3166 - mae: 29.3166\n",
      "Epoch 168/500\n",
      "1/1 [==============================] - 0s 6ms/step - loss: 96.3467 - mae: 96.3467\n",
      "Epoch 169/500\n",
      "1/1 [==============================] - 0s 6ms/step - loss: 78.3772 - mae: 78.3772\n",
      "Epoch 170/500\n",
      "1/1 [==============================] - 0s 6ms/step - loss: 59.1080 - mae: 59.1080\n",
      "Epoch 171/500\n",
      "1/1 [==============================] - 0s 6ms/step - loss: 2.0716 - mae: 2.0716\n",
      "Epoch 172/500\n",
      "1/1 [==============================] - 0s 5ms/step - loss: 67.7176 - mae: 67.7176\n",
      "Epoch 173/500\n",
      "1/1 [==============================] - 0s 5ms/step - loss: 25.3622 - mae: 25.3622\n",
      "Epoch 174/500\n",
      "1/1 [==============================] - 0s 6ms/step - loss: 108.8248 - mae: 108.8248\n",
      "Epoch 175/500\n",
      "1/1 [==============================] - 0s 7ms/step - loss: 77.7508 - mae: 77.7508\n",
      "Epoch 176/500\n",
      "1/1 [==============================] - 0s 5ms/step - loss: 57.1752 - mae: 57.1752\n",
      "Epoch 177/500\n",
      "1/1 [==============================] - 0s 7ms/step - loss: 7.9996 - mae: 7.9996\n",
      "Epoch 178/500\n",
      "1/1 [==============================] - 0s 5ms/step - loss: 82.6183 - mae: 82.6183\n",
      "Epoch 179/500\n",
      "1/1 [==============================] - 0s 6ms/step - loss: 72.6204 - mae: 72.6204\n",
      "Epoch 180/500\n",
      "1/1 [==============================] - 0s 6ms/step - loss: 40.9623 - mae: 40.9623\n",
      "Epoch 181/500\n",
      "1/1 [==============================] - 0s 6ms/step - loss: 59.3287 - mae: 59.3287\n",
      "Epoch 182/500\n",
      "1/1 [==============================] - 0s 7ms/step - loss: 80.1164 - mae: 80.1164\n",
      "Epoch 183/500\n",
      "1/1 [==============================] - 0s 10ms/step - loss: 64.7361 - mae: 64.7361\n",
      "Epoch 184/500\n",
      "1/1 [==============================] - 0s 7ms/step - loss: 16.0234 - mae: 16.0234\n",
      "Epoch 185/500\n",
      "1/1 [==============================] - 0s 6ms/step - loss: 138.3076 - mae: 138.3076\n",
      "Epoch 186/500\n",
      "1/1 [==============================] - 0s 8ms/step - loss: 76.2771 - mae: 76.2771\n",
      "Epoch 187/500\n",
      "1/1 [==============================] - 0s 7ms/step - loss: 52.6139 - mae: 52.6139\n",
      "Epoch 188/500\n",
      "1/1 [==============================] - 0s 5ms/step - loss: 22.3440 - mae: 22.3440\n",
      "Epoch 189/500\n",
      "1/1 [==============================] - 0s 6ms/step - loss: 81.8769 - mae: 81.8769\n",
      "Epoch 190/500\n",
      "1/1 [==============================] - 0s 5ms/step - loss: 70.3795 - mae: 70.3795\n",
      "Epoch 191/500\n",
      "1/1 [==============================] - 0s 9ms/step - loss: 33.9700 - mae: 33.9700\n",
      "Epoch 192/500\n",
      "1/1 [==============================] - 0s 19ms/step - loss: 81.3762 - mae: 81.3762\n",
      "Epoch 193/500\n",
      "1/1 [==============================] - 0s 19ms/step - loss: 79.0024 - mae: 79.0024\n",
      "Epoch 194/500\n",
      "1/1 [==============================] - 0s 6ms/step - loss: 61.3145 - mae: 61.3145\n",
      "Epoch 195/500\n",
      "1/1 [==============================] - 0s 5ms/step - loss: 5.2900 - mae: 5.2900\n",
      "Epoch 196/500\n",
      "1/1 [==============================] - 0s 6ms/step - loss: 172.2092 - mae: 172.2092\n",
      "Epoch 197/500\n",
      "1/1 [==============================] - 0s 6ms/step - loss: 74.5896 - mae: 74.5896\n",
      "Epoch 198/500\n",
      "1/1 [==============================] - 0s 6ms/step - loss: 47.3754 - mae: 47.3754\n",
      "Epoch 199/500\n",
      "1/1 [==============================] - 0s 6ms/step - loss: 38.8345 - mae: 38.8345\n",
      "Epoch 200/500\n",
      "1/1 [==============================] - 0s 6ms/step - loss: 81.0316 - mae: 81.0316\n",
      "Epoch 201/500\n",
      "1/1 [==============================] - 0s 5ms/step - loss: 67.8096 - mae: 67.8096\n",
      "Epoch 202/500\n",
      "1/1 [==============================] - 0s 5ms/step - loss: 25.9355 - mae: 25.9355\n",
      "Epoch 203/500\n",
      "1/1 [==============================] - 0s 5ms/step - loss: 106.7262 - mae: 106.7262\n",
      "Epoch 204/500\n",
      "1/1 [==============================] - 0s 5ms/step - loss: 77.7286 - mae: 77.7286\n",
      "Epoch 205/500\n",
      "1/1 [==============================] - 0s 5ms/step - loss: 57.3867 - mae: 57.3867\n",
      "Epoch 206/500\n",
      "1/1 [==============================] - 0s 5ms/step - loss: 7.0473 - mae: 7.0473\n",
      "Epoch 207/500\n",
      "1/1 [==============================] - 0s 6ms/step - loss: 82.5407 - mae: 82.5407\n",
      "Epoch 208/500\n",
      "1/1 [==============================] - 0s 4ms/step - loss: 72.6563 - mae: 72.6563\n",
      "Epoch 209/500\n",
      "1/1 [==============================] - 0s 5ms/step - loss: 41.3579 - mae: 41.3579\n",
      "Epoch 210/500\n",
      "1/1 [==============================] - 0s 9ms/step - loss: 57.7932 - mae: 57.7932\n",
      "Epoch 211/500\n",
      "1/1 [==============================] - 0s 6ms/step - loss: 80.0670 - mae: 80.0670\n",
      "Epoch 212/500\n",
      "1/1 [==============================] - 0s 5ms/step - loss: 64.8614 - mae: 64.8614\n",
      "Epoch 213/500\n",
      "1/1 [==============================] - 0s 6ms/step - loss: 16.7022 - mae: 16.7022\n",
      "Epoch 214/500\n",
      "1/1 [==============================] - 0s 5ms/step - loss: 135.8745 - mae: 135.8745\n",
      "Epoch 215/500\n",
      "1/1 [==============================] - 0s 6ms/step - loss: 76.2710 - mae: 76.2710\n",
      "Epoch 216/500\n",
      "1/1 [==============================] - 0s 5ms/step - loss: 52.8768 - mae: 52.8768\n",
      "Epoch 217/500\n",
      "1/1 [==============================] - 0s 6ms/step - loss: 21.2292 - mae: 21.2292\n",
      "Epoch 218/500\n",
      "1/1 [==============================] - 0s 5ms/step - loss: 81.8071 - mae: 81.8071\n",
      "Epoch 219/500\n",
      "1/1 [==============================] - 0s 5ms/step - loss: 70.4402 - mae: 70.4402\n",
      "Epoch 220/500\n",
      "1/1 [==============================] - 0s 5ms/step - loss: 34.4446 - mae: 34.4446\n",
      "Epoch 221/500\n",
      "1/1 [==============================] - 0s 5ms/step - loss: 79.5907 - mae: 79.5907\n",
      "Epoch 222/500\n",
      "1/1 [==============================] - 0s 6ms/step - loss: 78.9650 - mae: 78.9650\n",
      "Epoch 223/500\n",
      "1/1 [==============================] - 0s 6ms/step - loss: 61.4781 - mae: 61.4781\n",
      "Epoch 224/500\n",
      "1/1 [==============================] - 0s 6ms/step - loss: 6.0903 - mae: 6.0903\n",
      "Epoch 225/500\n",
      "1/1 [==============================] - 0s 5ms/step - loss: 169.3914 - mae: 169.3914\n",
      "Epoch 226/500\n",
      "1/1 [==============================] - 0s 6ms/step - loss: 74.6022 - mae: 74.6022\n",
      "Epoch 227/500\n",
      "1/1 [==============================] - 0s 5ms/step - loss: 47.6972 - mae: 47.6972\n",
      "Epoch 228/500\n",
      "1/1 [==============================] - 0s 6ms/step - loss: 37.5329 - mae: 37.5329\n",
      "Epoch 229/500\n",
      "1/1 [==============================] - 0s 6ms/step - loss: 80.9709 - mae: 80.9709\n",
      "Epoch 230/500\n",
      "1/1 [==============================] - 0s 5ms/step - loss: 67.8990 - mae: 67.8990\n",
      "Epoch 231/500\n",
      "1/1 [==============================] - 0s 6ms/step - loss: 26.5008 - mae: 26.5008\n",
      "Epoch 232/500\n",
      "1/1 [==============================] - 0s 7ms/step - loss: 104.6531 - mae: 104.6531\n",
      "Epoch 233/500\n",
      "1/1 [==============================] - 0s 8ms/step - loss: 77.7051 - mae: 77.7051\n",
      "Epoch 234/500\n",
      "1/1 [==============================] - 0s 6ms/step - loss: 57.5944 - mae: 57.5944\n",
      "Epoch 235/500\n",
      "1/1 [==============================] - 0s 6ms/step - loss: 6.1073 - mae: 6.1073\n",
      "Epoch 236/500\n",
      "1/1 [==============================] - 0s 6ms/step - loss: 82.4625 - mae: 82.4625\n",
      "Epoch 237/500\n",
      "1/1 [==============================] - 0s 5ms/step - loss: 72.6903 - mae: 72.6903\n",
      "Epoch 238/500\n",
      "1/1 [==============================] - 0s 5ms/step - loss: 41.7476 - mae: 41.7476\n",
      "Epoch 239/500\n",
      "1/1 [==============================] - 0s 5ms/step - loss: 56.2766 - mae: 56.2766\n",
      "Epoch 240/500\n",
      "1/1 [==============================] - 0s 6ms/step - loss: 80.0167 - mae: 80.0166\n",
      "Epoch 241/500\n",
      "1/1 [==============================] - 0s 5ms/step - loss: 64.9838 - mae: 64.9838\n",
      "Epoch 242/500\n",
      "1/1 [==============================] - 0s 6ms/step - loss: 17.3719 - mae: 17.3719\n",
      "Epoch 243/500\n",
      "1/1 [==============================] - 0s 5ms/step - loss: 133.4707 - mae: 133.4707\n",
      "Epoch 244/500\n",
      "1/1 [==============================] - 0s 6ms/step - loss: 76.2636 - mae: 76.2636\n",
      "Epoch 245/500\n",
      "1/1 [==============================] - 0s 5ms/step - loss: 53.1352 - mae: 53.1352\n",
      "Epoch 246/500\n",
      "1/1 [==============================] - 0s 6ms/step - loss: 20.1286 - mae: 20.1286\n",
      "Epoch 247/500\n",
      "1/1 [==============================] - 0s 5ms/step - loss: 81.7366 - mae: 81.7366\n",
      "Epoch 248/500\n",
      "1/1 [==============================] - 0s 5ms/step - loss: 70.4989 - mae: 70.4989\n",
      "Epoch 249/500\n",
      "1/1 [==============================] - 0s 5ms/step - loss: 34.9122 - mae: 34.9122\n",
      "Epoch 250/500\n",
      "1/1 [==============================] - 0s 5ms/step - loss: 77.8269 - mae: 77.8269\n",
      "Epoch 251/500\n",
      "1/1 [==============================] - 0s 5ms/step - loss: 78.9266 - mae: 78.9266\n",
      "Epoch 252/500\n",
      "1/1 [==============================] - 0s 5ms/step - loss: 61.6384 - mae: 61.6384\n",
      "Epoch 253/500\n",
      "1/1 [==============================] - 0s 6ms/step - loss: 6.8801 - mae: 6.8801\n",
      "Epoch 254/500\n",
      "1/1 [==============================] - 0s 5ms/step - loss: 166.6071 - mae: 166.6071\n",
      "Epoch 255/500\n",
      "1/1 [==============================] - 0s 7ms/step - loss: 74.6132 - mae: 74.6132\n",
      "Epoch 256/500\n",
      "1/1 [==============================] - 0s 5ms/step - loss: 48.0139 - mae: 48.0139\n",
      "Epoch 257/500\n",
      "1/1 [==============================] - 0s 6ms/step - loss: 36.2475 - mae: 36.2475\n",
      "Epoch 258/500\n",
      "1/1 [==============================] - 0s 5ms/step - loss: 80.9094 - mae: 80.9094\n",
      "Epoch 259/500\n",
      "1/1 [==============================] - 0s 6ms/step - loss: 67.9860 - mae: 67.9860\n",
      "Epoch 260/500\n",
      "1/1 [==============================] - 0s 5ms/step - loss: 27.0582 - mae: 27.0582\n",
      "Epoch 261/500\n",
      "1/1 [==============================] - 0s 6ms/step - loss: 102.6050 - mae: 102.6050\n",
      "Epoch 262/500\n",
      "1/1 [==============================] - 0s 5ms/step - loss: 77.6805 - mae: 77.6805\n",
      "Epoch 263/500\n",
      "1/1 [==============================] - 0s 7ms/step - loss: 57.7983 - mae: 57.7983\n",
      "Epoch 264/500\n",
      "1/1 [==============================] - 0s 5ms/step - loss: 5.1794 - mae: 5.1794\n",
      "Epoch 265/500\n",
      "1/1 [==============================] - 0s 6ms/step - loss: 82.3836 - mae: 82.3836\n",
      "Epoch 266/500\n",
      "1/1 [==============================] - 0s 6ms/step - loss: 72.7224 - mae: 72.7224\n",
      "Epoch 267/500\n",
      "1/1 [==============================] - 0s 6ms/step - loss: 42.1314 - mae: 42.1314\n",
      "Epoch 268/500\n",
      "1/1 [==============================] - 0s 5ms/step - loss: 54.7787 - mae: 54.7787\n",
      "Epoch 269/500\n",
      "1/1 [==============================] - 0s 5ms/step - loss: 79.9654 - mae: 79.9654\n",
      "Epoch 270/500\n",
      "1/1 [==============================] - 0s 5ms/step - loss: 65.1033 - mae: 65.1033\n",
      "Epoch 271/500\n",
      "1/1 [==============================] - 0s 5ms/step - loss: 18.0325 - mae: 18.0325\n",
      "Epoch 272/500\n",
      "1/1 [==============================] - 0s 7ms/step - loss: 131.0955 - mae: 131.0955\n",
      "Epoch 273/500\n",
      "1/1 [==============================] - 0s 6ms/step - loss: 76.2548 - mae: 76.2548\n",
      "Epoch 274/500\n",
      "1/1 [==============================] - 0s 7ms/step - loss: 53.3891 - mae: 53.3891\n",
      "Epoch 275/500\n",
      "1/1 [==============================] - 0s 5ms/step - loss: 19.0420 - mae: 19.0420\n",
      "Epoch 276/500\n",
      "1/1 [==============================] - 0s 6ms/step - loss: 81.6655 - mae: 81.6655\n",
      "Epoch 277/500\n",
      "1/1 [==============================] - 0s 5ms/step - loss: 70.5554 - mae: 70.5554\n",
      "Epoch 278/500\n",
      "1/1 [==============================] - 0s 7ms/step - loss: 35.3731 - mae: 35.3731\n",
      "Epoch 279/500\n",
      "1/1 [==============================] - 0s 5ms/step - loss: 76.0846 - mae: 76.0846\n",
      "Epoch 280/500\n",
      "1/1 [==============================] - 0s 6ms/step - loss: 78.8872 - mae: 78.8872\n",
      "Epoch 281/500\n",
      "1/1 [==============================] - 0s 5ms/step - loss: 61.7954 - mae: 61.7954\n",
      "Epoch 282/500\n",
      "1/1 [==============================] - 0s 6ms/step - loss: 7.6594 - mae: 7.6594\n",
      "Epoch 283/500\n",
      "1/1 [==============================] - 0s 5ms/step - loss: 163.8557 - mae: 163.8557\n",
      "Epoch 284/500\n",
      "1/1 [==============================] - 0s 6ms/step - loss: 74.6225 - mae: 74.6225\n",
      "Epoch 285/500\n",
      "1/1 [==============================] - 0s 6ms/step - loss: 48.3256 - mae: 48.3256\n",
      "Epoch 286/500\n",
      "1/1 [==============================] - 0s 7ms/step - loss: 34.9781 - mae: 34.9781\n",
      "Epoch 287/500\n",
      "1/1 [==============================] - 0s 5ms/step - loss: 80.8470 - mae: 80.8470\n",
      "Epoch 288/500\n",
      "1/1 [==============================] - 0s 6ms/step - loss: 68.0704 - mae: 68.0704\n",
      "Epoch 289/500\n",
      "1/1 [==============================] - 0s 6ms/step - loss: 27.6078 - mae: 27.6078\n",
      "Epoch 290/500\n",
      "1/1 [==============================] - 0s 5ms/step - loss: 100.5815 - mae: 100.5815\n",
      "Epoch 291/500\n",
      "1/1 [==============================] - 0s 6ms/step - loss: 77.6547 - mae: 77.6547\n",
      "Epoch 292/500\n",
      "1/1 [==============================] - 0s 6ms/step - loss: 57.9983 - mae: 57.9983\n",
      "Epoch 293/500\n",
      "1/1 [==============================] - 0s 6ms/step - loss: 4.2636 - mae: 4.2636\n",
      "Epoch 294/500\n",
      "1/1 [==============================] - 0s 7ms/step - loss: 82.3042 - mae: 82.3042\n",
      "Epoch 295/500\n",
      "1/1 [==============================] - 0s 6ms/step - loss: 72.7527 - mae: 72.7527\n",
      "Epoch 296/500\n",
      "1/1 [==============================] - 0s 6ms/step - loss: 42.5093 - mae: 42.5093\n",
      "Epoch 297/500\n",
      "1/1 [==============================] - 0s 5ms/step - loss: 53.2993 - mae: 53.2993\n",
      "Epoch 298/500\n",
      "1/1 [==============================] - 0s 5ms/step - loss: 79.9132 - mae: 79.9132\n",
      "Epoch 299/500\n",
      "1/1 [==============================] - 0s 5ms/step - loss: 65.2200 - mae: 65.2200\n",
      "Epoch 300/500\n",
      "1/1 [==============================] - 0s 5ms/step - loss: 18.6842 - mae: 18.6842\n",
      "Epoch 301/500\n",
      "1/1 [==============================] - 0s 5ms/step - loss: 128.7487 - mae: 128.7487\n",
      "Epoch 302/500\n",
      "1/1 [==============================] - 0s 6ms/step - loss: 76.2446 - mae: 76.2446\n",
      "Epoch 303/500\n",
      "1/1 [==============================] - 0s 6ms/step - loss: 53.6387 - mae: 53.6387\n",
      "Epoch 304/500\n",
      "1/1 [==============================] - 0s 5ms/step - loss: 17.9691 - mae: 17.9691\n",
      "Epoch 305/500\n",
      "1/1 [==============================] - 0s 7ms/step - loss: 81.5937 - mae: 81.5937\n",
      "Epoch 306/500\n",
      "1/1 [==============================] - 0s 6ms/step - loss: 70.6097 - mae: 70.6097\n",
      "Epoch 307/500\n",
      "1/1 [==============================] - 0s 7ms/step - loss: 35.8273 - mae: 35.8273\n",
      "Epoch 308/500\n",
      "1/1 [==============================] - 0s 5ms/step - loss: 74.3634 - mae: 74.3634\n",
      "Epoch 309/500\n",
      "1/1 [==============================] - 0s 6ms/step - loss: 78.8467 - mae: 78.8467\n",
      "Epoch 310/500\n",
      "1/1 [==============================] - 0s 6ms/step - loss: 61.9491 - mae: 61.9491\n",
      "Epoch 311/500\n",
      "1/1 [==============================] - 0s 7ms/step - loss: 8.4284 - mae: 8.4284\n",
      "Epoch 312/500\n",
      "1/1 [==============================] - 0s 5ms/step - loss: 161.1371 - mae: 161.1371\n",
      "Epoch 313/500\n",
      "1/1 [==============================] - 0s 8ms/step - loss: 74.6303 - mae: 74.6303\n",
      "Epoch 314/500\n",
      "1/1 [==============================] - 0s 5ms/step - loss: 48.6322 - mae: 48.6322\n",
      "Epoch 315/500\n",
      "1/1 [==============================] - 0s 6ms/step - loss: 33.7247 - mae: 33.7247\n",
      "Epoch 316/500\n",
      "1/1 [==============================] - 0s 6ms/step - loss: 80.7840 - mae: 80.7840\n",
      "Epoch 317/500\n",
      "1/1 [==============================] - 0s 6ms/step - loss: 68.1525 - mae: 68.1525\n",
      "Epoch 318/500\n",
      "1/1 [==============================] - 0s 5ms/step - loss: 28.1497 - mae: 28.1497\n",
      "Epoch 319/500\n",
      "1/1 [==============================] - 0s 6ms/step - loss: 98.5826 - mae: 98.5826\n",
      "Epoch 320/500\n",
      "1/1 [==============================] - 0s 5ms/step - loss: 77.6276 - mae: 77.6276\n",
      "Epoch 321/500\n",
      "1/1 [==============================] - 0s 5ms/step - loss: 58.1946 - mae: 58.1946\n",
      "Epoch 322/500\n",
      "1/1 [==============================] - 0s 5ms/step - loss: 3.3596 - mae: 3.3596\n",
      "Epoch 323/500\n",
      "1/1 [==============================] - 0s 6ms/step - loss: 82.2242 - mae: 82.2242\n",
      "Epoch 324/500\n",
      "1/1 [==============================] - 0s 6ms/step - loss: 72.7812 - mae: 72.7812\n",
      "Epoch 325/500\n",
      "1/1 [==============================] - 0s 7ms/step - loss: 42.8814 - mae: 42.8814\n",
      "Epoch 326/500\n",
      "1/1 [==============================] - 0s 5ms/step - loss: 51.8381 - mae: 51.8381\n",
      "Epoch 327/500\n",
      "1/1 [==============================] - 0s 6ms/step - loss: 79.8602 - mae: 79.8602\n",
      "Epoch 328/500\n",
      "1/1 [==============================] - 0s 5ms/step - loss: 65.3339 - mae: 65.3339\n",
      "Epoch 329/500\n",
      "1/1 [==============================] - 0s 6ms/step - loss: 19.3269 - mae: 19.3269\n",
      "Epoch 330/500\n",
      "1/1 [==============================] - 0s 5ms/step - loss: 126.4302 - mae: 126.4302\n",
      "Epoch 331/500\n",
      "1/1 [==============================] - 0s 7ms/step - loss: 76.2330 - mae: 76.2330\n",
      "Epoch 332/500\n",
      "1/1 [==============================] - 0s 6ms/step - loss: 53.8840 - mae: 53.8840\n",
      "Epoch 333/500\n",
      "1/1 [==============================] - 0s 7ms/step - loss: 16.9099 - mae: 16.9099\n",
      "Epoch 334/500\n",
      "1/1 [==============================] - 0s 5ms/step - loss: 81.5212 - mae: 81.5212\n",
      "Epoch 335/500\n",
      "1/1 [==============================] - 0s 7ms/step - loss: 70.6620 - mae: 70.6620\n",
      "Epoch 336/500\n",
      "1/1 [==============================] - 0s 5ms/step - loss: 36.2748 - mae: 36.2748\n",
      "Epoch 337/500\n",
      "1/1 [==============================] - 0s 6ms/step - loss: 72.6635 - mae: 72.6635\n",
      "Epoch 338/500\n",
      "1/1 [==============================] - 0s 5ms/step - loss: 78.8053 - mae: 78.8053\n",
      "Epoch 339/500\n",
      "1/1 [==============================] - 0s 7ms/step - loss: 62.0996 - mae: 62.0996\n",
      "Epoch 340/500\n",
      "1/1 [==============================] - 0s 5ms/step - loss: 9.1871 - mae: 9.1871\n",
      "Epoch 341/500\n",
      "1/1 [==============================] - 0s 6ms/step - loss: 158.4512 - mae: 158.4511\n",
      "Epoch 342/500\n",
      "1/1 [==============================] - 0s 5ms/step - loss: 74.6365 - mae: 74.6365\n",
      "Epoch 343/500\n",
      "1/1 [==============================] - 0s 5ms/step - loss: 48.9338 - mae: 48.9338\n",
      "Epoch 344/500\n",
      "1/1 [==============================] - 0s 6ms/step - loss: 32.4870 - mae: 32.4870\n",
      "Epoch 345/500\n",
      "1/1 [==============================] - 0s 5ms/step - loss: 80.7201 - mae: 80.7201\n",
      "Epoch 346/500\n",
      "1/1 [==============================] - 0s 5ms/step - loss: 68.2321 - mae: 68.2321\n",
      "Epoch 347/500\n",
      "1/1 [==============================] - 0s 6ms/step - loss: 28.6839 - mae: 28.6839\n",
      "Epoch 348/500\n",
      "1/1 [==============================] - 0s 9ms/step - loss: 96.6079 - mae: 96.6079\n",
      "Epoch 349/500\n",
      "1/1 [==============================] - 0s 6ms/step - loss: 77.5994 - mae: 77.5994\n",
      "Epoch 350/500\n",
      "1/1 [==============================] - 0s 5ms/step - loss: 58.3872 - mae: 58.3872\n",
      "Epoch 351/500\n",
      "1/1 [==============================] - 0s 4ms/step - loss: 2.4767 - mae: 2.4767\n",
      "Epoch 352/500\n",
      "1/1 [==============================] - 0s 7ms/step - loss: 76.1680 - mae: 76.1680\n",
      "Epoch 353/500\n",
      "1/1 [==============================] - 0s 6ms/step - loss: 53.8774 - mae: 53.8774\n",
      "Epoch 354/500\n",
      "1/1 [==============================] - 0s 5ms/step - loss: 16.7315 - mae: 16.7315\n",
      "Epoch 355/500\n",
      "1/1 [==============================] - 0s 6ms/step - loss: 81.4423 - mae: 81.4423\n",
      "Epoch 356/500\n",
      "1/1 [==============================] - 0s 7ms/step - loss: 70.6114 - mae: 70.6114\n",
      "Epoch 357/500\n",
      "1/1 [==============================] - 0s 5ms/step - loss: 36.3142 - mae: 36.3142\n",
      "Epoch 358/500\n",
      "1/1 [==============================] - 0s 7ms/step - loss: 72.3393 - mae: 72.3393\n",
      "Epoch 359/500\n",
      "1/1 [==============================] - 0s 5ms/step - loss: 78.7334 - mae: 78.7334\n",
      "Epoch 360/500\n",
      "1/1 [==============================] - 0s 6ms/step - loss: 62.0714 - mae: 62.0714\n",
      "Epoch 361/500\n",
      "1/1 [==============================] - 0s 5ms/step - loss: 9.2973 - mae: 9.2973\n",
      "Epoch 362/500\n",
      "1/1 [==============================] - 0s 6ms/step - loss: 157.9026 - mae: 157.9026\n",
      "Epoch 363/500\n",
      "1/1 [==============================] - 0s 5ms/step - loss: 74.5755 - mae: 74.5755\n",
      "Epoch 364/500\n",
      "1/1 [==============================] - 0s 8ms/step - loss: 48.9400 - mae: 48.9400\n",
      "Epoch 365/500\n",
      "1/1 [==============================] - 0s 5ms/step - loss: 32.2679 - mae: 32.2679\n",
      "Epoch 366/500\n",
      "1/1 [==============================] - 0s 6ms/step - loss: 80.6432 - mae: 80.6432\n",
      "Epoch 367/500\n",
      "1/1 [==============================] - 0s 5ms/step - loss: 68.1878 - mae: 68.1878\n",
      "Epoch 368/500\n",
      "1/1 [==============================] - 0s 7ms/step - loss: 28.7430 - mae: 28.7430\n",
      "Epoch 369/500\n",
      "1/1 [==============================] - 0s 5ms/step - loss: 96.2212 - mae: 96.2212\n",
      "Epoch 370/500\n",
      "1/1 [==============================] - 0s 6ms/step - loss: 77.5306 - mae: 77.5306\n",
      "Epoch 371/500\n",
      "1/1 [==============================] - 0s 6ms/step - loss: 58.3686 - mae: 58.3686\n",
      "Epoch 372/500\n",
      "1/1 [==============================] - 0s 6ms/step - loss: 2.3535 - mae: 2.3535\n",
      "Epoch 373/500\n",
      "1/1 [==============================] - 0s 5ms/step - loss: 76.1028 - mae: 76.1028\n",
      "Epoch 374/500\n",
      "1/1 [==============================] - 0s 6ms/step - loss: 53.8705 - mae: 53.8705\n",
      "Epoch 375/500\n",
      "1/1 [==============================] - 0s 6ms/step - loss: 16.5538 - mae: 16.5538\n",
      "Epoch 376/500\n",
      "1/1 [==============================] - 0s 5ms/step - loss: 81.3633 - mae: 81.3633\n",
      "Epoch 377/500\n",
      "1/1 [==============================] - 0s 6ms/step - loss: 70.5608 - mae: 70.5608\n",
      "Epoch 378/500\n",
      "1/1 [==============================] - 0s 5ms/step - loss: 36.3532 - mae: 36.3532\n",
      "Epoch 379/500\n",
      "1/1 [==============================] - 0s 6ms/step - loss: 72.0163 - mae: 72.0163\n",
      "Epoch 380/500\n",
      "1/1 [==============================] - 0s 5ms/step - loss: 78.6615 - mae: 78.6615\n",
      "Epoch 381/500\n",
      "1/1 [==============================] - 0s 5ms/step - loss: 62.0430 - mae: 62.0430\n",
      "Epoch 382/500\n",
      "1/1 [==============================] - 0s 5ms/step - loss: 9.4068 - mae: 9.4068\n",
      "Epoch 383/500\n",
      "1/1 [==============================] - 0s 6ms/step - loss: 157.3558 - mae: 157.3558\n",
      "Epoch 384/500\n",
      "1/1 [==============================] - 0s 6ms/step - loss: 74.5144 - mae: 74.5144\n",
      "Epoch 385/500\n",
      "1/1 [==============================] - 0s 6ms/step - loss: 48.9459 - mae: 48.9459\n",
      "Epoch 386/500\n",
      "1/1 [==============================] - 0s 5ms/step - loss: 32.0497 - mae: 32.0497\n",
      "Epoch 387/500\n",
      "1/1 [==============================] - 0s 5ms/step - loss: 80.5662 - mae: 80.5662\n",
      "Epoch 388/500\n",
      "1/1 [==============================] - 0s 6ms/step - loss: 68.1433 - mae: 68.1433\n",
      "Epoch 389/500\n",
      "1/1 [==============================] - 0s 6ms/step - loss: 28.8017 - mae: 28.8017\n",
      "Epoch 390/500\n",
      "1/1 [==============================] - 0s 5ms/step - loss: 95.8358 - mae: 95.8358\n",
      "Epoch 391/500\n",
      "1/1 [==============================] - 0s 5ms/step - loss: 77.4617 - mae: 77.4617\n",
      "Epoch 392/500\n",
      "1/1 [==============================] - 0s 5ms/step - loss: 58.3498 - mae: 58.3498\n",
      "Epoch 393/500\n",
      "1/1 [==============================] - 0s 6ms/step - loss: 2.2309 - mae: 2.2309\n",
      "Epoch 394/500\n",
      "1/1 [==============================] - 0s 5ms/step - loss: 76.0376 - mae: 76.0376\n",
      "Epoch 395/500\n",
      "1/1 [==============================] - 0s 6ms/step - loss: 53.8634 - mae: 53.8634\n",
      "Epoch 396/500\n",
      "1/1 [==============================] - 0s 5ms/step - loss: 16.3768 - mae: 16.3768\n",
      "Epoch 397/500\n",
      "1/1 [==============================] - 0s 6ms/step - loss: 81.2843 - mae: 81.2843\n",
      "Epoch 398/500\n",
      "1/1 [==============================] - 0s 5ms/step - loss: 70.5100 - mae: 70.5100\n",
      "Epoch 399/500\n",
      "1/1 [==============================] - 0s 5ms/step - loss: 36.3918 - mae: 36.3918\n",
      "Epoch 400/500\n",
      "1/1 [==============================] - 0s 6ms/step - loss: 71.6944 - mae: 71.6944\n",
      "Epoch 401/500\n",
      "1/1 [==============================] - 0s 5ms/step - loss: 78.5895 - mae: 78.5895\n",
      "Epoch 402/500\n",
      "1/1 [==============================] - 0s 6ms/step - loss: 62.0144 - mae: 62.0144\n",
      "Epoch 403/500\n",
      "1/1 [==============================] - 0s 5ms/step - loss: 9.5158 - mae: 9.5158\n",
      "Epoch 404/500\n",
      "1/1 [==============================] - 0s 6ms/step - loss: 156.8110 - mae: 156.8110\n",
      "Epoch 405/500\n",
      "1/1 [==============================] - 0s 6ms/step - loss: 74.4532 - mae: 74.4532\n",
      "Epoch 406/500\n",
      "1/1 [==============================] - 0s 5ms/step - loss: 48.9515 - mae: 48.9515\n",
      "Epoch 407/500\n",
      "1/1 [==============================] - 0s 5ms/step - loss: 31.8324 - mae: 31.8324\n",
      "Epoch 408/500\n",
      "1/1 [==============================] - 0s 7ms/step - loss: 80.4891 - mae: 80.4891\n",
      "Epoch 409/500\n",
      "1/1 [==============================] - 0s 6ms/step - loss: 68.0987 - mae: 68.0987\n",
      "Epoch 410/500\n",
      "1/1 [==============================] - 0s 6ms/step - loss: 28.8599 - mae: 28.8599\n",
      "Epoch 411/500\n",
      "1/1 [==============================] - 0s 6ms/step - loss: 95.4519 - mae: 95.4519\n",
      "Epoch 412/500\n",
      "1/1 [==============================] - 0s 6ms/step - loss: 77.3927 - mae: 77.3927\n",
      "Epoch 413/500\n",
      "1/1 [==============================] - 0s 5ms/step - loss: 58.3307 - mae: 58.3307\n",
      "Epoch 414/500\n",
      "1/1 [==============================] - 0s 6ms/step - loss: 2.1089 - mae: 2.1089\n",
      "Epoch 415/500\n",
      "1/1 [==============================] - 0s 5ms/step - loss: 75.9723 - mae: 75.9723\n",
      "Epoch 416/500\n",
      "1/1 [==============================] - 0s 5ms/step - loss: 53.8560 - mae: 53.8560\n",
      "Epoch 417/500\n",
      "1/1 [==============================] - 0s 5ms/step - loss: 16.2007 - mae: 16.2007\n",
      "Epoch 418/500\n",
      "1/1 [==============================] - 0s 6ms/step - loss: 81.2053 - mae: 81.2053\n",
      "Epoch 419/500\n",
      "1/1 [==============================] - 0s 5ms/step - loss: 70.4591 - mae: 70.4591\n",
      "Epoch 420/500\n",
      "1/1 [==============================] - 0s 7ms/step - loss: 36.4300 - mae: 36.4300\n",
      "Epoch 421/500\n",
      "1/1 [==============================] - 0s 5ms/step - loss: 71.3737 - mae: 71.3737\n",
      "Epoch 422/500\n",
      "1/1 [==============================] - 0s 5ms/step - loss: 78.5175 - mae: 78.5175\n",
      "Epoch 423/500\n",
      "1/1 [==============================] - 0s 5ms/step - loss: 61.9857 - mae: 61.9857\n",
      "Epoch 424/500\n",
      "1/1 [==============================] - 0s 5ms/step - loss: 9.6242 - mae: 9.6242\n",
      "Epoch 425/500\n",
      "1/1 [==============================] - 0s 6ms/step - loss: 156.2679 - mae: 156.2679\n",
      "Epoch 426/500\n",
      "1/1 [==============================] - 0s 7ms/step - loss: 74.3919 - mae: 74.3919\n",
      "Epoch 427/500\n",
      "1/1 [==============================] - 0s 5ms/step - loss: 48.9568 - mae: 48.9568\n",
      "Epoch 428/500\n",
      "1/1 [==============================] - 0s 5ms/step - loss: 31.6160 - mae: 31.6160\n",
      "Epoch 429/500\n",
      "1/1 [==============================] - 0s 6ms/step - loss: 80.4121 - mae: 80.4121\n",
      "Epoch 430/500\n",
      "1/1 [==============================] - 0s 5ms/step - loss: 68.0540 - mae: 68.0540\n",
      "Epoch 431/500\n",
      "1/1 [==============================] - 0s 6ms/step - loss: 28.9177 - mae: 28.9177\n",
      "Epoch 432/500\n",
      "1/1 [==============================] - 0s 6ms/step - loss: 95.0692 - mae: 95.0692\n",
      "Epoch 433/500\n",
      "1/1 [==============================] - 0s 6ms/step - loss: 77.3237 - mae: 77.3237\n",
      "Epoch 434/500\n",
      "1/1 [==============================] - 0s 7ms/step - loss: 58.3115 - mae: 58.3115\n",
      "Epoch 435/500\n",
      "1/1 [==============================] - 0s 7ms/step - loss: 1.9874 - mae: 1.9874\n",
      "Epoch 436/500\n",
      "1/1 [==============================] - 0s 7ms/step - loss: 75.9070 - mae: 75.9070\n",
      "Epoch 437/500\n",
      "1/1 [==============================] - 0s 6ms/step - loss: 53.8484 - mae: 53.8484\n",
      "Epoch 438/500\n",
      "1/1 [==============================] - 0s 6ms/step - loss: 16.0252 - mae: 16.0252\n",
      "Epoch 439/500\n",
      "1/1 [==============================] - 0s 5ms/step - loss: 81.1262 - mae: 81.1262\n",
      "Epoch 440/500\n",
      "1/1 [==============================] - 0s 5ms/step - loss: 70.4081 - mae: 70.4081\n",
      "Epoch 441/500\n",
      "1/1 [==============================] - 0s 5ms/step - loss: 36.4679 - mae: 36.4679\n",
      "Epoch 442/500\n",
      "1/1 [==============================] - 0s 5ms/step - loss: 71.0542 - mae: 71.0542\n",
      "Epoch 443/500\n",
      "1/1 [==============================] - 0s 4ms/step - loss: 78.4454 - mae: 78.4454\n",
      "Epoch 444/500\n",
      "1/1 [==============================] - 0s 5ms/step - loss: 61.9567 - mae: 61.9567\n",
      "Epoch 445/500\n",
      "1/1 [==============================] - 0s 5ms/step - loss: 9.7321 - mae: 9.7321\n",
      "Epoch 446/500\n",
      "1/1 [==============================] - 0s 5ms/step - loss: 155.7266 - mae: 155.7266\n",
      "Epoch 447/500\n",
      "1/1 [==============================] - 0s 6ms/step - loss: 74.3306 - mae: 74.3306\n",
      "Epoch 448/500\n",
      "1/1 [==============================] - 0s 5ms/step - loss: 48.9619 - mae: 48.9619\n",
      "Epoch 449/500\n",
      "1/1 [==============================] - 0s 6ms/step - loss: 31.4004 - mae: 31.4004\n",
      "Epoch 450/500\n",
      "1/1 [==============================] - 0s 6ms/step - loss: 80.3349 - mae: 80.3349\n",
      "Epoch 451/500\n",
      "1/1 [==============================] - 0s 5ms/step - loss: 68.0092 - mae: 68.0092\n",
      "Epoch 452/500\n",
      "1/1 [==============================] - 0s 6ms/step - loss: 28.9751 - mae: 28.9751\n",
      "Epoch 453/500\n",
      "1/1 [==============================] - 0s 5ms/step - loss: 94.6878 - mae: 94.6878\n",
      "Epoch 454/500\n",
      "1/1 [==============================] - 0s 5ms/step - loss: 77.2546 - mae: 77.2546\n",
      "Epoch 455/500\n",
      "1/1 [==============================] - 0s 5ms/step - loss: 58.2920 - mae: 58.2920\n",
      "Epoch 456/500\n",
      "1/1 [==============================] - 0s 6ms/step - loss: 1.8665 - mae: 1.8665\n",
      "Epoch 457/500\n",
      "1/1 [==============================] - 0s 5ms/step - loss: 75.8415 - mae: 75.8415\n",
      "Epoch 458/500\n",
      "1/1 [==============================] - 0s 7ms/step - loss: 53.8406 - mae: 53.8406\n",
      "Epoch 459/500\n",
      "1/1 [==============================] - 0s 5ms/step - loss: 15.8506 - mae: 15.8506\n",
      "Epoch 460/500\n",
      "1/1 [==============================] - 0s 5ms/step - loss: 81.0471 - mae: 81.0471\n",
      "Epoch 461/500\n",
      "1/1 [==============================] - 0s 6ms/step - loss: 70.3570 - mae: 70.3570\n",
      "Epoch 462/500\n",
      "1/1 [==============================] - 0s 5ms/step - loss: 36.5054 - mae: 36.5054\n",
      "Epoch 463/500\n",
      "1/1 [==============================] - 0s 6ms/step - loss: 70.7358 - mae: 70.7358\n",
      "Epoch 464/500\n",
      "1/1 [==============================] - 0s 6ms/step - loss: 78.3732 - mae: 78.3732\n",
      "Epoch 465/500\n",
      "1/1 [==============================] - 0s 5ms/step - loss: 61.9276 - mae: 61.9276\n",
      "Epoch 466/500\n",
      "1/1 [==============================] - 0s 5ms/step - loss: 9.8394 - mae: 9.8394\n",
      "Epoch 467/500\n",
      "1/1 [==============================] - 0s 6ms/step - loss: 155.1871 - mae: 155.1871\n",
      "Epoch 468/500\n",
      "1/1 [==============================] - 0s 5ms/step - loss: 74.2691 - mae: 74.2691\n",
      "Epoch 469/500\n",
      "1/1 [==============================] - 0s 6ms/step - loss: 48.9667 - mae: 48.9667\n",
      "Epoch 470/500\n",
      "1/1 [==============================] - 0s 5ms/step - loss: 31.1857 - mae: 31.1857\n",
      "Epoch 471/500\n",
      "1/1 [==============================] - 0s 6ms/step - loss: 80.2578 - mae: 80.2578\n",
      "Epoch 472/500\n",
      "1/1 [==============================] - 0s 4ms/step - loss: 67.9642 - mae: 67.9642\n",
      "Epoch 473/500\n",
      "1/1 [==============================] - 0s 6ms/step - loss: 29.0320 - mae: 29.0320\n",
      "Epoch 474/500\n",
      "1/1 [==============================] - 0s 5ms/step - loss: 94.3079 - mae: 94.3079\n",
      "Epoch 475/500\n",
      "1/1 [==============================] - 0s 6ms/step - loss: 77.1854 - mae: 77.1854\n",
      "Epoch 476/500\n",
      "1/1 [==============================] - 0s 5ms/step - loss: 58.2724 - mae: 58.2724\n",
      "Epoch 477/500\n",
      "1/1 [==============================] - 0s 4ms/step - loss: 1.7604 - mae: 1.7604\n",
      "Epoch 478/500\n",
      "1/1 [==============================] - 0s 5ms/step - loss: 66.7226 - mae: 66.7226\n",
      "Epoch 479/500\n",
      "1/1 [==============================] - 0s 4ms/step - loss: 25.1499 - mae: 25.1499\n",
      "Epoch 480/500\n",
      "1/1 [==============================] - 0s 4ms/step - loss: 106.5569 - mae: 106.5569\n",
      "Epoch 481/500\n",
      "1/1 [==============================] - 0s 4ms/step - loss: 76.5701 - mae: 76.5701\n",
      "Epoch 482/500\n",
      "1/1 [==============================] - 0s 5ms/step - loss: 56.3746 - mae: 56.3746\n",
      "Epoch 483/500\n",
      "1/1 [==============================] - 0s 5ms/step - loss: 7.5956 - mae: 7.5956\n",
      "Epoch 484/500\n",
      "1/1 [==============================] - 0s 6ms/step - loss: 81.3475 - mae: 81.3475\n",
      "Epoch 485/500\n",
      "1/1 [==============================] - 0s 5ms/step - loss: 71.5342 - mae: 71.5342\n",
      "Epoch 486/500\n",
      "1/1 [==============================] - 0s 5ms/step - loss: 40.4611 - mae: 40.4611\n",
      "Epoch 487/500\n",
      "1/1 [==============================] - 0s 5ms/step - loss: 57.9763 - mae: 57.9763\n",
      "Epoch 488/500\n",
      "1/1 [==============================] - 0s 5ms/step - loss: 78.8914 - mae: 78.8914\n",
      "Epoch 489/500\n",
      "1/1 [==============================] - 0s 4ms/step - loss: 63.7953 - mae: 63.7953\n",
      "Epoch 490/500\n",
      "1/1 [==============================] - 0s 6ms/step - loss: 15.9827 - mae: 15.9827\n",
      "Epoch 491/500\n",
      "1/1 [==============================] - 0s 5ms/step - loss: 135.4957 - mae: 135.4957\n",
      "Epoch 492/500\n",
      "1/1 [==============================] - 0s 6ms/step - loss: 75.1227 - mae: 75.1227\n",
      "Epoch 493/500\n",
      "1/1 [==============================] - 0s 5ms/step - loss: 51.8967 - mae: 51.8967\n",
      "Epoch 494/500\n",
      "1/1 [==============================] - 0s 7ms/step - loss: 21.6758 - mae: 21.6758\n",
      "Epoch 495/500\n",
      "1/1 [==============================] - 0s 5ms/step - loss: 80.6188 - mae: 80.6188\n",
      "Epoch 496/500\n",
      "1/1 [==============================] - 0s 5ms/step - loss: 69.3337 - mae: 69.3337\n",
      "Epoch 497/500\n",
      "1/1 [==============================] - 0s 5ms/step - loss: 33.5971 - mae: 33.5971\n",
      "Epoch 498/500\n",
      "1/1 [==============================] - 0s 6ms/step - loss: 79.6172 - mae: 79.6172\n",
      "Epoch 499/500\n",
      "1/1 [==============================] - 0s 5ms/step - loss: 77.7971 - mae: 77.7971\n",
      "Epoch 500/500\n",
      "1/1 [==============================] - 0s 5ms/step - loss: 60.4360 - mae: 60.4360\n"
     ]
    },
    {
     "data": {
      "text/plain": [
       "<keras.callbacks.History at 0x2860398b0>"
      ]
     },
     "execution_count": 192,
     "metadata": {},
     "output_type": "execute_result"
    }
   ],
   "source": [
    "# Set random seed\n",
    "tf.random.set_seed(42)\n",
    "\n",
    "# 1. Create the model\n",
    "model_3 = tf.keras.Sequential()\n",
    "model_3.add(tf.keras.layers.Dense(10))\n",
    "model_3.add(tf.keras.layers.Dense(1))\n",
    "\n",
    "# 2. Compile the model\n",
    "model_3.compile(loss=tf.keras.metrics.mae,\n",
    "                optimizer=tf.keras.optimizers.SGD(),\n",
    "                metrics=[\"mae\"])\n",
    "\n",
    "# 3. \n",
    "model_3.fit(tf.expand_dims(X_test, axis=-1), y_test, epochs=500)"
   ]
  },
  {
   "cell_type": "code",
   "execution_count": 193,
   "metadata": {},
   "outputs": [
    {
     "name": "stderr",
     "output_type": "stream",
     "text": [
      "2022-02-12 11:35:28.869509: I tensorflow/core/grappler/optimizers/custom_graph_optimizer_registry.cc:112] Plugin optimizer for device_type GPU is enabled.\n"
     ]
    },
    {
     "data": {
      "image/png": "[encoded data removed]",
      "text/plain": [
       "<Figure size 720x504 with 1 Axes>"
      ]
     },
     "metadata": {
      "needs_background": "light"
     },
     "output_type": "display_data"
    }
   ],
   "source": [
    "# Predict and plot predictions for model_3\n",
    "y_preds_3 = model_3.predict(X_test)\n",
    "plot_predictions(predictions=y_preds_3)"
   ]
  },
  {
   "cell_type": "code",
   "execution_count": 194,
   "metadata": {},
   "outputs": [
    {
     "data": {
      "text/plain": [
       "(<tf.Tensor: shape=(), dtype=float32, numpy=5.4468246>,\n",
       " <tf.Tensor: shape=(), dtype=float32, numpy=29.78449>)"
      ]
     },
     "execution_count": 194,
     "metadata": {},
     "output_type": "execute_result"
    }
   ],
   "source": [
    "# Calculate mae and mse for model_3\n",
    "mae_3 = mae(y_test, y_preds_3)\n",
    "mse_3 = mse(y_test, y_preds_3)\n",
    "mae_3, mse_3"
   ]
  },
  {
   "cell_type": "markdown",
   "metadata": {},
   "source": [
    "🔑 **Note:** You want to start with small experiments (small models) and make sure they work and then increase their scale when necessary."
   ]
  },
  {
   "cell_type": "markdown",
   "metadata": {},
   "source": [
    "### Comparing the results"
   ]
  },
  {
   "cell_type": "markdown",
   "metadata": {},
   "source": [
    "Let's compare the results of our models."
   ]
  },
  {
   "cell_type": "code",
   "execution_count": 196,
   "metadata": {},
   "outputs": [
    {
     "data": {
      "text/html": [
       "<div>\n",
       "<style scoped>\n",
       "    .dataframe tbody tr th:only-of-type {\n",
       "        vertical-align: middle;\n",
       "    }\n",
       "\n",
       "    .dataframe tbody tr th {\n",
       "        vertical-align: top;\n",
       "    }\n",
       "\n",
       "    .dataframe thead th {\n",
       "        text-align: right;\n",
       "    }\n",
       "</style>\n",
       "<table border=\"1\" class=\"dataframe\">\n",
       "  <thead>\n",
       "    <tr style=\"text-align: right;\">\n",
       "      <th></th>\n",
       "      <th>model</th>\n",
       "      <th>mae</th>\n",
       "      <th>mse</th>\n",
       "    </tr>\n",
       "  </thead>\n",
       "  <tbody>\n",
       "    <tr>\n",
       "      <th>0</th>\n",
       "      <td>model_1</td>\n",
       "      <td>8.584009</td>\n",
       "      <td>80.172775</td>\n",
       "    </tr>\n",
       "    <tr>\n",
       "      <th>1</th>\n",
       "      <td>model_2</td>\n",
       "      <td>10.800007</td>\n",
       "      <td>124.551247</td>\n",
       "    </tr>\n",
       "    <tr>\n",
       "      <th>2</th>\n",
       "      <td>model_3</td>\n",
       "      <td>5.446825</td>\n",
       "      <td>29.784491</td>\n",
       "    </tr>\n",
       "  </tbody>\n",
       "</table>\n",
       "</div>"
      ],
      "text/plain": [
       "     model        mae         mse\n",
       "0  model_1   8.584009   80.172775\n",
       "1  model_2  10.800007  124.551247\n",
       "2  model_3   5.446825   29.784491"
      ]
     },
     "execution_count": 196,
     "metadata": {},
     "output_type": "execute_result"
    }
   ],
   "source": [
    "# Let's compare our model's results using a pandas DataFrame\n",
    "import pandas as pd\n",
    "\n",
    "model_results = [[\"model_1\", mae_1.numpy(), mse_1.numpy()],\n",
    "                 [\"model_2\", mae_2.numpy(), mse_2.numpy()],\n",
    "                 [\"model_3\", mae_3.numpy(), mse_3.numpy()]]\n",
    "\n",
    "all_results = pd.DataFrame(model_results, columns=[\"model\", \"mae\", \"mse\"])\n",
    "all_results"
   ]
  },
  {
   "cell_type": "markdown",
   "metadata": {},
   "source": [
    "Looks like `model_3` performed the best...\n",
    "\n",
    "> 🔑 One of your main goals should be to minimize the time between your experiments. The more experiments you do, the more things you'll figure out which don't work and in turn, you will get closer to figuring out what does work. Remember the machine learning practioner's motto: \"**experiment, experiment, experiment**\"."
   ]
  },
  {
   "cell_type": "markdown",
   "metadata": {},
   "source": [
    "## Tracking your experiments"
   ]
  },
  {
   "cell_type": "markdown",
   "metadata": {},
   "source": [
    "One really good habit in machine learning modelling is to track the results of your experiments.\n",
    "\n",
    "And when doing so, it can be tedious if you're running lots of experiments.\n",
    "\n",
    "Luckily, there a tools to help us!\n",
    "\n",
    "📖 **Resource:** As you build more models, you'll want to look into using:\n",
    "\n",
    "* TensorBoard - a component of the TensorFlow library to help track modelling experiments (we'll see this one later).\n",
    "* Weights & Biases - a tool for tracking all kinds of machine learning experiments (plugs straight into TensorBoard). wandb.com"
   ]
  },
  {
   "cell_type": "markdown",
   "metadata": {},
   "source": [
    "## Saving our models"
   ]
  },
  {
   "cell_type": "markdown",
   "metadata": {},
   "source": [
    "Saving our models allows us to use them outside of Google Colab (or wherever they were trained) such as in a web application or a mobile app.\n",
    "\n",
    "There are two main formats we can save our models too:\n",
    "1. The SavedModel format\n",
    "2. The HDF5 format"
   ]
  },
  {
   "cell_type": "code",
   "execution_count": 198,
   "metadata": {},
   "outputs": [
    {
     "name": "stdout",
     "output_type": "stream",
     "text": [
      "INFO:tensorflow:Assets written to: best_model_SavedModel_format/assets\n"
     ]
    },
    {
     "name": "stderr",
     "output_type": "stream",
     "text": [
      "2022-02-12 11:56:25.039082: W tensorflow/python/util/util.cc:368] Sets are not currently considered sequences, but this may change in the future, so consider avoiding using them.\n"
     ]
    }
   ],
   "source": [
    "# SaveModel format\n",
    "model_3.save(\"best_model_SavedModel_format\")"
   ]
  },
  {
   "cell_type": "code",
   "execution_count": 199,
   "metadata": {},
   "outputs": [],
   "source": [
    "# HDF5 format\n",
    "model_3.save(\"best_model_HDF5_format.h5\")"
   ]
  },
  {
   "cell_type": "markdown",
   "metadata": {},
   "source": [
    "## Loading in a saved model"
   ]
  },
  {
   "cell_type": "code",
   "execution_count": 200,
   "metadata": {},
   "outputs": [
    {
     "name": "stdout",
     "output_type": "stream",
     "text": [
      "Model: \"sequential_5\"\n",
      "_________________________________________________________________\n",
      " Layer (type)                Output Shape              Param #   \n",
      "=================================================================\n",
      " dense_20 (Dense)            (None, 10)                20        \n",
      "                                                                 \n",
      " dense_21 (Dense)            (None, 1)                 11        \n",
      "                                                                 \n",
      "=================================================================\n",
      "Total params: 31\n",
      "Trainable params: 31\n",
      "Non-trainable params: 0\n",
      "_________________________________________________________________\n"
     ]
    }
   ],
   "source": [
    "# Load in the SavedModel format model\n",
    "loaded_SavedModel_format = tf.keras.models.load_model(\"best_model_SavedModel_format\")\n",
    "loaded_SavedModel_format.summary()"
   ]
  },
  {
   "cell_type": "code",
   "execution_count": 201,
   "metadata": {},
   "outputs": [
    {
     "name": "stdout",
     "output_type": "stream",
     "text": [
      "Model: \"sequential_5\"\n",
      "_________________________________________________________________\n",
      " Layer (type)                Output Shape              Param #   \n",
      "=================================================================\n",
      " dense_20 (Dense)            (None, 10)                20        \n",
      "                                                                 \n",
      " dense_21 (Dense)            (None, 1)                 11        \n",
      "                                                                 \n",
      "=================================================================\n",
      "Total params: 31\n",
      "Trainable params: 31\n",
      "Non-trainable params: 0\n",
      "_________________________________________________________________\n"
     ]
    }
   ],
   "source": [
    "model_3.summary()"
   ]
  },
  {
   "cell_type": "markdown",
   "metadata": {},
   "source": [
    "Looks like it's the same model!"
   ]
  },
  {
   "cell_type": "code",
   "execution_count": 202,
   "metadata": {},
   "outputs": [
    {
     "name": "stderr",
     "output_type": "stream",
     "text": [
      "2022-02-12 12:07:36.920469: I tensorflow/core/grappler/optimizers/custom_graph_optimizer_registry.cc:112] Plugin optimizer for device_type GPU is enabled.\n"
     ]
    },
    {
     "data": {
      "text/plain": [
       "array([[ True],\n",
       "       [ True],\n",
       "       [ True],\n",
       "       [ True],\n",
       "       [ True],\n",
       "       [ True],\n",
       "       [ True],\n",
       "       [ True],\n",
       "       [ True],\n",
       "       [ True]])"
      ]
     },
     "execution_count": 202,
     "metadata": {},
     "output_type": "execute_result"
    }
   ],
   "source": [
    "# Compare model_3 predictions with SavedModel format model predictions\n",
    "model_3_preds = model_3.predict(X_test)\n",
    "loaded_SavedModel_format_preds = loaded_SavedModel_format.predict(X_test)\n",
    "model_3_preds == loaded_SavedModel_format_preds"
   ]
  },
  {
   "cell_type": "code",
   "execution_count": 203,
   "metadata": {},
   "outputs": [
    {
     "data": {
      "text/plain": [
       "<tf.Tensor: shape=(), dtype=bool, numpy=True>"
      ]
     },
     "execution_count": 203,
     "metadata": {},
     "output_type": "execute_result"
    }
   ],
   "source": [
    "mae(y_true=y_test, y_pred=model_3_preds) == mae(y_true=y_test, y_pred=loaded_SavedModel_format_preds)"
   ]
  },
  {
   "cell_type": "code",
   "execution_count": 205,
   "metadata": {},
   "outputs": [
    {
     "name": "stdout",
     "output_type": "stream",
     "text": [
      "Model: \"sequential_5\"\n",
      "_________________________________________________________________\n",
      " Layer (type)                Output Shape              Param #   \n",
      "=================================================================\n",
      " dense_20 (Dense)            (None, 10)                20        \n",
      "                                                                 \n",
      " dense_21 (Dense)            (None, 1)                 11        \n",
      "                                                                 \n",
      "=================================================================\n",
      "Total params: 31\n",
      "Trainable params: 31\n",
      "Non-trainable params: 0\n",
      "_________________________________________________________________\n"
     ]
    }
   ],
   "source": [
    "# Load in a model using the .h5 format\n",
    "loaded_h5_model = tf.keras.models.load_model(\"best_model_HDF5_format.h5\")\n",
    "loaded_h5_model.summary()"
   ]
  },
  {
   "cell_type": "code",
   "execution_count": 206,
   "metadata": {},
   "outputs": [
    {
     "name": "stdout",
     "output_type": "stream",
     "text": [
      "Model: \"sequential_5\"\n",
      "_________________________________________________________________\n",
      " Layer (type)                Output Shape              Param #   \n",
      "=================================================================\n",
      " dense_20 (Dense)            (None, 10)                20        \n",
      "                                                                 \n",
      " dense_21 (Dense)            (None, 1)                 11        \n",
      "                                                                 \n",
      "=================================================================\n",
      "Total params: 31\n",
      "Trainable params: 31\n",
      "Non-trainable params: 0\n",
      "_________________________________________________________________\n"
     ]
    }
   ],
   "source": [
    "model_3.summary()"
   ]
  },
  {
   "cell_type": "code",
   "execution_count": 209,
   "metadata": {},
   "outputs": [
    {
     "data": {
      "text/plain": [
       "array([[ True],\n",
       "       [ True],\n",
       "       [ True],\n",
       "       [ True],\n",
       "       [ True],\n",
       "       [ True],\n",
       "       [ True],\n",
       "       [ True],\n",
       "       [ True],\n",
       "       [ True]])"
      ]
     },
     "execution_count": 209,
     "metadata": {},
     "output_type": "execute_result"
    }
   ],
   "source": [
    "# Check to see if loaded .h5 model predictions match model_3\n",
    "model_3_preds = model_3.predict(X_test)\n",
    "model_3_preds == loaded_h5_model.predict(X_test)"
   ]
  },
  {
   "cell_type": "markdown",
   "metadata": {},
   "source": [
    "## A larger example"
   ]
  },
  {
   "cell_type": "code",
   "execution_count": 210,
   "metadata": {},
   "outputs": [],
   "source": [
    "# Import required libraries\n",
    "import tensorflow as tf\n",
    "import pandas as pd\n",
    "import matplotlib.pyplot as plt"
   ]
  },
  {
   "cell_type": "code",
   "execution_count": 211,
   "metadata": {},
   "outputs": [
    {
     "data": {
      "text/html": [
       "<div>\n",
       "<style scoped>\n",
       "    .dataframe tbody tr th:only-of-type {\n",
       "        vertical-align: middle;\n",
       "    }\n",
       "\n",
       "    .dataframe tbody tr th {\n",
       "        vertical-align: top;\n",
       "    }\n",
       "\n",
       "    .dataframe thead th {\n",
       "        text-align: right;\n",
       "    }\n",
       "</style>\n",
       "<table border=\"1\" class=\"dataframe\">\n",
       "  <thead>\n",
       "    <tr style=\"text-align: right;\">\n",
       "      <th></th>\n",
       "      <th>age</th>\n",
       "      <th>sex</th>\n",
       "      <th>bmi</th>\n",
       "      <th>children</th>\n",
       "      <th>smoker</th>\n",
       "      <th>region</th>\n",
       "      <th>charges</th>\n",
       "    </tr>\n",
       "  </thead>\n",
       "  <tbody>\n",
       "    <tr>\n",
       "      <th>0</th>\n",
       "      <td>19</td>\n",
       "      <td>female</td>\n",
       "      <td>27.900</td>\n",
       "      <td>0</td>\n",
       "      <td>yes</td>\n",
       "      <td>southwest</td>\n",
       "      <td>16884.92400</td>\n",
       "    </tr>\n",
       "    <tr>\n",
       "      <th>1</th>\n",
       "      <td>18</td>\n",
       "      <td>male</td>\n",
       "      <td>33.770</td>\n",
       "      <td>1</td>\n",
       "      <td>no</td>\n",
       "      <td>southeast</td>\n",
       "      <td>1725.55230</td>\n",
       "    </tr>\n",
       "    <tr>\n",
       "      <th>2</th>\n",
       "      <td>28</td>\n",
       "      <td>male</td>\n",
       "      <td>33.000</td>\n",
       "      <td>3</td>\n",
       "      <td>no</td>\n",
       "      <td>southeast</td>\n",
       "      <td>4449.46200</td>\n",
       "    </tr>\n",
       "    <tr>\n",
       "      <th>3</th>\n",
       "      <td>33</td>\n",
       "      <td>male</td>\n",
       "      <td>22.705</td>\n",
       "      <td>0</td>\n",
       "      <td>no</td>\n",
       "      <td>northwest</td>\n",
       "      <td>21984.47061</td>\n",
       "    </tr>\n",
       "    <tr>\n",
       "      <th>4</th>\n",
       "      <td>32</td>\n",
       "      <td>male</td>\n",
       "      <td>28.880</td>\n",
       "      <td>0</td>\n",
       "      <td>no</td>\n",
       "      <td>northwest</td>\n",
       "      <td>3866.85520</td>\n",
       "    </tr>\n",
       "    <tr>\n",
       "      <th>...</th>\n",
       "      <td>...</td>\n",
       "      <td>...</td>\n",
       "      <td>...</td>\n",
       "      <td>...</td>\n",
       "      <td>...</td>\n",
       "      <td>...</td>\n",
       "      <td>...</td>\n",
       "    </tr>\n",
       "    <tr>\n",
       "      <th>1333</th>\n",
       "      <td>50</td>\n",
       "      <td>male</td>\n",
       "      <td>30.970</td>\n",
       "      <td>3</td>\n",
       "      <td>no</td>\n",
       "      <td>northwest</td>\n",
       "      <td>10600.54830</td>\n",
       "    </tr>\n",
       "    <tr>\n",
       "      <th>1334</th>\n",
       "      <td>18</td>\n",
       "      <td>female</td>\n",
       "      <td>31.920</td>\n",
       "      <td>0</td>\n",
       "      <td>no</td>\n",
       "      <td>northeast</td>\n",
       "      <td>2205.98080</td>\n",
       "    </tr>\n",
       "    <tr>\n",
       "      <th>1335</th>\n",
       "      <td>18</td>\n",
       "      <td>female</td>\n",
       "      <td>36.850</td>\n",
       "      <td>0</td>\n",
       "      <td>no</td>\n",
       "      <td>southeast</td>\n",
       "      <td>1629.83350</td>\n",
       "    </tr>\n",
       "    <tr>\n",
       "      <th>1336</th>\n",
       "      <td>21</td>\n",
       "      <td>female</td>\n",
       "      <td>25.800</td>\n",
       "      <td>0</td>\n",
       "      <td>no</td>\n",
       "      <td>southwest</td>\n",
       "      <td>2007.94500</td>\n",
       "    </tr>\n",
       "    <tr>\n",
       "      <th>1337</th>\n",
       "      <td>61</td>\n",
       "      <td>female</td>\n",
       "      <td>29.070</td>\n",
       "      <td>0</td>\n",
       "      <td>yes</td>\n",
       "      <td>northwest</td>\n",
       "      <td>29141.36030</td>\n",
       "    </tr>\n",
       "  </tbody>\n",
       "</table>\n",
       "<p>1338 rows × 7 columns</p>\n",
       "</div>"
      ],
      "text/plain": [
       "      age     sex     bmi  children smoker     region      charges\n",
       "0      19  female  27.900         0    yes  southwest  16884.92400\n",
       "1      18    male  33.770         1     no  southeast   1725.55230\n",
       "2      28    male  33.000         3     no  southeast   4449.46200\n",
       "3      33    male  22.705         0     no  northwest  21984.47061\n",
       "4      32    male  28.880         0     no  northwest   3866.85520\n",
       "...   ...     ...     ...       ...    ...        ...          ...\n",
       "1333   50    male  30.970         3     no  northwest  10600.54830\n",
       "1334   18  female  31.920         0     no  northeast   2205.98080\n",
       "1335   18  female  36.850         0     no  southeast   1629.83350\n",
       "1336   21  female  25.800         0     no  southwest   2007.94500\n",
       "1337   61  female  29.070         0    yes  northwest  29141.36030\n",
       "\n",
       "[1338 rows x 7 columns]"
      ]
     },
     "execution_count": 211,
     "metadata": {},
     "output_type": "execute_result"
    }
   ],
   "source": [
    "# Read in the insurance dataset\n",
    "insurance = pd.read_csv(\"https://raw.githubusercontent.com/stedy/Machine-Learning-with-R-datasets/master/insurance.csv\")\n",
    "insurance"
   ]
  },
  {
   "cell_type": "code",
   "execution_count": 213,
   "metadata": {},
   "outputs": [
    {
     "data": {
      "text/plain": [
       "age           int64\n",
       "sex          object\n",
       "bmi         float64\n",
       "children      int64\n",
       "smoker       object\n",
       "region       object\n",
       "charges     float64\n",
       "dtype: object"
      ]
     },
     "execution_count": 213,
     "metadata": {},
     "output_type": "execute_result"
    }
   ],
   "source": [
    "insurance.dtypes"
   ]
  },
  {
   "cell_type": "code",
   "execution_count": 217,
   "metadata": {},
   "outputs": [
    {
     "data": {
      "text/html": [
       "<div>\n",
       "<style scoped>\n",
       "    .dataframe tbody tr th:only-of-type {\n",
       "        vertical-align: middle;\n",
       "    }\n",
       "\n",
       "    .dataframe tbody tr th {\n",
       "        vertical-align: top;\n",
       "    }\n",
       "\n",
       "    .dataframe thead th {\n",
       "        text-align: right;\n",
       "    }\n",
       "</style>\n",
       "<table border=\"1\" class=\"dataframe\">\n",
       "  <thead>\n",
       "    <tr style=\"text-align: right;\">\n",
       "      <th></th>\n",
       "      <th>age</th>\n",
       "      <th>bmi</th>\n",
       "      <th>children</th>\n",
       "      <th>charges</th>\n",
       "      <th>sex_female</th>\n",
       "      <th>sex_male</th>\n",
       "      <th>smoker_no</th>\n",
       "      <th>smoker_yes</th>\n",
       "      <th>region_northeast</th>\n",
       "      <th>region_northwest</th>\n",
       "      <th>region_southeast</th>\n",
       "      <th>region_southwest</th>\n",
       "    </tr>\n",
       "  </thead>\n",
       "  <tbody>\n",
       "    <tr>\n",
       "      <th>0</th>\n",
       "      <td>19</td>\n",
       "      <td>27.900</td>\n",
       "      <td>0</td>\n",
       "      <td>16884.92400</td>\n",
       "      <td>1</td>\n",
       "      <td>0</td>\n",
       "      <td>0</td>\n",
       "      <td>1</td>\n",
       "      <td>0</td>\n",
       "      <td>0</td>\n",
       "      <td>0</td>\n",
       "      <td>1</td>\n",
       "    </tr>\n",
       "    <tr>\n",
       "      <th>1</th>\n",
       "      <td>18</td>\n",
       "      <td>33.770</td>\n",
       "      <td>1</td>\n",
       "      <td>1725.55230</td>\n",
       "      <td>0</td>\n",
       "      <td>1</td>\n",
       "      <td>1</td>\n",
       "      <td>0</td>\n",
       "      <td>0</td>\n",
       "      <td>0</td>\n",
       "      <td>1</td>\n",
       "      <td>0</td>\n",
       "    </tr>\n",
       "    <tr>\n",
       "      <th>2</th>\n",
       "      <td>28</td>\n",
       "      <td>33.000</td>\n",
       "      <td>3</td>\n",
       "      <td>4449.46200</td>\n",
       "      <td>0</td>\n",
       "      <td>1</td>\n",
       "      <td>1</td>\n",
       "      <td>0</td>\n",
       "      <td>0</td>\n",
       "      <td>0</td>\n",
       "      <td>1</td>\n",
       "      <td>0</td>\n",
       "    </tr>\n",
       "    <tr>\n",
       "      <th>3</th>\n",
       "      <td>33</td>\n",
       "      <td>22.705</td>\n",
       "      <td>0</td>\n",
       "      <td>21984.47061</td>\n",
       "      <td>0</td>\n",
       "      <td>1</td>\n",
       "      <td>1</td>\n",
       "      <td>0</td>\n",
       "      <td>0</td>\n",
       "      <td>1</td>\n",
       "      <td>0</td>\n",
       "      <td>0</td>\n",
       "    </tr>\n",
       "    <tr>\n",
       "      <th>4</th>\n",
       "      <td>32</td>\n",
       "      <td>28.880</td>\n",
       "      <td>0</td>\n",
       "      <td>3866.85520</td>\n",
       "      <td>0</td>\n",
       "      <td>1</td>\n",
       "      <td>1</td>\n",
       "      <td>0</td>\n",
       "      <td>0</td>\n",
       "      <td>1</td>\n",
       "      <td>0</td>\n",
       "      <td>0</td>\n",
       "    </tr>\n",
       "    <tr>\n",
       "      <th>...</th>\n",
       "      <td>...</td>\n",
       "      <td>...</td>\n",
       "      <td>...</td>\n",
       "      <td>...</td>\n",
       "      <td>...</td>\n",
       "      <td>...</td>\n",
       "      <td>...</td>\n",
       "      <td>...</td>\n",
       "      <td>...</td>\n",
       "      <td>...</td>\n",
       "      <td>...</td>\n",
       "      <td>...</td>\n",
       "    </tr>\n",
       "    <tr>\n",
       "      <th>1333</th>\n",
       "      <td>50</td>\n",
       "      <td>30.970</td>\n",
       "      <td>3</td>\n",
       "      <td>10600.54830</td>\n",
       "      <td>0</td>\n",
       "      <td>1</td>\n",
       "      <td>1</td>\n",
       "      <td>0</td>\n",
       "      <td>0</td>\n",
       "      <td>1</td>\n",
       "      <td>0</td>\n",
       "      <td>0</td>\n",
       "    </tr>\n",
       "    <tr>\n",
       "      <th>1334</th>\n",
       "      <td>18</td>\n",
       "      <td>31.920</td>\n",
       "      <td>0</td>\n",
       "      <td>2205.98080</td>\n",
       "      <td>1</td>\n",
       "      <td>0</td>\n",
       "      <td>1</td>\n",
       "      <td>0</td>\n",
       "      <td>1</td>\n",
       "      <td>0</td>\n",
       "      <td>0</td>\n",
       "      <td>0</td>\n",
       "    </tr>\n",
       "    <tr>\n",
       "      <th>1335</th>\n",
       "      <td>18</td>\n",
       "      <td>36.850</td>\n",
       "      <td>0</td>\n",
       "      <td>1629.83350</td>\n",
       "      <td>1</td>\n",
       "      <td>0</td>\n",
       "      <td>1</td>\n",
       "      <td>0</td>\n",
       "      <td>0</td>\n",
       "      <td>0</td>\n",
       "      <td>1</td>\n",
       "      <td>0</td>\n",
       "    </tr>\n",
       "    <tr>\n",
       "      <th>1336</th>\n",
       "      <td>21</td>\n",
       "      <td>25.800</td>\n",
       "      <td>0</td>\n",
       "      <td>2007.94500</td>\n",
       "      <td>1</td>\n",
       "      <td>0</td>\n",
       "      <td>1</td>\n",
       "      <td>0</td>\n",
       "      <td>0</td>\n",
       "      <td>0</td>\n",
       "      <td>0</td>\n",
       "      <td>1</td>\n",
       "    </tr>\n",
       "    <tr>\n",
       "      <th>1337</th>\n",
       "      <td>61</td>\n",
       "      <td>29.070</td>\n",
       "      <td>0</td>\n",
       "      <td>29141.36030</td>\n",
       "      <td>1</td>\n",
       "      <td>0</td>\n",
       "      <td>0</td>\n",
       "      <td>1</td>\n",
       "      <td>0</td>\n",
       "      <td>1</td>\n",
       "      <td>0</td>\n",
       "      <td>0</td>\n",
       "    </tr>\n",
       "  </tbody>\n",
       "</table>\n",
       "<p>1338 rows × 12 columns</p>\n",
       "</div>"
      ],
      "text/plain": [
       "      age     bmi  children      charges  sex_female  sex_male  smoker_no  \\\n",
       "0      19  27.900         0  16884.92400           1         0          0   \n",
       "1      18  33.770         1   1725.55230           0         1          1   \n",
       "2      28  33.000         3   4449.46200           0         1          1   \n",
       "3      33  22.705         0  21984.47061           0         1          1   \n",
       "4      32  28.880         0   3866.85520           0         1          1   \n",
       "...   ...     ...       ...          ...         ...       ...        ...   \n",
       "1333   50  30.970         3  10600.54830           0         1          1   \n",
       "1334   18  31.920         0   2205.98080           1         0          1   \n",
       "1335   18  36.850         0   1629.83350           1         0          1   \n",
       "1336   21  25.800         0   2007.94500           1         0          1   \n",
       "1337   61  29.070         0  29141.36030           1         0          0   \n",
       "\n",
       "      smoker_yes  region_northeast  region_northwest  region_southeast  \\\n",
       "0              1                 0                 0                 0   \n",
       "1              0                 0                 0                 1   \n",
       "2              0                 0                 0                 1   \n",
       "3              0                 0                 1                 0   \n",
       "4              0                 0                 1                 0   \n",
       "...          ...               ...               ...               ...   \n",
       "1333           0                 0                 1                 0   \n",
       "1334           0                 1                 0                 0   \n",
       "1335           0                 0                 0                 1   \n",
       "1336           0                 0                 0                 0   \n",
       "1337           1                 0                 1                 0   \n",
       "\n",
       "      region_southwest  \n",
       "0                    1  \n",
       "1                    0  \n",
       "2                    0  \n",
       "3                    0  \n",
       "4                    0  \n",
       "...                ...  \n",
       "1333                 0  \n",
       "1334                 0  \n",
       "1335                 0  \n",
       "1336                 1  \n",
       "1337                 0  \n",
       "\n",
       "[1338 rows x 12 columns]"
      ]
     },
     "execution_count": 217,
     "metadata": {},
     "output_type": "execute_result"
    }
   ],
   "source": [
    "# Let's try one-hot encode our DataFrame so it's all numbers\n",
    "insurance_one_hot = pd.get_dummies(insurance)\n",
    "insurance_one_hot"
   ]
  },
  {
   "cell_type": "code",
   "execution_count": 229,
   "metadata": {},
   "outputs": [
    {
     "data": {
      "text/plain": [
       "((1338, 11), (1338,))"
      ]
     },
     "execution_count": 229,
     "metadata": {},
     "output_type": "execute_result"
    }
   ],
   "source": [
    "# Create X and y values (features and labels)\n",
    "X = insurance_one_hot.drop(\"charges\", axis=1)\n",
    "y = insurance_one_hot[\"charges\"]\n",
    "\n",
    "X.shape, y.shape"
   ]
  },
  {
   "cell_type": "code",
   "execution_count": 231,
   "metadata": {},
   "outputs": [
    {
     "data": {
      "text/html": [
       "<div>\n",
       "<style scoped>\n",
       "    .dataframe tbody tr th:only-of-type {\n",
       "        vertical-align: middle;\n",
       "    }\n",
       "\n",
       "    .dataframe tbody tr th {\n",
       "        vertical-align: top;\n",
       "    }\n",
       "\n",
       "    .dataframe thead th {\n",
       "        text-align: right;\n",
       "    }\n",
       "</style>\n",
       "<table border=\"1\" class=\"dataframe\">\n",
       "  <thead>\n",
       "    <tr style=\"text-align: right;\">\n",
       "      <th></th>\n",
       "      <th>age</th>\n",
       "      <th>bmi</th>\n",
       "      <th>children</th>\n",
       "      <th>sex_female</th>\n",
       "      <th>sex_male</th>\n",
       "      <th>smoker_no</th>\n",
       "      <th>smoker_yes</th>\n",
       "      <th>region_northeast</th>\n",
       "      <th>region_northwest</th>\n",
       "      <th>region_southeast</th>\n",
       "      <th>region_southwest</th>\n",
       "    </tr>\n",
       "  </thead>\n",
       "  <tbody>\n",
       "    <tr>\n",
       "      <th>0</th>\n",
       "      <td>19</td>\n",
       "      <td>27.900</td>\n",
       "      <td>0</td>\n",
       "      <td>1</td>\n",
       "      <td>0</td>\n",
       "      <td>0</td>\n",
       "      <td>1</td>\n",
       "      <td>0</td>\n",
       "      <td>0</td>\n",
       "      <td>0</td>\n",
       "      <td>1</td>\n",
       "    </tr>\n",
       "    <tr>\n",
       "      <th>1</th>\n",
       "      <td>18</td>\n",
       "      <td>33.770</td>\n",
       "      <td>1</td>\n",
       "      <td>0</td>\n",
       "      <td>1</td>\n",
       "      <td>1</td>\n",
       "      <td>0</td>\n",
       "      <td>0</td>\n",
       "      <td>0</td>\n",
       "      <td>1</td>\n",
       "      <td>0</td>\n",
       "    </tr>\n",
       "    <tr>\n",
       "      <th>2</th>\n",
       "      <td>28</td>\n",
       "      <td>33.000</td>\n",
       "      <td>3</td>\n",
       "      <td>0</td>\n",
       "      <td>1</td>\n",
       "      <td>1</td>\n",
       "      <td>0</td>\n",
       "      <td>0</td>\n",
       "      <td>0</td>\n",
       "      <td>1</td>\n",
       "      <td>0</td>\n",
       "    </tr>\n",
       "    <tr>\n",
       "      <th>3</th>\n",
       "      <td>33</td>\n",
       "      <td>22.705</td>\n",
       "      <td>0</td>\n",
       "      <td>0</td>\n",
       "      <td>1</td>\n",
       "      <td>1</td>\n",
       "      <td>0</td>\n",
       "      <td>0</td>\n",
       "      <td>1</td>\n",
       "      <td>0</td>\n",
       "      <td>0</td>\n",
       "    </tr>\n",
       "    <tr>\n",
       "      <th>4</th>\n",
       "      <td>32</td>\n",
       "      <td>28.880</td>\n",
       "      <td>0</td>\n",
       "      <td>0</td>\n",
       "      <td>1</td>\n",
       "      <td>1</td>\n",
       "      <td>0</td>\n",
       "      <td>0</td>\n",
       "      <td>1</td>\n",
       "      <td>0</td>\n",
       "      <td>0</td>\n",
       "    </tr>\n",
       "  </tbody>\n",
       "</table>\n",
       "</div>"
      ],
      "text/plain": [
       "   age     bmi  children  sex_female  sex_male  smoker_no  smoker_yes  \\\n",
       "0   19  27.900         0           1         0          0           1   \n",
       "1   18  33.770         1           0         1          1           0   \n",
       "2   28  33.000         3           0         1          1           0   \n",
       "3   33  22.705         0           0         1          1           0   \n",
       "4   32  28.880         0           0         1          1           0   \n",
       "\n",
       "   region_northeast  region_northwest  region_southeast  region_southwest  \n",
       "0                 0                 0                 0                 1  \n",
       "1                 0                 0                 1                 0  \n",
       "2                 0                 0                 1                 0  \n",
       "3                 0                 1                 0                 0  \n",
       "4                 0                 1                 0                 0  "
      ]
     },
     "execution_count": 231,
     "metadata": {},
     "output_type": "execute_result"
    }
   ],
   "source": [
    "# View X\n",
    "X.head()"
   ]
  },
  {
   "cell_type": "code",
   "execution_count": 232,
   "metadata": {},
   "outputs": [
    {
     "data": {
      "text/plain": [
       "0    16884.92400\n",
       "1     1725.55230\n",
       "2     4449.46200\n",
       "3    21984.47061\n",
       "4     3866.85520\n",
       "Name: charges, dtype: float64"
      ]
     },
     "execution_count": 232,
     "metadata": {},
     "output_type": "execute_result"
    }
   ],
   "source": [
    "# View y\n",
    "y.head()"
   ]
  },
  {
   "cell_type": "code",
   "execution_count": 230,
   "metadata": {},
   "outputs": [
    {
     "data": {
      "text/plain": [
       "((1070, 11), (268, 11), (1070,), (268,))"
      ]
     },
     "execution_count": 230,
     "metadata": {},
     "output_type": "execute_result"
    }
   ],
   "source": [
    "# Create training and test sets\n",
    "X_train = X[:int(.8*len(X))]\n",
    "y_train = y[:int(.8*len(y))]\n",
    "\n",
    "X_test = X[int(.8*len(X)):]\n",
    "y_test = y[int(.8*len(y)):]\n",
    "\n",
    "X_train.shape, X_test.shape, y_train.shape, y_test.shape"
   ]
  },
  {
   "cell_type": "code",
   "execution_count": 238,
   "metadata": {},
   "outputs": [
    {
     "data": {
      "text/plain": [
       "((1070, 11), (268, 11), (1070,), (268,))"
      ]
     },
     "execution_count": 238,
     "metadata": {},
     "output_type": "execute_result"
    }
   ],
   "source": [
    "# Alternative way to create training and test set using Sklearn's train_test_split\n",
    "# This is even better because it also randomizes the dataset\n",
    "from sklearn.model_selection import train_test_split\n",
    "\n",
    "X_train, X_test, y_train, y_test = train_test_split(X, y, test_size=.2, random_state=42)\n",
    "\n",
    "X_train.shape, X_test.shape, y_train.shape, y_test.shape"
   ]
  },
  {
   "cell_type": "code",
   "execution_count": 241,
   "metadata": {},
   "outputs": [
    {
     "name": "stdout",
     "output_type": "stream",
     "text": [
      "Epoch 1/100\n",
      "34/34 [==============================] - 0s 5ms/step - loss: 8571.2598 - mae: 8571.2598\n"
     ]
    },
    {
     "name": "stderr",
     "output_type": "stream",
     "text": [
      "2022-02-12 12:50:38.793246: I tensorflow/core/grappler/optimizers/custom_graph_optimizer_registry.cc:112] Plugin optimizer for device_type GPU is enabled.\n"
     ]
    },
    {
     "name": "stdout",
     "output_type": "stream",
     "text": [
      "Epoch 2/100\n",
      "34/34 [==============================] - 0s 4ms/step - loss: 7888.5137 - mae: 7888.5137\n",
      "Epoch 3/100\n",
      "34/34 [==============================] - 0s 4ms/step - loss: 7608.3857 - mae: 7608.3857\n",
      "Epoch 4/100\n",
      "34/34 [==============================] - 0s 4ms/step - loss: 7824.0713 - mae: 7824.0713\n",
      "Epoch 5/100\n",
      "34/34 [==============================] - 0s 4ms/step - loss: 7657.6240 - mae: 7657.6240\n",
      "Epoch 6/100\n",
      "34/34 [==============================] - 0s 4ms/step - loss: 7657.9302 - mae: 7657.9302\n",
      "Epoch 7/100\n",
      "34/34 [==============================] - 0s 4ms/step - loss: 7563.0215 - mae: 7563.0215\n",
      "Epoch 8/100\n",
      "34/34 [==============================] - 0s 4ms/step - loss: 7739.4204 - mae: 7739.4204\n",
      "Epoch 9/100\n",
      "34/34 [==============================] - 0s 4ms/step - loss: 7574.5195 - mae: 7574.5195\n",
      "Epoch 10/100\n",
      "34/34 [==============================] - 0s 4ms/step - loss: 7747.5933 - mae: 7747.5933\n",
      "Epoch 11/100\n",
      "34/34 [==============================] - 0s 4ms/step - loss: 7529.0166 - mae: 7529.0166\n",
      "Epoch 12/100\n",
      "34/34 [==============================] - 0s 4ms/step - loss: 7543.2573 - mae: 7543.2573\n",
      "Epoch 13/100\n",
      "34/34 [==============================] - 0s 4ms/step - loss: 7621.9639 - mae: 7621.9639\n",
      "Epoch 14/100\n",
      "34/34 [==============================] - 0s 4ms/step - loss: 7777.0977 - mae: 7777.0977\n",
      "Epoch 15/100\n",
      "34/34 [==============================] - 0s 4ms/step - loss: 7635.7935 - mae: 7635.7935\n",
      "Epoch 16/100\n",
      "34/34 [==============================] - 0s 4ms/step - loss: 7744.6772 - mae: 7744.6772\n",
      "Epoch 17/100\n",
      "34/34 [==============================] - 0s 4ms/step - loss: 7621.1992 - mae: 7621.1992\n",
      "Epoch 18/100\n",
      "34/34 [==============================] - 0s 4ms/step - loss: 7753.0649 - mae: 7753.0649\n",
      "Epoch 19/100\n",
      "34/34 [==============================] - 0s 4ms/step - loss: 7739.3564 - mae: 7739.3564\n",
      "Epoch 20/100\n",
      "34/34 [==============================] - 0s 4ms/step - loss: 7957.0454 - mae: 7957.0454\n",
      "Epoch 21/100\n",
      "34/34 [==============================] - 0s 4ms/step - loss: 7593.7988 - mae: 7593.7988\n",
      "Epoch 22/100\n",
      "34/34 [==============================] - 0s 4ms/step - loss: 7779.4053 - mae: 7779.4053\n",
      "Epoch 23/100\n",
      "34/34 [==============================] - 0s 4ms/step - loss: 7727.9067 - mae: 7727.9067\n",
      "Epoch 24/100\n",
      "34/34 [==============================] - 0s 4ms/step - loss: 7539.7837 - mae: 7539.7837\n",
      "Epoch 25/100\n",
      "34/34 [==============================] - 0s 4ms/step - loss: 7626.9482 - mae: 7626.9482\n",
      "Epoch 26/100\n",
      "34/34 [==============================] - 0s 4ms/step - loss: 7584.2104 - mae: 7584.2104\n",
      "Epoch 27/100\n",
      "34/34 [==============================] - 0s 4ms/step - loss: 7455.1284 - mae: 7455.1284\n",
      "Epoch 28/100\n",
      "34/34 [==============================] - 0s 4ms/step - loss: 7565.1675 - mae: 7565.1675\n",
      "Epoch 29/100\n",
      "34/34 [==============================] - 0s 4ms/step - loss: 7569.5059 - mae: 7569.5059\n",
      "Epoch 30/100\n",
      "34/34 [==============================] - 0s 4ms/step - loss: 7541.5249 - mae: 7541.5249\n",
      "Epoch 31/100\n",
      "34/34 [==============================] - 0s 4ms/step - loss: 7641.5635 - mae: 7641.5635\n",
      "Epoch 32/100\n",
      "34/34 [==============================] - 0s 4ms/step - loss: 7582.0000 - mae: 7582.0000\n",
      "Epoch 33/100\n",
      "34/34 [==============================] - 0s 4ms/step - loss: 7432.9785 - mae: 7432.9785\n",
      "Epoch 34/100\n",
      "34/34 [==============================] - 0s 4ms/step - loss: 7526.0898 - mae: 7526.0898\n",
      "Epoch 35/100\n",
      "34/34 [==============================] - 0s 4ms/step - loss: 7615.3931 - mae: 7615.3931\n",
      "Epoch 36/100\n",
      "34/34 [==============================] - 0s 4ms/step - loss: 7352.4458 - mae: 7352.4458\n",
      "Epoch 37/100\n",
      "34/34 [==============================] - 0s 4ms/step - loss: 7619.2383 - mae: 7619.2383\n",
      "Epoch 38/100\n",
      "34/34 [==============================] - 0s 4ms/step - loss: 7520.7612 - mae: 7520.7612\n",
      "Epoch 39/100\n",
      "34/34 [==============================] - 0s 4ms/step - loss: 7478.6865 - mae: 7478.6865\n",
      "Epoch 40/100\n",
      "34/34 [==============================] - 0s 4ms/step - loss: 7411.5713 - mae: 7411.5713\n",
      "Epoch 41/100\n",
      "34/34 [==============================] - 0s 4ms/step - loss: 7721.9297 - mae: 7721.9297\n",
      "Epoch 42/100\n",
      "34/34 [==============================] - 0s 4ms/step - loss: 7466.3477 - mae: 7466.3477\n",
      "Epoch 43/100\n",
      "34/34 [==============================] - 0s 4ms/step - loss: 7724.2632 - mae: 7724.2632\n",
      "Epoch 44/100\n",
      "34/34 [==============================] - 0s 4ms/step - loss: 7341.3145 - mae: 7341.3145\n",
      "Epoch 45/100\n",
      "34/34 [==============================] - 0s 4ms/step - loss: 7526.3696 - mae: 7526.3696\n",
      "Epoch 46/100\n",
      "34/34 [==============================] - 0s 4ms/step - loss: 7428.4946 - mae: 7428.4946\n",
      "Epoch 47/100\n",
      "34/34 [==============================] - 0s 4ms/step - loss: 7328.5093 - mae: 7328.5093\n",
      "Epoch 48/100\n",
      "34/34 [==============================] - 0s 4ms/step - loss: 7612.1016 - mae: 7612.1016\n",
      "Epoch 49/100\n",
      "34/34 [==============================] - 0s 4ms/step - loss: 7543.3164 - mae: 7543.3164\n",
      "Epoch 50/100\n",
      "34/34 [==============================] - 0s 4ms/step - loss: 7480.9282 - mae: 7480.9282\n",
      "Epoch 51/100\n",
      "34/34 [==============================] - 0s 4ms/step - loss: 7405.4673 - mae: 7405.4673\n",
      "Epoch 52/100\n",
      "34/34 [==============================] - 0s 4ms/step - loss: 7554.3052 - mae: 7554.3052\n",
      "Epoch 53/100\n",
      "34/34 [==============================] - 0s 4ms/step - loss: 7576.9048 - mae: 7576.9048\n",
      "Epoch 54/100\n",
      "34/34 [==============================] - 0s 4ms/step - loss: 7301.0586 - mae: 7301.0586\n",
      "Epoch 55/100\n",
      "34/34 [==============================] - 0s 4ms/step - loss: 7399.2969 - mae: 7399.2969\n",
      "Epoch 56/100\n",
      "34/34 [==============================] - 0s 4ms/step - loss: 7429.6357 - mae: 7429.6357\n",
      "Epoch 57/100\n",
      "34/34 [==============================] - 0s 4ms/step - loss: 7449.2842 - mae: 7449.2842\n",
      "Epoch 58/100\n",
      "34/34 [==============================] - 0s 4ms/step - loss: 7447.7095 - mae: 7447.7095\n",
      "Epoch 59/100\n",
      "34/34 [==============================] - 0s 4ms/step - loss: 7607.1294 - mae: 7607.1294\n",
      "Epoch 60/100\n",
      "34/34 [==============================] - 0s 4ms/step - loss: 7371.1812 - mae: 7371.1812\n",
      "Epoch 61/100\n",
      "34/34 [==============================] - 0s 4ms/step - loss: 7581.0469 - mae: 7581.0469\n",
      "Epoch 62/100\n",
      "34/34 [==============================] - 0s 5ms/step - loss: 7416.8564 - mae: 7416.8564\n",
      "Epoch 63/100\n",
      "34/34 [==============================] - 0s 4ms/step - loss: 7274.3140 - mae: 7274.3140\n",
      "Epoch 64/100\n",
      "34/34 [==============================] - 0s 4ms/step - loss: 7438.2642 - mae: 7438.2642\n",
      "Epoch 65/100\n",
      "34/34 [==============================] - 0s 4ms/step - loss: 7445.9019 - mae: 7445.9019\n",
      "Epoch 66/100\n",
      "34/34 [==============================] - 0s 4ms/step - loss: 7256.9189 - mae: 7256.9189\n",
      "Epoch 67/100\n",
      "34/34 [==============================] - 0s 4ms/step - loss: 7391.4604 - mae: 7391.4604\n",
      "Epoch 68/100\n",
      "34/34 [==============================] - 0s 4ms/step - loss: 7473.7236 - mae: 7473.7236\n",
      "Epoch 69/100\n",
      "34/34 [==============================] - 0s 4ms/step - loss: 7594.7915 - mae: 7594.7915\n",
      "Epoch 70/100\n",
      "34/34 [==============================] - 0s 4ms/step - loss: 7504.8101 - mae: 7504.8101\n",
      "Epoch 71/100\n",
      "34/34 [==============================] - 0s 4ms/step - loss: 7465.5322 - mae: 7465.5322\n",
      "Epoch 72/100\n",
      "34/34 [==============================] - 0s 4ms/step - loss: 7449.6099 - mae: 7449.6099\n",
      "Epoch 73/100\n",
      "34/34 [==============================] - 0s 4ms/step - loss: 7368.3989 - mae: 7368.3989\n",
      "Epoch 74/100\n",
      "34/34 [==============================] - 0s 4ms/step - loss: 7499.8921 - mae: 7499.8921\n",
      "Epoch 75/100\n",
      "34/34 [==============================] - 0s 4ms/step - loss: 7264.5845 - mae: 7264.5845\n",
      "Epoch 76/100\n",
      "34/34 [==============================] - 0s 4ms/step - loss: 7227.0762 - mae: 7227.0762\n",
      "Epoch 77/100\n",
      "34/34 [==============================] - 0s 4ms/step - loss: 7499.0049 - mae: 7499.0049\n",
      "Epoch 78/100\n",
      "34/34 [==============================] - 0s 4ms/step - loss: 7201.2954 - mae: 7201.2954\n",
      "Epoch 79/100\n",
      "34/34 [==============================] - 0s 4ms/step - loss: 7617.0342 - mae: 7617.0342\n",
      "Epoch 80/100\n",
      "34/34 [==============================] - 0s 4ms/step - loss: 7216.4258 - mae: 7216.4258\n",
      "Epoch 81/100\n",
      "34/34 [==============================] - 0s 4ms/step - loss: 7309.1006 - mae: 7309.1006\n",
      "Epoch 82/100\n",
      "34/34 [==============================] - 0s 4ms/step - loss: 7210.0801 - mae: 7210.0801\n",
      "Epoch 83/100\n",
      "34/34 [==============================] - 0s 4ms/step - loss: 7449.5542 - mae: 7449.5542\n",
      "Epoch 84/100\n",
      "34/34 [==============================] - 0s 4ms/step - loss: 7230.2417 - mae: 7230.2417\n",
      "Epoch 85/100\n",
      "34/34 [==============================] - 0s 4ms/step - loss: 7383.7275 - mae: 7383.7275\n",
      "Epoch 86/100\n",
      "34/34 [==============================] - 0s 4ms/step - loss: 7390.6943 - mae: 7390.6943\n",
      "Epoch 87/100\n",
      "34/34 [==============================] - 0s 4ms/step - loss: 7051.7222 - mae: 7051.7222\n",
      "Epoch 88/100\n",
      "34/34 [==============================] - 0s 4ms/step - loss: 7366.5562 - mae: 7366.5562\n",
      "Epoch 89/100\n",
      "34/34 [==============================] - 0s 4ms/step - loss: 7041.0664 - mae: 7041.0664\n",
      "Epoch 90/100\n",
      "34/34 [==============================] - 0s 4ms/step - loss: 7325.4502 - mae: 7325.4502\n",
      "Epoch 91/100\n",
      "34/34 [==============================] - 0s 4ms/step - loss: 7296.9795 - mae: 7296.9795\n",
      "Epoch 92/100\n",
      "34/34 [==============================] - 0s 4ms/step - loss: 7275.2954 - mae: 7275.2954\n",
      "Epoch 93/100\n",
      "34/34 [==============================] - 0s 4ms/step - loss: 7538.2690 - mae: 7538.2690\n",
      "Epoch 94/100\n",
      "34/34 [==============================] - 0s 4ms/step - loss: 7224.2178 - mae: 7224.2178\n",
      "Epoch 95/100\n",
      "34/34 [==============================] - 0s 4ms/step - loss: 7351.9775 - mae: 7351.9775\n",
      "Epoch 96/100\n",
      "34/34 [==============================] - 0s 4ms/step - loss: 7132.4810 - mae: 7132.4810\n",
      "Epoch 97/100\n",
      "34/34 [==============================] - 0s 4ms/step - loss: 7186.9644 - mae: 7186.9644\n",
      "Epoch 98/100\n",
      "34/34 [==============================] - 0s 4ms/step - loss: 7335.1411 - mae: 7335.1411\n",
      "Epoch 99/100\n",
      "34/34 [==============================] - 0s 4ms/step - loss: 7250.7798 - mae: 7250.7798\n",
      "Epoch 100/100\n",
      "34/34 [==============================] - 0s 4ms/step - loss: 7321.5054 - mae: 7321.5054\n"
     ]
    },
    {
     "data": {
      "text/plain": [
       "<keras.callbacks.History at 0x28438e160>"
      ]
     },
     "execution_count": 241,
     "metadata": {},
     "output_type": "execute_result"
    }
   ],
   "source": [
    "# Build a basic neural network\n",
    "\n",
    "# Set random seed\n",
    "tf.random.set_seed(42)\n",
    "\n",
    "# 1. Build the model\n",
    "insurance_model = tf.keras.Sequential()\n",
    "insurance_model.add(tf.keras.layers.Dense(10))\n",
    "insurance_model.add(tf.keras.layers.Dense(1))\n",
    "\n",
    "# 2. Compile the model\n",
    "insurance_model.compile(loss=tf.keras.metrics.mae,\n",
    "              optimizer=tf.keras.optimizers.SGD(),\n",
    "              metrics=[\"mae\"])\n",
    "\n",
    "# 3. Fit the model\n",
    "insurance_model.fit(X_train, y_train, epochs=100)"
   ]
  },
  {
   "cell_type": "code",
   "execution_count": 242,
   "metadata": {},
   "outputs": [
    {
     "name": "stdout",
     "output_type": "stream",
     "text": [
      "9/9 [==============================] - 0s 4ms/step - loss: 8921.9883 - mae: 8921.9883\n"
     ]
    },
    {
     "name": "stderr",
     "output_type": "stream",
     "text": [
      "2022-02-12 12:53:30.335657: I tensorflow/core/grappler/optimizers/custom_graph_optimizer_registry.cc:112] Plugin optimizer for device_type GPU is enabled.\n"
     ]
    },
    {
     "data": {
      "text/plain": [
       "[8921.98828125, 8921.98828125]"
      ]
     },
     "execution_count": 242,
     "metadata": {},
     "output_type": "execute_result"
    }
   ],
   "source": [
    "# Check the results of the insurace_model on the test data\n",
    "insurance_model.evaluate(X_test, y_test)"
   ]
  },
  {
   "cell_type": "code",
   "execution_count": 245,
   "metadata": {},
   "outputs": [
    {
     "data": {
      "text/plain": [
       "(9575.4421, 13346.089736364485)"
      ]
     },
     "execution_count": 245,
     "metadata": {},
     "output_type": "execute_result"
    }
   ],
   "source": [
    "y_train.median(), y_train.mean()"
   ]
  },
  {
   "cell_type": "markdown",
   "metadata": {},
   "source": [
    "Right now it looks like our model ins't performing too well.. Let's try and improve it!\n",
    "\n",
    "To (try) improve our model, we'll run 2 experiments:\n",
    "1. Add an extra layer with more hidden units and use the Adam optimizer\n",
    "2. Same as above but train for longer (200 epochs)"
   ]
  },
  {
   "cell_type": "code",
   "execution_count": 249,
   "metadata": {},
   "outputs": [
    {
     "name": "stdout",
     "output_type": "stream",
     "text": [
      "Epoch 1/100\n",
      "21/34 [=================>............] - ETA: 0s - loss: 13335.7754 - mae: 13335.7754"
     ]
    },
    {
     "name": "stderr",
     "output_type": "stream",
     "text": [
      "2022-02-12 13:02:12.595235: I tensorflow/core/grappler/optimizers/custom_graph_optimizer_registry.cc:112] Plugin optimizer for device_type GPU is enabled.\n"
     ]
    },
    {
     "name": "stdout",
     "output_type": "stream",
     "text": [
      "34/34 [==============================] - 0s 5ms/step - loss: 13314.8184 - mae: 13314.8184\n",
      "Epoch 2/100\n",
      "34/34 [==============================] - 0s 5ms/step - loss: 13180.2998 - mae: 13180.2998\n",
      "Epoch 3/100\n",
      "34/34 [==============================] - 0s 6ms/step - loss: 12895.2188 - mae: 12895.2188\n",
      "Epoch 4/100\n",
      "34/34 [==============================] - 0s 5ms/step - loss: 12317.1621 - mae: 12317.1621\n",
      "Epoch 5/100\n",
      "34/34 [==============================] - 0s 5ms/step - loss: 11305.8633 - mae: 11305.8633\n",
      "Epoch 6/100\n",
      "34/34 [==============================] - 0s 5ms/step - loss: 9901.3398 - mae: 9901.3398\n",
      "Epoch 7/100\n",
      "34/34 [==============================] - 0s 5ms/step - loss: 8479.1660 - mae: 8479.1660\n",
      "Epoch 8/100\n",
      "34/34 [==============================] - 0s 5ms/step - loss: 7635.1284 - mae: 7635.1284\n",
      "Epoch 9/100\n",
      "34/34 [==============================] - 0s 5ms/step - loss: 7452.4863 - mae: 7452.4863\n",
      "Epoch 10/100\n",
      "34/34 [==============================] - 0s 5ms/step - loss: 7427.5771 - mae: 7427.5771\n",
      "Epoch 11/100\n",
      "34/34 [==============================] - 0s 5ms/step - loss: 7409.4131 - mae: 7409.4131\n",
      "Epoch 12/100\n",
      "34/34 [==============================] - 0s 5ms/step - loss: 7388.3911 - mae: 7388.3911\n",
      "Epoch 13/100\n",
      "34/34 [==============================] - 0s 5ms/step - loss: 7368.5107 - mae: 7368.5107\n",
      "Epoch 14/100\n",
      "34/34 [==============================] - 0s 5ms/step - loss: 7347.2026 - mae: 7347.2026\n",
      "Epoch 15/100\n",
      "34/34 [==============================] - 0s 5ms/step - loss: 7328.9517 - mae: 7328.9517\n",
      "Epoch 16/100\n",
      "34/34 [==============================] - 0s 5ms/step - loss: 7307.3052 - mae: 7307.3052\n",
      "Epoch 17/100\n",
      "34/34 [==============================] - 0s 5ms/step - loss: 7288.2603 - mae: 7288.2603\n",
      "Epoch 18/100\n",
      "34/34 [==============================] - 0s 5ms/step - loss: 7265.4790 - mae: 7265.4790\n",
      "Epoch 19/100\n",
      "34/34 [==============================] - 0s 5ms/step - loss: 7244.0610 - mae: 7244.0610\n",
      "Epoch 20/100\n",
      "34/34 [==============================] - 0s 5ms/step - loss: 7221.8330 - mae: 7221.8330\n",
      "Epoch 21/100\n",
      "34/34 [==============================] - 0s 5ms/step - loss: 7203.5684 - mae: 7203.5684\n",
      "Epoch 22/100\n",
      "34/34 [==============================] - 0s 5ms/step - loss: 7177.3540 - mae: 7177.3540\n",
      "Epoch 23/100\n",
      "34/34 [==============================] - 0s 5ms/step - loss: 7153.4150 - mae: 7153.4150\n",
      "Epoch 24/100\n",
      "34/34 [==============================] - 0s 5ms/step - loss: 7129.4409 - mae: 7129.4409\n",
      "Epoch 25/100\n",
      "34/34 [==============================] - 0s 5ms/step - loss: 7112.0278 - mae: 7112.0278\n",
      "Epoch 26/100\n",
      "34/34 [==============================] - 0s 5ms/step - loss: 7081.1870 - mae: 7081.1870\n",
      "Epoch 27/100\n",
      "34/34 [==============================] - 0s 5ms/step - loss: 7053.2827 - mae: 7053.2827\n",
      "Epoch 28/100\n",
      "34/34 [==============================] - 0s 5ms/step - loss: 7025.8828 - mae: 7025.8828\n",
      "Epoch 29/100\n",
      "34/34 [==============================] - 0s 5ms/step - loss: 6998.3916 - mae: 6998.3916\n",
      "Epoch 30/100\n",
      "34/34 [==============================] - 0s 5ms/step - loss: 6972.0068 - mae: 6972.0068\n",
      "Epoch 31/100\n",
      "34/34 [==============================] - 0s 5ms/step - loss: 6941.1553 - mae: 6941.1553\n",
      "Epoch 32/100\n",
      "34/34 [==============================] - 0s 5ms/step - loss: 6913.5200 - mae: 6913.5200\n",
      "Epoch 33/100\n",
      "34/34 [==============================] - 0s 5ms/step - loss: 6882.4082 - mae: 6882.4082\n",
      "Epoch 34/100\n",
      "34/34 [==============================] - 0s 5ms/step - loss: 6849.8779 - mae: 6849.8779\n",
      "Epoch 35/100\n",
      "34/34 [==============================] - 0s 5ms/step - loss: 6817.2231 - mae: 6817.2231\n",
      "Epoch 36/100\n",
      "34/34 [==============================] - 0s 5ms/step - loss: 6783.0117 - mae: 6783.0117\n",
      "Epoch 37/100\n",
      "34/34 [==============================] - 0s 5ms/step - loss: 6747.0190 - mae: 6747.0190\n",
      "Epoch 38/100\n",
      "34/34 [==============================] - 0s 5ms/step - loss: 6714.3037 - mae: 6714.3037\n",
      "Epoch 39/100\n",
      "34/34 [==============================] - 0s 5ms/step - loss: 6674.6450 - mae: 6674.6450\n",
      "Epoch 40/100\n",
      "34/34 [==============================] - 0s 5ms/step - loss: 6638.3540 - mae: 6638.3540\n",
      "Epoch 41/100\n",
      "34/34 [==============================] - 0s 5ms/step - loss: 6603.9165 - mae: 6603.9165\n",
      "Epoch 42/100\n",
      "34/34 [==============================] - 0s 5ms/step - loss: 6572.4595 - mae: 6572.4595\n",
      "Epoch 43/100\n",
      "34/34 [==============================] - 0s 5ms/step - loss: 6541.2925 - mae: 6541.2925\n",
      "Epoch 44/100\n",
      "34/34 [==============================] - 0s 5ms/step - loss: 6514.4639 - mae: 6514.4639\n",
      "Epoch 45/100\n",
      "34/34 [==============================] - 0s 5ms/step - loss: 6498.5215 - mae: 6498.5215\n",
      "Epoch 46/100\n",
      "34/34 [==============================] - 0s 5ms/step - loss: 6477.9600 - mae: 6477.9600\n",
      "Epoch 47/100\n",
      "34/34 [==============================] - 0s 5ms/step - loss: 6461.8486 - mae: 6461.8486\n",
      "Epoch 48/100\n",
      "34/34 [==============================] - 0s 6ms/step - loss: 6445.6523 - mae: 6445.6523\n",
      "Epoch 49/100\n",
      "34/34 [==============================] - 0s 5ms/step - loss: 6432.0903 - mae: 6432.0903\n",
      "Epoch 50/100\n",
      "34/34 [==============================] - 0s 5ms/step - loss: 6418.2397 - mae: 6418.2397\n",
      "Epoch 51/100\n",
      "34/34 [==============================] - 0s 5ms/step - loss: 6404.5337 - mae: 6404.5337\n",
      "Epoch 52/100\n",
      "34/34 [==============================] - 0s 5ms/step - loss: 6392.9614 - mae: 6392.9614\n",
      "Epoch 53/100\n",
      "34/34 [==============================] - 0s 5ms/step - loss: 6378.7290 - mae: 6378.7290\n",
      "Epoch 54/100\n",
      "34/34 [==============================] - 0s 5ms/step - loss: 6365.0698 - mae: 6365.0698\n",
      "Epoch 55/100\n",
      "34/34 [==============================] - 0s 5ms/step - loss: 6351.3364 - mae: 6351.3364\n",
      "Epoch 56/100\n",
      "34/34 [==============================] - 0s 5ms/step - loss: 6336.8037 - mae: 6336.8037\n",
      "Epoch 57/100\n",
      "34/34 [==============================] - 0s 5ms/step - loss: 6324.6509 - mae: 6324.6509\n",
      "Epoch 58/100\n",
      "34/34 [==============================] - 0s 5ms/step - loss: 6309.9365 - mae: 6309.9365\n",
      "Epoch 59/100\n",
      "34/34 [==============================] - 0s 5ms/step - loss: 6295.7666 - mae: 6295.7666\n",
      "Epoch 60/100\n",
      "34/34 [==============================] - 0s 5ms/step - loss: 6284.7832 - mae: 6284.7832\n",
      "Epoch 61/100\n",
      "34/34 [==============================] - 0s 5ms/step - loss: 6265.5342 - mae: 6265.5342\n",
      "Epoch 62/100\n",
      "34/34 [==============================] - 0s 5ms/step - loss: 6253.2393 - mae: 6253.2393\n",
      "Epoch 63/100\n",
      "34/34 [==============================] - 0s 5ms/step - loss: 6234.8242 - mae: 6234.8242\n",
      "Epoch 64/100\n",
      "34/34 [==============================] - 0s 5ms/step - loss: 6219.4326 - mae: 6219.4326\n",
      "Epoch 65/100\n",
      "34/34 [==============================] - 0s 5ms/step - loss: 6201.9351 - mae: 6201.9351\n",
      "Epoch 66/100\n",
      "34/34 [==============================] - 0s 5ms/step - loss: 6185.0645 - mae: 6185.0645\n",
      "Epoch 67/100\n",
      "34/34 [==============================] - 0s 5ms/step - loss: 6172.5791 - mae: 6172.5791\n",
      "Epoch 68/100\n",
      "34/34 [==============================] - 0s 5ms/step - loss: 6150.4810 - mae: 6150.4810\n",
      "Epoch 69/100\n",
      "34/34 [==============================] - 0s 5ms/step - loss: 6134.5312 - mae: 6134.5312\n",
      "Epoch 70/100\n",
      "34/34 [==============================] - 0s 5ms/step - loss: 6114.7046 - mae: 6114.7046\n",
      "Epoch 71/100\n",
      "34/34 [==============================] - 0s 5ms/step - loss: 6095.5732 - mae: 6095.5732\n",
      "Epoch 72/100\n",
      "34/34 [==============================] - 0s 5ms/step - loss: 6076.0703 - mae: 6076.0703\n",
      "Epoch 73/100\n",
      "34/34 [==============================] - 0s 5ms/step - loss: 6063.1675 - mae: 6063.1675\n",
      "Epoch 74/100\n",
      "34/34 [==============================] - 0s 5ms/step - loss: 6035.7075 - mae: 6035.7075\n",
      "Epoch 75/100\n",
      "34/34 [==============================] - 0s 5ms/step - loss: 6014.6216 - mae: 6014.6216\n",
      "Epoch 76/100\n",
      "34/34 [==============================] - 0s 5ms/step - loss: 6001.1143 - mae: 6001.1143\n",
      "Epoch 77/100\n",
      "34/34 [==============================] - 0s 5ms/step - loss: 5969.3682 - mae: 5969.3682\n",
      "Epoch 78/100\n",
      "34/34 [==============================] - 0s 5ms/step - loss: 5946.9146 - mae: 5946.9146\n",
      "Epoch 79/100\n",
      "34/34 [==============================] - 0s 5ms/step - loss: 5923.4365 - mae: 5923.4365\n",
      "Epoch 80/100\n",
      "34/34 [==============================] - 0s 5ms/step - loss: 5897.3057 - mae: 5897.3057\n",
      "Epoch 81/100\n",
      "34/34 [==============================] - 0s 5ms/step - loss: 5872.2915 - mae: 5872.2915\n",
      "Epoch 82/100\n",
      "34/34 [==============================] - 0s 5ms/step - loss: 5844.7686 - mae: 5844.7686\n",
      "Epoch 83/100\n",
      "34/34 [==============================] - 0s 5ms/step - loss: 5818.3174 - mae: 5818.3174\n",
      "Epoch 84/100\n",
      "34/34 [==============================] - 0s 5ms/step - loss: 5785.4482 - mae: 5785.4482\n",
      "Epoch 85/100\n",
      "34/34 [==============================] - 0s 5ms/step - loss: 5759.2583 - mae: 5759.2583\n",
      "Epoch 86/100\n",
      "34/34 [==============================] - 0s 5ms/step - loss: 5726.2856 - mae: 5726.2856\n",
      "Epoch 87/100\n",
      "34/34 [==============================] - 0s 5ms/step - loss: 5692.1763 - mae: 5692.1763\n",
      "Epoch 88/100\n",
      "34/34 [==============================] - 0s 5ms/step - loss: 5659.3057 - mae: 5659.3057\n",
      "Epoch 89/100\n",
      "34/34 [==============================] - 0s 5ms/step - loss: 5622.4009 - mae: 5622.4009\n",
      "Epoch 90/100\n",
      "34/34 [==============================] - 0s 5ms/step - loss: 5583.2729 - mae: 5583.2729\n",
      "Epoch 91/100\n",
      "34/34 [==============================] - 0s 5ms/step - loss: 5549.8530 - mae: 5549.8530\n",
      "Epoch 92/100\n",
      "34/34 [==============================] - 0s 5ms/step - loss: 5502.3657 - mae: 5502.3657\n",
      "Epoch 93/100\n",
      "34/34 [==============================] - 0s 5ms/step - loss: 5463.9736 - mae: 5463.9736\n",
      "Epoch 94/100\n",
      "34/34 [==============================] - 0s 5ms/step - loss: 5421.5239 - mae: 5421.5239\n",
      "Epoch 95/100\n",
      "34/34 [==============================] - 0s 5ms/step - loss: 5370.8540 - mae: 5370.8540\n",
      "Epoch 96/100\n",
      "34/34 [==============================] - 0s 5ms/step - loss: 5329.8452 - mae: 5329.8452\n",
      "Epoch 97/100\n",
      "34/34 [==============================] - 0s 5ms/step - loss: 5279.7368 - mae: 5279.7368\n",
      "Epoch 98/100\n",
      "34/34 [==============================] - 0s 5ms/step - loss: 5222.9229 - mae: 5222.9229\n",
      "Epoch 99/100\n",
      "34/34 [==============================] - 0s 5ms/step - loss: 5166.4590 - mae: 5166.4590\n",
      "Epoch 100/100\n",
      "34/34 [==============================] - 0s 5ms/step - loss: 5112.9629 - mae: 5112.9629\n"
     ]
    },
    {
     "data": {
      "text/plain": [
       "<keras.callbacks.History at 0x294ea57f0>"
      ]
     },
     "execution_count": 249,
     "metadata": {},
     "output_type": "execute_result"
    }
   ],
   "source": [
    "# Set random seed\n",
    "tf.random.set_seed(42)\n",
    "\n",
    "# 1. Create model\n",
    "insurance_model_2 = tf.keras.Sequential()\n",
    "insurance_model_2.add(tf.keras.layers.Dense(100))\n",
    "insurance_model_2.add(tf.keras.layers.Dense(10))\n",
    "insurance_model_2.add(tf.keras.layers.Dense(1))\n",
    "\n",
    "# 2. Compile the model\n",
    "insurance_model_2.compile(loss=tf.keras.losses.mae,\n",
    "                          optimizer=tf.keras.optimizers.Adam(),\n",
    "                          metrics=[\"mae\"])\n",
    "\n",
    "# 3. Fit the model\n",
    "insurance_model_2.fit(X_train, y_train, epochs=100)"
   ]
  },
  {
   "cell_type": "code",
   "execution_count": 250,
   "metadata": {},
   "outputs": [
    {
     "name": "stdout",
     "output_type": "stream",
     "text": [
      "9/9 [==============================] - 0s 5ms/step - loss: 4981.3589 - mae: 4981.3589\n"
     ]
    },
    {
     "name": "stderr",
     "output_type": "stream",
     "text": [
      "2022-02-12 13:02:49.107101: I tensorflow/core/grappler/optimizers/custom_graph_optimizer_registry.cc:112] Plugin optimizer for device_type GPU is enabled.\n"
     ]
    },
    {
     "data": {
      "text/plain": [
       "[4981.35888671875, 4981.35888671875]"
      ]
     },
     "execution_count": 250,
     "metadata": {},
     "output_type": "execute_result"
    }
   ],
   "source": [
    "# Evaluate the larger model\n",
    "insurance_model_2.evaluate(X_test, y_test)"
   ]
  },
  {
   "cell_type": "code",
   "execution_count": 252,
   "metadata": {},
   "outputs": [
    {
     "name": "stdout",
     "output_type": "stream",
     "text": [
      "9/9 [==============================] - 0s 3ms/step - loss: 8921.9883 - mae: 8921.9883\n"
     ]
    },
    {
     "data": {
      "text/plain": [
       "[8921.98828125, 8921.98828125]"
      ]
     },
     "execution_count": 252,
     "metadata": {},
     "output_type": "execute_result"
    }
   ],
   "source": [
    "# Compare to first model\n",
    "insurance_model.evaluate(X_test, y_test)"
   ]
  },
  {
   "cell_type": "code",
   "execution_count": 255,
   "metadata": {},
   "outputs": [
    {
     "name": "stdout",
     "output_type": "stream",
     "text": [
      "Epoch 1/200\n",
      "19/34 [===============>..............] - ETA: 0s - loss: 13212.8057 - mae: 13212.8057"
     ]
    },
    {
     "name": "stderr",
     "output_type": "stream",
     "text": [
      "2022-02-12 13:07:15.827747: I tensorflow/core/grappler/optimizers/custom_graph_optimizer_registry.cc:112] Plugin optimizer for device_type GPU is enabled.\n"
     ]
    },
    {
     "name": "stdout",
     "output_type": "stream",
     "text": [
      "34/34 [==============================] - 0s 7ms/step - loss: 13314.8184 - mae: 13314.8184\n",
      "Epoch 2/200\n",
      "34/34 [==============================] - 0s 5ms/step - loss: 13180.2998 - mae: 13180.2998\n",
      "Epoch 3/200\n",
      "34/34 [==============================] - 0s 5ms/step - loss: 12895.2188 - mae: 12895.2188\n",
      "Epoch 4/200\n",
      "34/34 [==============================] - 0s 5ms/step - loss: 12317.1621 - mae: 12317.1621\n",
      "Epoch 5/200\n",
      "34/34 [==============================] - 0s 5ms/step - loss: 11305.8633 - mae: 11305.8633\n",
      "Epoch 6/200\n",
      "34/34 [==============================] - 0s 5ms/step - loss: 9901.3398 - mae: 9901.3398\n",
      "Epoch 7/200\n",
      "34/34 [==============================] - 0s 5ms/step - loss: 8479.1660 - mae: 8479.1660\n",
      "Epoch 8/200\n",
      "34/34 [==============================] - 0s 5ms/step - loss: 7635.1284 - mae: 7635.1284\n",
      "Epoch 9/200\n",
      "34/34 [==============================] - 0s 5ms/step - loss: 7452.4863 - mae: 7452.4863\n",
      "Epoch 10/200\n",
      "34/34 [==============================] - 0s 5ms/step - loss: 7427.5771 - mae: 7427.5771\n",
      "Epoch 11/200\n",
      "34/34 [==============================] - 0s 5ms/step - loss: 7409.4131 - mae: 7409.4131\n",
      "Epoch 12/200\n",
      "34/34 [==============================] - 0s 5ms/step - loss: 7388.3911 - mae: 7388.3911\n",
      "Epoch 13/200\n",
      "34/34 [==============================] - 0s 5ms/step - loss: 7368.5107 - mae: 7368.5107\n",
      "Epoch 14/200\n",
      "34/34 [==============================] - 0s 5ms/step - loss: 7347.2026 - mae: 7347.2026\n",
      "Epoch 15/200\n",
      "34/34 [==============================] - 0s 5ms/step - loss: 7328.9517 - mae: 7328.9517\n",
      "Epoch 16/200\n",
      "34/34 [==============================] - 0s 5ms/step - loss: 7307.3052 - mae: 7307.3052\n",
      "Epoch 17/200\n",
      "34/34 [==============================] - 0s 5ms/step - loss: 7288.2603 - mae: 7288.2603\n",
      "Epoch 18/200\n",
      "34/34 [==============================] - 0s 5ms/step - loss: 7265.4790 - mae: 7265.4790\n",
      "Epoch 19/200\n",
      "34/34 [==============================] - 0s 5ms/step - loss: 7244.0610 - mae: 7244.0610\n",
      "Epoch 20/200\n",
      "34/34 [==============================] - 0s 5ms/step - loss: 7221.8330 - mae: 7221.8330\n",
      "Epoch 21/200\n",
      "34/34 [==============================] - 0s 5ms/step - loss: 7203.5684 - mae: 7203.5684\n",
      "Epoch 22/200\n",
      "34/34 [==============================] - 0s 5ms/step - loss: 7177.3540 - mae: 7177.3540\n",
      "Epoch 23/200\n",
      "34/34 [==============================] - 0s 5ms/step - loss: 7153.4150 - mae: 7153.4150\n",
      "Epoch 24/200\n",
      "34/34 [==============================] - 0s 5ms/step - loss: 7129.4409 - mae: 7129.4409\n",
      "Epoch 25/200\n",
      "34/34 [==============================] - 0s 5ms/step - loss: 7112.0278 - mae: 7112.0278\n",
      "Epoch 26/200\n",
      "34/34 [==============================] - 0s 5ms/step - loss: 7081.1870 - mae: 7081.1870\n",
      "Epoch 27/200\n",
      "34/34 [==============================] - 0s 5ms/step - loss: 7053.2827 - mae: 7053.2827\n",
      "Epoch 28/200\n",
      "34/34 [==============================] - 0s 5ms/step - loss: 7025.8828 - mae: 7025.8828\n",
      "Epoch 29/200\n",
      "34/34 [==============================] - 0s 5ms/step - loss: 6998.3916 - mae: 6998.3916\n",
      "Epoch 30/200\n",
      "34/34 [==============================] - 0s 5ms/step - loss: 6972.0068 - mae: 6972.0068\n",
      "Epoch 31/200\n",
      "34/34 [==============================] - 0s 5ms/step - loss: 6941.1553 - mae: 6941.1553\n",
      "Epoch 32/200\n",
      "34/34 [==============================] - 0s 5ms/step - loss: 6913.5200 - mae: 6913.5200\n",
      "Epoch 33/200\n",
      "34/34 [==============================] - 0s 5ms/step - loss: 6882.4082 - mae: 6882.4082\n",
      "Epoch 34/200\n",
      "34/34 [==============================] - 0s 5ms/step - loss: 6849.8779 - mae: 6849.8779\n",
      "Epoch 35/200\n",
      "34/34 [==============================] - 0s 5ms/step - loss: 6817.2231 - mae: 6817.2231\n",
      "Epoch 36/200\n",
      "34/34 [==============================] - 0s 5ms/step - loss: 6783.0117 - mae: 6783.0117\n",
      "Epoch 37/200\n",
      "34/34 [==============================] - 0s 5ms/step - loss: 6747.0190 - mae: 6747.0190\n",
      "Epoch 38/200\n",
      "34/34 [==============================] - 0s 5ms/step - loss: 6714.3037 - mae: 6714.3037\n",
      "Epoch 39/200\n",
      "34/34 [==============================] - 0s 5ms/step - loss: 6674.6450 - mae: 6674.6450\n",
      "Epoch 40/200\n",
      "34/34 [==============================] - 0s 5ms/step - loss: 6638.3540 - mae: 6638.3540\n",
      "Epoch 41/200\n",
      "34/34 [==============================] - 0s 5ms/step - loss: 6603.9165 - mae: 6603.9165\n",
      "Epoch 42/200\n",
      "34/34 [==============================] - 0s 5ms/step - loss: 6572.4595 - mae: 6572.4595\n",
      "Epoch 43/200\n",
      "34/34 [==============================] - 0s 5ms/step - loss: 6541.2925 - mae: 6541.2925\n",
      "Epoch 44/200\n",
      "34/34 [==============================] - 0s 5ms/step - loss: 6514.4639 - mae: 6514.4639\n",
      "Epoch 45/200\n",
      "34/34 [==============================] - 0s 5ms/step - loss: 6498.5215 - mae: 6498.5215\n",
      "Epoch 46/200\n",
      "34/34 [==============================] - 0s 5ms/step - loss: 6477.9600 - mae: 6477.9600\n",
      "Epoch 47/200\n",
      "34/34 [==============================] - 0s 5ms/step - loss: 6461.8486 - mae: 6461.8486\n",
      "Epoch 48/200\n",
      "34/34 [==============================] - 0s 6ms/step - loss: 6445.6523 - mae: 6445.6523\n",
      "Epoch 49/200\n",
      "34/34 [==============================] - 0s 6ms/step - loss: 6432.0903 - mae: 6432.0903\n",
      "Epoch 50/200\n",
      "34/34 [==============================] - 0s 5ms/step - loss: 6418.2397 - mae: 6418.2397\n",
      "Epoch 51/200\n",
      "34/34 [==============================] - 0s 5ms/step - loss: 6404.5337 - mae: 6404.5337\n",
      "Epoch 52/200\n",
      "34/34 [==============================] - 0s 5ms/step - loss: 6392.9614 - mae: 6392.9614\n",
      "Epoch 53/200\n",
      "34/34 [==============================] - 0s 5ms/step - loss: 6378.7290 - mae: 6378.7290\n",
      "Epoch 54/200\n",
      "34/34 [==============================] - 0s 5ms/step - loss: 6365.0698 - mae: 6365.0698\n",
      "Epoch 55/200\n",
      "34/34 [==============================] - 0s 5ms/step - loss: 6351.3364 - mae: 6351.3364\n",
      "Epoch 56/200\n",
      "34/34 [==============================] - 0s 5ms/step - loss: 6336.8037 - mae: 6336.8037\n",
      "Epoch 57/200\n",
      "34/34 [==============================] - 0s 5ms/step - loss: 6324.6509 - mae: 6324.6509\n",
      "Epoch 58/200\n",
      "34/34 [==============================] - 0s 5ms/step - loss: 6309.9365 - mae: 6309.9365\n",
      "Epoch 59/200\n",
      "34/34 [==============================] - 0s 5ms/step - loss: 6295.7666 - mae: 6295.7666\n",
      "Epoch 60/200\n",
      "34/34 [==============================] - 0s 5ms/step - loss: 6284.7832 - mae: 6284.7832\n",
      "Epoch 61/200\n",
      "34/34 [==============================] - 0s 5ms/step - loss: 6265.5342 - mae: 6265.5342\n",
      "Epoch 62/200\n",
      "34/34 [==============================] - 0s 5ms/step - loss: 6253.2393 - mae: 6253.2393\n",
      "Epoch 63/200\n",
      "34/34 [==============================] - 0s 5ms/step - loss: 6234.8242 - mae: 6234.8242\n",
      "Epoch 64/200\n",
      "34/34 [==============================] - 0s 5ms/step - loss: 6219.4326 - mae: 6219.4326\n",
      "Epoch 65/200\n",
      "34/34 [==============================] - 0s 5ms/step - loss: 6201.9351 - mae: 6201.9351\n",
      "Epoch 66/200\n",
      "34/34 [==============================] - 0s 5ms/step - loss: 6185.0645 - mae: 6185.0645\n",
      "Epoch 67/200\n",
      "34/34 [==============================] - 0s 5ms/step - loss: 6172.5791 - mae: 6172.5791\n",
      "Epoch 68/200\n",
      "34/34 [==============================] - 0s 5ms/step - loss: 6150.4810 - mae: 6150.4810\n",
      "Epoch 69/200\n",
      "34/34 [==============================] - 0s 5ms/step - loss: 6134.5312 - mae: 6134.5312\n",
      "Epoch 70/200\n",
      "34/34 [==============================] - 0s 5ms/step - loss: 6114.7046 - mae: 6114.7046\n",
      "Epoch 71/200\n",
      "34/34 [==============================] - 0s 5ms/step - loss: 6095.5732 - mae: 6095.5732\n",
      "Epoch 72/200\n",
      "34/34 [==============================] - 0s 5ms/step - loss: 6076.0703 - mae: 6076.0703\n",
      "Epoch 73/200\n",
      "34/34 [==============================] - 0s 5ms/step - loss: 6063.1675 - mae: 6063.1675\n",
      "Epoch 74/200\n",
      "34/34 [==============================] - 0s 5ms/step - loss: 6035.7075 - mae: 6035.7075\n",
      "Epoch 75/200\n",
      "34/34 [==============================] - 0s 5ms/step - loss: 6014.6216 - mae: 6014.6216\n",
      "Epoch 76/200\n",
      "34/34 [==============================] - 0s 5ms/step - loss: 6001.1143 - mae: 6001.1143\n",
      "Epoch 77/200\n",
      "34/34 [==============================] - 0s 5ms/step - loss: 5969.3682 - mae: 5969.3682\n",
      "Epoch 78/200\n",
      "34/34 [==============================] - 0s 5ms/step - loss: 5946.9146 - mae: 5946.9146\n",
      "Epoch 79/200\n",
      "34/34 [==============================] - 0s 5ms/step - loss: 5923.4365 - mae: 5923.4365\n",
      "Epoch 80/200\n",
      "34/34 [==============================] - 0s 5ms/step - loss: 5897.3057 - mae: 5897.3057\n",
      "Epoch 81/200\n",
      "34/34 [==============================] - 0s 5ms/step - loss: 5872.2915 - mae: 5872.2915\n",
      "Epoch 82/200\n",
      "34/34 [==============================] - 0s 5ms/step - loss: 5844.7686 - mae: 5844.7686\n",
      "Epoch 83/200\n",
      "34/34 [==============================] - 0s 5ms/step - loss: 5818.3174 - mae: 5818.3174\n",
      "Epoch 84/200\n",
      "34/34 [==============================] - 0s 5ms/step - loss: 5785.4482 - mae: 5785.4482\n",
      "Epoch 85/200\n",
      "34/34 [==============================] - 0s 5ms/step - loss: 5759.2583 - mae: 5759.2583\n",
      "Epoch 86/200\n",
      "34/34 [==============================] - 0s 6ms/step - loss: 5726.2856 - mae: 5726.2856\n",
      "Epoch 87/200\n",
      "34/34 [==============================] - 0s 5ms/step - loss: 5692.1763 - mae: 5692.1763\n",
      "Epoch 88/200\n",
      "34/34 [==============================] - 0s 5ms/step - loss: 5659.3057 - mae: 5659.3057\n",
      "Epoch 89/200\n",
      "34/34 [==============================] - 0s 5ms/step - loss: 5622.4009 - mae: 5622.4009\n",
      "Epoch 90/200\n",
      "34/34 [==============================] - 0s 5ms/step - loss: 5583.2729 - mae: 5583.2729\n",
      "Epoch 91/200\n",
      "34/34 [==============================] - 0s 5ms/step - loss: 5549.8530 - mae: 5549.8530\n",
      "Epoch 92/200\n",
      "34/34 [==============================] - 0s 5ms/step - loss: 5502.3657 - mae: 5502.3657\n",
      "Epoch 93/200\n",
      "34/34 [==============================] - 0s 5ms/step - loss: 5463.9736 - mae: 5463.9736\n",
      "Epoch 94/200\n",
      "34/34 [==============================] - 0s 5ms/step - loss: 5421.5239 - mae: 5421.5239\n",
      "Epoch 95/200\n",
      "34/34 [==============================] - 0s 5ms/step - loss: 5370.8540 - mae: 5370.8540\n",
      "Epoch 96/200\n",
      "34/34 [==============================] - 0s 5ms/step - loss: 5329.8452 - mae: 5329.8452\n",
      "Epoch 97/200\n",
      "34/34 [==============================] - 0s 5ms/step - loss: 5279.7368 - mae: 5279.7368\n",
      "Epoch 98/200\n",
      "34/34 [==============================] - 0s 5ms/step - loss: 5222.9229 - mae: 5222.9229\n",
      "Epoch 99/200\n",
      "34/34 [==============================] - 0s 5ms/step - loss: 5166.4590 - mae: 5166.4590\n",
      "Epoch 100/200\n",
      "34/34 [==============================] - 0s 5ms/step - loss: 5112.9629 - mae: 5112.9629\n",
      "Epoch 101/200\n",
      "34/34 [==============================] - 0s 6ms/step - loss: 5048.2310 - mae: 5048.2305\n",
      "Epoch 102/200\n",
      "34/34 [==============================] - 0s 5ms/step - loss: 4983.1665 - mae: 4983.1665\n",
      "Epoch 103/200\n",
      "34/34 [==============================] - 0s 5ms/step - loss: 4921.3623 - mae: 4921.3623\n",
      "Epoch 104/200\n",
      "34/34 [==============================] - 0s 5ms/step - loss: 4847.5063 - mae: 4847.5063\n",
      "Epoch 105/200\n",
      "34/34 [==============================] - 0s 5ms/step - loss: 4770.8921 - mae: 4770.8916\n",
      "Epoch 106/200\n",
      "34/34 [==============================] - 0s 5ms/step - loss: 4694.3281 - mae: 4694.3281\n",
      "Epoch 107/200\n",
      "34/34 [==============================] - 0s 5ms/step - loss: 4615.3755 - mae: 4615.3755\n",
      "Epoch 108/200\n",
      "34/34 [==============================] - 0s 5ms/step - loss: 4531.4121 - mae: 4531.4121\n",
      "Epoch 109/200\n",
      "34/34 [==============================] - 0s 5ms/step - loss: 4446.9399 - mae: 4446.9399\n",
      "Epoch 110/200\n",
      "34/34 [==============================] - 0s 5ms/step - loss: 4363.0356 - mae: 4363.0356\n",
      "Epoch 111/200\n",
      "34/34 [==============================] - 0s 5ms/step - loss: 4281.5142 - mae: 4281.5142\n",
      "Epoch 112/200\n",
      "34/34 [==============================] - 0s 5ms/step - loss: 4208.3267 - mae: 4208.3267\n",
      "Epoch 113/200\n",
      "34/34 [==============================] - 0s 5ms/step - loss: 4133.7900 - mae: 4133.7900\n",
      "Epoch 114/200\n",
      "34/34 [==============================] - 0s 5ms/step - loss: 4061.7112 - mae: 4061.7112\n",
      "Epoch 115/200\n",
      "34/34 [==============================] - 0s 5ms/step - loss: 3999.2119 - mae: 3999.2119\n",
      "Epoch 116/200\n",
      "34/34 [==============================] - 0s 5ms/step - loss: 3966.4517 - mae: 3966.4517\n",
      "Epoch 117/200\n",
      "34/34 [==============================] - 0s 5ms/step - loss: 3939.8821 - mae: 3939.8821\n",
      "Epoch 118/200\n",
      "34/34 [==============================] - 0s 5ms/step - loss: 3910.8276 - mae: 3910.8276\n",
      "Epoch 119/200\n",
      "34/34 [==============================] - 0s 5ms/step - loss: 3880.4919 - mae: 3880.4919\n",
      "Epoch 120/200\n",
      "34/34 [==============================] - 0s 5ms/step - loss: 3857.8782 - mae: 3857.8782\n",
      "Epoch 121/200\n",
      "34/34 [==============================] - 0s 5ms/step - loss: 3847.0691 - mae: 3847.0691\n",
      "Epoch 122/200\n",
      "34/34 [==============================] - 0s 5ms/step - loss: 3838.8823 - mae: 3838.8823\n",
      "Epoch 123/200\n",
      "34/34 [==============================] - 0s 5ms/step - loss: 3833.0518 - mae: 3833.0518\n",
      "Epoch 124/200\n",
      "34/34 [==============================] - 0s 5ms/step - loss: 3822.3328 - mae: 3822.3328\n",
      "Epoch 125/200\n",
      "34/34 [==============================] - 0s 5ms/step - loss: 3806.7551 - mae: 3806.7551\n",
      "Epoch 126/200\n",
      "34/34 [==============================] - 0s 5ms/step - loss: 3818.7812 - mae: 3818.7812\n",
      "Epoch 127/200\n",
      "34/34 [==============================] - 0s 5ms/step - loss: 3806.9585 - mae: 3806.9585\n",
      "Epoch 128/200\n",
      "34/34 [==============================] - 0s 5ms/step - loss: 3800.3281 - mae: 3800.3281\n",
      "Epoch 129/200\n",
      "34/34 [==============================] - 0s 5ms/step - loss: 3808.5483 - mae: 3808.5483\n",
      "Epoch 130/200\n",
      "34/34 [==============================] - 0s 5ms/step - loss: 3792.2017 - mae: 3792.2017\n",
      "Epoch 131/200\n",
      "34/34 [==============================] - 0s 5ms/step - loss: 3787.3765 - mae: 3787.3765\n",
      "Epoch 132/200\n",
      "34/34 [==============================] - 0s 5ms/step - loss: 3780.7349 - mae: 3780.7349\n",
      "Epoch 133/200\n",
      "34/34 [==============================] - 0s 5ms/step - loss: 3776.4646 - mae: 3776.4646\n",
      "Epoch 134/200\n",
      "34/34 [==============================] - 0s 5ms/step - loss: 3775.7915 - mae: 3775.7915\n",
      "Epoch 135/200\n",
      "34/34 [==============================] - 0s 5ms/step - loss: 3772.5503 - mae: 3772.5503\n",
      "Epoch 136/200\n",
      "34/34 [==============================] - 0s 5ms/step - loss: 3772.0557 - mae: 3772.0557\n",
      "Epoch 137/200\n",
      "34/34 [==============================] - 0s 5ms/step - loss: 3779.7432 - mae: 3779.7432\n",
      "Epoch 138/200\n",
      "34/34 [==============================] - 0s 5ms/step - loss: 3789.0957 - mae: 3789.0957\n",
      "Epoch 139/200\n",
      "34/34 [==============================] - 0s 5ms/step - loss: 3767.0420 - mae: 3767.0420\n",
      "Epoch 140/200\n",
      "34/34 [==============================] - 0s 5ms/step - loss: 3769.8083 - mae: 3769.8083\n",
      "Epoch 141/200\n",
      "34/34 [==============================] - 0s 5ms/step - loss: 3768.8240 - mae: 3768.8240\n",
      "Epoch 142/200\n",
      "34/34 [==============================] - 0s 5ms/step - loss: 3767.4143 - mae: 3767.4143\n",
      "Epoch 143/200\n",
      "34/34 [==============================] - 0s 5ms/step - loss: 3759.3430 - mae: 3759.3430\n",
      "Epoch 144/200\n",
      "34/34 [==============================] - 0s 5ms/step - loss: 3755.5361 - mae: 3755.5361\n",
      "Epoch 145/200\n",
      "34/34 [==============================] - 0s 5ms/step - loss: 3756.0898 - mae: 3756.0898\n",
      "Epoch 146/200\n",
      "34/34 [==============================] - 0s 5ms/step - loss: 3761.6438 - mae: 3761.6438\n",
      "Epoch 147/200\n",
      "34/34 [==============================] - 0s 5ms/step - loss: 3756.8088 - mae: 3756.8088\n",
      "Epoch 148/200\n",
      "34/34 [==============================] - 0s 5ms/step - loss: 3760.8848 - mae: 3760.8848\n",
      "Epoch 149/200\n",
      "34/34 [==============================] - 0s 5ms/step - loss: 3748.3530 - mae: 3748.3530\n",
      "Epoch 150/200\n",
      "34/34 [==============================] - 0s 5ms/step - loss: 3743.6570 - mae: 3743.6570\n",
      "Epoch 151/200\n",
      "34/34 [==============================] - 0s 5ms/step - loss: 3745.9436 - mae: 3745.9436\n",
      "Epoch 152/200\n",
      "34/34 [==============================] - 0s 5ms/step - loss: 3748.6475 - mae: 3748.6475\n",
      "Epoch 153/200\n",
      "34/34 [==============================] - 0s 5ms/step - loss: 3747.5049 - mae: 3747.5049\n",
      "Epoch 154/200\n",
      "34/34 [==============================] - 0s 5ms/step - loss: 3742.1450 - mae: 3742.1450\n",
      "Epoch 155/200\n",
      "34/34 [==============================] - 0s 5ms/step - loss: 3745.5623 - mae: 3745.5623\n",
      "Epoch 156/200\n",
      "34/34 [==============================] - 0s 5ms/step - loss: 3740.1494 - mae: 3740.1494\n",
      "Epoch 157/200\n",
      "34/34 [==============================] - 0s 5ms/step - loss: 3739.0442 - mae: 3739.0442\n",
      "Epoch 158/200\n",
      "34/34 [==============================] - 0s 5ms/step - loss: 3734.5259 - mae: 3734.5259\n",
      "Epoch 159/200\n",
      "34/34 [==============================] - 0s 5ms/step - loss: 3734.3105 - mae: 3734.3105\n",
      "Epoch 160/200\n",
      "34/34 [==============================] - 0s 5ms/step - loss: 3738.7808 - mae: 3738.7808\n",
      "Epoch 161/200\n",
      "34/34 [==============================] - 0s 5ms/step - loss: 3733.7385 - mae: 3733.7385\n",
      "Epoch 162/200\n",
      "34/34 [==============================] - 0s 5ms/step - loss: 3728.1340 - mae: 3728.1340\n",
      "Epoch 163/200\n",
      "34/34 [==============================] - 0s 5ms/step - loss: 3727.0759 - mae: 3727.0759\n",
      "Epoch 164/200\n",
      "34/34 [==============================] - 0s 5ms/step - loss: 3732.2957 - mae: 3732.2957\n",
      "Epoch 165/200\n",
      "34/34 [==============================] - 0s 5ms/step - loss: 3721.1387 - mae: 3721.1387\n",
      "Epoch 166/200\n",
      "34/34 [==============================] - 0s 5ms/step - loss: 3725.7236 - mae: 3725.7236\n",
      "Epoch 167/200\n",
      "34/34 [==============================] - 0s 5ms/step - loss: 3724.9946 - mae: 3724.9946\n",
      "Epoch 168/200\n",
      "34/34 [==============================] - 0s 5ms/step - loss: 3720.0056 - mae: 3720.0056\n",
      "Epoch 169/200\n",
      "34/34 [==============================] - 0s 6ms/step - loss: 3720.6931 - mae: 3720.6931\n",
      "Epoch 170/200\n",
      "34/34 [==============================] - 0s 5ms/step - loss: 3713.9963 - mae: 3713.9963\n",
      "Epoch 171/200\n",
      "34/34 [==============================] - 0s 5ms/step - loss: 3713.5139 - mae: 3713.5139\n",
      "Epoch 172/200\n",
      "34/34 [==============================] - 0s 5ms/step - loss: 3716.8765 - mae: 3716.8765\n",
      "Epoch 173/200\n",
      "34/34 [==============================] - 0s 5ms/step - loss: 3709.0420 - mae: 3709.0420\n",
      "Epoch 174/200\n",
      "34/34 [==============================] - 0s 5ms/step - loss: 3715.3965 - mae: 3715.3965\n",
      "Epoch 175/200\n",
      "34/34 [==============================] - 0s 5ms/step - loss: 3718.0771 - mae: 3718.0771\n",
      "Epoch 176/200\n",
      "34/34 [==============================] - 0s 5ms/step - loss: 3714.0144 - mae: 3714.0144\n",
      "Epoch 177/200\n",
      "34/34 [==============================] - 0s 5ms/step - loss: 3707.8591 - mae: 3707.8591\n",
      "Epoch 178/200\n",
      "34/34 [==============================] - 0s 5ms/step - loss: 3703.0107 - mae: 3703.0107\n",
      "Epoch 179/200\n",
      "34/34 [==============================] - 0s 5ms/step - loss: 3714.0779 - mae: 3714.0779\n",
      "Epoch 180/200\n",
      "34/34 [==============================] - 0s 5ms/step - loss: 3715.4548 - mae: 3715.4548\n",
      "Epoch 181/200\n",
      "34/34 [==============================] - 0s 5ms/step - loss: 3703.4763 - mae: 3703.4763\n",
      "Epoch 182/200\n",
      "34/34 [==============================] - 0s 5ms/step - loss: 3700.6362 - mae: 3700.6362\n",
      "Epoch 183/200\n",
      "34/34 [==============================] - 0s 5ms/step - loss: 3697.9546 - mae: 3697.9546\n",
      "Epoch 184/200\n",
      "34/34 [==============================] - 0s 5ms/step - loss: 3704.9751 - mae: 3704.9751\n",
      "Epoch 185/200\n",
      "34/34 [==============================] - 0s 5ms/step - loss: 3701.2725 - mae: 3701.2725\n",
      "Epoch 186/200\n",
      "34/34 [==============================] - 0s 5ms/step - loss: 3704.3220 - mae: 3704.3220\n",
      "Epoch 187/200\n",
      "34/34 [==============================] - 0s 5ms/step - loss: 3693.6875 - mae: 3693.6875\n",
      "Epoch 188/200\n",
      "34/34 [==============================] - 0s 5ms/step - loss: 3701.8806 - mae: 3701.8806\n",
      "Epoch 189/200\n",
      "34/34 [==============================] - 0s 5ms/step - loss: 3692.0632 - mae: 3692.0632\n",
      "Epoch 190/200\n",
      "34/34 [==============================] - 0s 5ms/step - loss: 3689.6519 - mae: 3689.6519\n",
      "Epoch 191/200\n",
      "34/34 [==============================] - 0s 5ms/step - loss: 3707.0955 - mae: 3707.0955\n",
      "Epoch 192/200\n",
      "34/34 [==============================] - 0s 5ms/step - loss: 3691.9810 - mae: 3691.9810\n",
      "Epoch 193/200\n",
      "34/34 [==============================] - 0s 5ms/step - loss: 3681.4507 - mae: 3681.4507\n",
      "Epoch 194/200\n",
      "34/34 [==============================] - 0s 5ms/step - loss: 3682.0803 - mae: 3682.0803\n",
      "Epoch 195/200\n",
      "34/34 [==============================] - 0s 5ms/step - loss: 3680.2908 - mae: 3680.2908\n",
      "Epoch 196/200\n",
      "34/34 [==============================] - 0s 5ms/step - loss: 3688.0916 - mae: 3688.0916\n",
      "Epoch 197/200\n",
      "34/34 [==============================] - 0s 5ms/step - loss: 3673.4248 - mae: 3673.4248\n",
      "Epoch 198/200\n",
      "34/34 [==============================] - 0s 5ms/step - loss: 3678.1821 - mae: 3678.1821\n",
      "Epoch 199/200\n",
      "34/34 [==============================] - 0s 5ms/step - loss: 3685.4692 - mae: 3685.4692\n",
      "Epoch 200/200\n",
      "34/34 [==============================] - 0s 5ms/step - loss: 3674.1304 - mae: 3674.1304\n"
     ]
    }
   ],
   "source": [
    "# Set random seed\n",
    "tf.random.set_seed(42)\n",
    "\n",
    "# 1. Build the model\n",
    "insurance_model_3 = tf.keras.Sequential()\n",
    "insurance_model_3.add(tf.keras.layers.Dense(100))\n",
    "insurance_model_3.add(tf.keras.layers.Dense(10))\n",
    "insurance_model_3.add(tf.keras.layers.Dense(1))\n",
    "\n",
    "\n",
    "# 2. Compile the model\n",
    "insurance_model_3.compile(loss=tf.keras.losses.mae,\n",
    "                          optimizer=tf.keras.optimizers.Adam(),\n",
    "                          metrics=[\"mae\"])\n",
    "\n",
    "# 3. Fit the model\n",
    "history = insurance_model_3.fit(X_train, y_train, epochs=200)"
   ]
  },
  {
   "cell_type": "code",
   "execution_count": 256,
   "metadata": {},
   "outputs": [
    {
     "name": "stdout",
     "output_type": "stream",
     "text": [
      "9/9 [==============================] - 0s 4ms/step - loss: 3506.1880 - mae: 3506.1880\n"
     ]
    },
    {
     "name": "stderr",
     "output_type": "stream",
     "text": [
      "2022-02-12 13:08:03.686244: I tensorflow/core/grappler/optimizers/custom_graph_optimizer_registry.cc:112] Plugin optimizer for device_type GPU is enabled.\n"
     ]
    },
    {
     "data": {
      "text/plain": [
       "[3506.18798828125, 3506.18798828125]"
      ]
     },
     "execution_count": 256,
     "metadata": {},
     "output_type": "execute_result"
    }
   ],
   "source": [
    "# Evaluate the even bigger model\n",
    "insurance_model_3.evaluate(X_test, y_test)"
   ]
  },
  {
   "cell_type": "code",
   "execution_count": 257,
   "metadata": {},
   "outputs": [
    {
     "name": "stdout",
     "output_type": "stream",
     "text": [
      "9/9 [==============================] - 0s 4ms/step - loss: 8921.9883 - mae: 8921.9883\n"
     ]
    },
    {
     "name": "stderr",
     "output_type": "stream",
     "text": [
      "2022-02-12 13:08:11.723460: I tensorflow/core/grappler/optimizers/custom_graph_optimizer_registry.cc:112] Plugin optimizer for device_type GPU is enabled.\n"
     ]
    },
    {
     "data": {
      "text/plain": [
       "[8921.98828125, 8921.98828125]"
      ]
     },
     "execution_count": 257,
     "metadata": {},
     "output_type": "execute_result"
    }
   ],
   "source": [
    "insurance_model.evaluate(X_test, y_test)"
   ]
  },
  {
   "cell_type": "code",
   "execution_count": 258,
   "metadata": {},
   "outputs": [
    {
     "data": {
      "text/plain": [
       "Text(0.5, 0, 'epochs')"
      ]
     },
     "execution_count": 258,
     "metadata": {},
     "output_type": "execute_result"
    },
    {
     "data": {
      "image/png": "[encoded data removed]",
      "text/plain": [
       "<Figure size 432x288 with 1 Axes>"
      ]
     },
     "metadata": {
      "needs_background": "light"
     },
     "output_type": "display_data"
    }
   ],
   "source": [
    "# Plot history (also knows as a loss curve or training curve)\n",
    "pd.DataFrame(history.history).plot()\n",
    "plt.ylabel(\"loss\")\n",
    "plt.xlabel(\"epochs\")"
   ]
  },
  {
   "cell_type": "markdown",
   "metadata": {},
   "source": [
    "🤔 **Question:** How long should you train for?\n",
    "\n",
    "It depends. Really .. it depends on the problem you're working on. However, many people have asked this question before ... so TensorFlow has a solution! It's called the EarlyStoppingCallback, which is a TensorFlow component you can add to your model to stop training once it stops improving a certain metric."
   ]
  },
  {
   "cell_type": "markdown",
   "metadata": {},
   "source": [
    "## Preprocessing data (normalization and standardization)"
   ]
  },
  {
   "cell_type": "markdown",
   "metadata": {},
   "source": [
    "In terms of scaling values, neural networks tend to prefer normalization.\n",
    "\n",
    "If you're not sure on which to use, you could try both and see which performs better."
   ]
  },
  {
   "cell_type": "code",
   "execution_count": 267,
   "metadata": {},
   "outputs": [
    {
     "data": {
      "text/html": [
       "<div>\n",
       "<style scoped>\n",
       "    .dataframe tbody tr th:only-of-type {\n",
       "        vertical-align: middle;\n",
       "    }\n",
       "\n",
       "    .dataframe tbody tr th {\n",
       "        vertical-align: top;\n",
       "    }\n",
       "\n",
       "    .dataframe thead th {\n",
       "        text-align: right;\n",
       "    }\n",
       "</style>\n",
       "<table border=\"1\" class=\"dataframe\">\n",
       "  <thead>\n",
       "    <tr style=\"text-align: right;\">\n",
       "      <th></th>\n",
       "      <th>age</th>\n",
       "      <th>sex</th>\n",
       "      <th>bmi</th>\n",
       "      <th>children</th>\n",
       "      <th>smoker</th>\n",
       "      <th>region</th>\n",
       "      <th>charges</th>\n",
       "    </tr>\n",
       "  </thead>\n",
       "  <tbody>\n",
       "    <tr>\n",
       "      <th>0</th>\n",
       "      <td>19</td>\n",
       "      <td>female</td>\n",
       "      <td>27.900</td>\n",
       "      <td>0</td>\n",
       "      <td>yes</td>\n",
       "      <td>southwest</td>\n",
       "      <td>16884.92400</td>\n",
       "    </tr>\n",
       "    <tr>\n",
       "      <th>1</th>\n",
       "      <td>18</td>\n",
       "      <td>male</td>\n",
       "      <td>33.770</td>\n",
       "      <td>1</td>\n",
       "      <td>no</td>\n",
       "      <td>southeast</td>\n",
       "      <td>1725.55230</td>\n",
       "    </tr>\n",
       "    <tr>\n",
       "      <th>2</th>\n",
       "      <td>28</td>\n",
       "      <td>male</td>\n",
       "      <td>33.000</td>\n",
       "      <td>3</td>\n",
       "      <td>no</td>\n",
       "      <td>southeast</td>\n",
       "      <td>4449.46200</td>\n",
       "    </tr>\n",
       "    <tr>\n",
       "      <th>3</th>\n",
       "      <td>33</td>\n",
       "      <td>male</td>\n",
       "      <td>22.705</td>\n",
       "      <td>0</td>\n",
       "      <td>no</td>\n",
       "      <td>northwest</td>\n",
       "      <td>21984.47061</td>\n",
       "    </tr>\n",
       "    <tr>\n",
       "      <th>4</th>\n",
       "      <td>32</td>\n",
       "      <td>male</td>\n",
       "      <td>28.880</td>\n",
       "      <td>0</td>\n",
       "      <td>no</td>\n",
       "      <td>northwest</td>\n",
       "      <td>3866.85520</td>\n",
       "    </tr>\n",
       "    <tr>\n",
       "      <th>...</th>\n",
       "      <td>...</td>\n",
       "      <td>...</td>\n",
       "      <td>...</td>\n",
       "      <td>...</td>\n",
       "      <td>...</td>\n",
       "      <td>...</td>\n",
       "      <td>...</td>\n",
       "    </tr>\n",
       "    <tr>\n",
       "      <th>1333</th>\n",
       "      <td>50</td>\n",
       "      <td>male</td>\n",
       "      <td>30.970</td>\n",
       "      <td>3</td>\n",
       "      <td>no</td>\n",
       "      <td>northwest</td>\n",
       "      <td>10600.54830</td>\n",
       "    </tr>\n",
       "    <tr>\n",
       "      <th>1334</th>\n",
       "      <td>18</td>\n",
       "      <td>female</td>\n",
       "      <td>31.920</td>\n",
       "      <td>0</td>\n",
       "      <td>no</td>\n",
       "      <td>northeast</td>\n",
       "      <td>2205.98080</td>\n",
       "    </tr>\n",
       "    <tr>\n",
       "      <th>1335</th>\n",
       "      <td>18</td>\n",
       "      <td>female</td>\n",
       "      <td>36.850</td>\n",
       "      <td>0</td>\n",
       "      <td>no</td>\n",
       "      <td>southeast</td>\n",
       "      <td>1629.83350</td>\n",
       "    </tr>\n",
       "    <tr>\n",
       "      <th>1336</th>\n",
       "      <td>21</td>\n",
       "      <td>female</td>\n",
       "      <td>25.800</td>\n",
       "      <td>0</td>\n",
       "      <td>no</td>\n",
       "      <td>southwest</td>\n",
       "      <td>2007.94500</td>\n",
       "    </tr>\n",
       "    <tr>\n",
       "      <th>1337</th>\n",
       "      <td>61</td>\n",
       "      <td>female</td>\n",
       "      <td>29.070</td>\n",
       "      <td>0</td>\n",
       "      <td>yes</td>\n",
       "      <td>northwest</td>\n",
       "      <td>29141.36030</td>\n",
       "    </tr>\n",
       "  </tbody>\n",
       "</table>\n",
       "<p>1338 rows × 7 columns</p>\n",
       "</div>"
      ],
      "text/plain": [
       "      age     sex     bmi  children smoker     region      charges\n",
       "0      19  female  27.900         0    yes  southwest  16884.92400\n",
       "1      18    male  33.770         1     no  southeast   1725.55230\n",
       "2      28    male  33.000         3     no  southeast   4449.46200\n",
       "3      33    male  22.705         0     no  northwest  21984.47061\n",
       "4      32    male  28.880         0     no  northwest   3866.85520\n",
       "...   ...     ...     ...       ...    ...        ...          ...\n",
       "1333   50    male  30.970         3     no  northwest  10600.54830\n",
       "1334   18  female  31.920         0     no  northeast   2205.98080\n",
       "1335   18  female  36.850         0     no  southeast   1629.83350\n",
       "1336   21  female  25.800         0     no  southwest   2007.94500\n",
       "1337   61  female  29.070         0    yes  northwest  29141.36030\n",
       "\n",
       "[1338 rows x 7 columns]"
      ]
     },
     "execution_count": 267,
     "metadata": {},
     "output_type": "execute_result"
    }
   ],
   "source": [
    "import pandas as pd\n",
    "import matplotlib.pyplot as plt\n",
    "import tensorflow as tf\n",
    "\n",
    "insurace = pd.read_csv(\"https://raw.githubusercontent.com/stedy/Machine-Learning-with-R-datasets/master/insurance.csv\")\n",
    "insurance"
   ]
  },
  {
   "cell_type": "markdown",
   "metadata": {},
   "source": [
    "To prepare our data, we can borrow a few classes from Scikit-Learn"
   ]
  },
  {
   "cell_type": "code",
   "execution_count": 269,
   "metadata": {},
   "outputs": [],
   "source": [
    "from sklearn.compose import make_column_transformer\n",
    "from sklearn.preprocessing import MinMaxScaler, OneHotEncoder\n",
    "from sklearn.model_selection import train_test_split\n",
    "\n",
    "# Create a column transformer\n",
    "ct = make_column_transformer(\n",
    "    (MinMaxScaler(), [\"age\", \"children\", \"bmi\"]), # turn all values in those columns between 0 and 1\n",
    "    (OneHotEncoder(handle_unknown=\"ignore\"), [\"sex\", \"smoker\", \"region\"])\n",
    ")\n",
    "\n",
    "# Create X and y\n",
    "X = insurace.drop(\"charges\", axis=1)\n",
    "y = insurance[\"charges\"]\n",
    "\n",
    "# Build train and test sets\n",
    "X_train, X_test, y_train, y_test = train_test_split(X, y, test_size=0.2, random_state=42)\n",
    "\n",
    "# Fit the column transformer to our training data\n",
    "ct.fit(X_train)\n",
    "\n",
    "# Transform training and test data with normalization (MinMaxScaler) and OneHotEncoder\n",
    "X_train_normal = ct.transform(X_train)\n",
    "X_test_normal = ct.transform(X_test)"
   ]
  },
  {
   "cell_type": "code",
   "execution_count": 270,
   "metadata": {},
   "outputs": [
    {
     "data": {
      "text/plain": [
       "age                19\n",
       "sex            female\n",
       "bmi              27.9\n",
       "children            0\n",
       "smoker            yes\n",
       "region      southwest\n",
       "Name: 0, dtype: object"
      ]
     },
     "execution_count": 270,
     "metadata": {},
     "output_type": "execute_result"
    }
   ],
   "source": [
    "# What does our data look like now?\n",
    "X_train.loc[0]"
   ]
  },
  {
   "cell_type": "code",
   "execution_count": 275,
   "metadata": {},
   "outputs": [
    {
     "data": {
      "text/plain": [
       "array([0.60869565, 0.4       , 0.10734463, 1.        , 0.        ,\n",
       "       1.        , 0.        , 0.        , 1.        , 0.        ,\n",
       "       0.        ])"
      ]
     },
     "execution_count": 275,
     "metadata": {},
     "output_type": "execute_result"
    }
   ],
   "source": [
    "X_train_normal[0]"
   ]
  },
  {
   "cell_type": "code",
   "execution_count": 276,
   "metadata": {},
   "outputs": [
    {
     "data": {
      "text/plain": [
       "((1070, 6), (1070, 11))"
      ]
     },
     "execution_count": 276,
     "metadata": {},
     "output_type": "execute_result"
    }
   ],
   "source": [
    "X_train.shape, X_train_normal.shape"
   ]
  },
  {
   "cell_type": "markdown",
   "metadata": {},
   "source": [
    "Beautiful! Our data has been normalized and one hot encoded.\n",
    "\n",
    "Now let's build a neural network on it and see how it does."
   ]
  },
  {
   "cell_type": "code",
   "execution_count": 280,
   "metadata": {},
   "outputs": [
    {
     "name": "stdout",
     "output_type": "stream",
     "text": [
      "Epoch 1/200\n",
      "21/34 [=================>............] - ETA: 0s - loss: 13348.3057 - mae: 13348.3057"
     ]
    },
    {
     "name": "stderr",
     "output_type": "stream",
     "text": [
      "2022-02-12 13:36:25.714076: I tensorflow/core/grappler/optimizers/custom_graph_optimizer_registry.cc:112] Plugin optimizer for device_type GPU is enabled.\n"
     ]
    },
    {
     "name": "stdout",
     "output_type": "stream",
     "text": [
      "34/34 [==============================] - 0s 5ms/step - loss: 13344.3037 - mae: 13344.3037\n",
      "Epoch 2/200\n",
      "34/34 [==============================] - 0s 5ms/step - loss: 13337.2695 - mae: 13337.2695\n",
      "Epoch 3/200\n",
      "34/34 [==============================] - 0s 6ms/step - loss: 13319.0645 - mae: 13319.0645\n",
      "Epoch 4/200\n",
      "34/34 [==============================] - 0s 5ms/step - loss: 13279.2764 - mae: 13279.2764\n",
      "Epoch 5/200\n",
      "34/34 [==============================] - 0s 5ms/step - loss: 13206.8926 - mae: 13206.8926\n",
      "Epoch 6/200\n",
      "34/34 [==============================] - 0s 5ms/step - loss: 13090.8779 - mae: 13090.8779\n",
      "Epoch 7/200\n",
      "34/34 [==============================] - 0s 5ms/step - loss: 12920.7578 - mae: 12920.7578\n",
      "Epoch 8/200\n",
      "34/34 [==============================] - 0s 5ms/step - loss: 12686.2549 - mae: 12686.2549\n",
      "Epoch 9/200\n",
      "34/34 [==============================] - 0s 5ms/step - loss: 12376.9922 - mae: 12376.9922\n",
      "Epoch 10/200\n",
      "34/34 [==============================] - 0s 5ms/step - loss: 11986.9902 - mae: 11986.9902\n",
      "Epoch 11/200\n",
      "34/34 [==============================] - 0s 5ms/step - loss: 11523.3125 - mae: 11523.3125\n",
      "Epoch 12/200\n",
      "34/34 [==============================] - 0s 5ms/step - loss: 11018.1064 - mae: 11018.1064\n",
      "Epoch 13/200\n",
      "34/34 [==============================] - 0s 5ms/step - loss: 10515.2168 - mae: 10515.2168\n",
      "Epoch 14/200\n",
      "34/34 [==============================] - 0s 5ms/step - loss: 10014.4912 - mae: 10014.4912\n",
      "Epoch 15/200\n",
      "34/34 [==============================] - 0s 5ms/step - loss: 9541.2344 - mae: 9541.2344\n",
      "Epoch 16/200\n",
      "34/34 [==============================] - 0s 5ms/step - loss: 9116.8408 - mae: 9116.8408\n",
      "Epoch 17/200\n",
      "34/34 [==============================] - 0s 5ms/step - loss: 8763.2617 - mae: 8763.2617\n",
      "Epoch 18/200\n",
      "34/34 [==============================] - 0s 5ms/step - loss: 8476.9453 - mae: 8476.9453\n",
      "Epoch 19/200\n",
      "34/34 [==============================] - 0s 5ms/step - loss: 8254.4072 - mae: 8254.4072\n",
      "Epoch 20/200\n",
      "34/34 [==============================] - 0s 5ms/step - loss: 8101.7886 - mae: 8101.7886\n",
      "Epoch 21/200\n",
      "34/34 [==============================] - 0s 5ms/step - loss: 7988.4995 - mae: 7988.4995\n",
      "Epoch 22/200\n",
      "34/34 [==============================] - 0s 5ms/step - loss: 7912.2046 - mae: 7912.2046\n",
      "Epoch 23/200\n",
      "34/34 [==============================] - 0s 5ms/step - loss: 7852.5596 - mae: 7852.5596\n",
      "Epoch 24/200\n",
      "34/34 [==============================] - 0s 6ms/step - loss: 7799.3882 - mae: 7799.3882\n",
      "Epoch 25/200\n",
      "34/34 [==============================] - 0s 5ms/step - loss: 7760.4761 - mae: 7760.4761\n",
      "Epoch 26/200\n",
      "34/34 [==============================] - 0s 5ms/step - loss: 7708.5625 - mae: 7708.5625\n",
      "Epoch 27/200\n",
      "34/34 [==============================] - 0s 5ms/step - loss: 7666.6919 - mae: 7666.6919\n",
      "Epoch 28/200\n",
      "34/34 [==============================] - 0s 5ms/step - loss: 7624.6299 - mae: 7624.6299\n",
      "Epoch 29/200\n",
      "34/34 [==============================] - 0s 5ms/step - loss: 7582.3394 - mae: 7582.3394\n",
      "Epoch 30/200\n",
      "34/34 [==============================] - 0s 5ms/step - loss: 7539.3271 - mae: 7539.3271\n",
      "Epoch 31/200\n",
      "34/34 [==============================] - 0s 5ms/step - loss: 7495.9165 - mae: 7495.9165\n",
      "Epoch 32/200\n",
      "34/34 [==============================] - 0s 5ms/step - loss: 7452.3252 - mae: 7452.3252\n",
      "Epoch 33/200\n",
      "34/34 [==============================] - 0s 5ms/step - loss: 7408.5703 - mae: 7408.5703\n",
      "Epoch 34/200\n",
      "34/34 [==============================] - 0s 5ms/step - loss: 7360.9941 - mae: 7360.9941\n",
      "Epoch 35/200\n",
      "34/34 [==============================] - 0s 5ms/step - loss: 7314.8794 - mae: 7314.8794\n",
      "Epoch 36/200\n",
      "34/34 [==============================] - 0s 5ms/step - loss: 7265.4346 - mae: 7265.4346\n",
      "Epoch 37/200\n",
      "34/34 [==============================] - 0s 5ms/step - loss: 7215.9888 - mae: 7215.9888\n",
      "Epoch 38/200\n",
      "34/34 [==============================] - 0s 5ms/step - loss: 7165.8042 - mae: 7165.8042\n",
      "Epoch 39/200\n",
      "34/34 [==============================] - 0s 5ms/step - loss: 7111.8491 - mae: 7111.8491\n",
      "Epoch 40/200\n",
      "34/34 [==============================] - 0s 5ms/step - loss: 7057.5234 - mae: 7057.5234\n",
      "Epoch 41/200\n",
      "34/34 [==============================] - 0s 5ms/step - loss: 7002.2534 - mae: 7002.2534\n",
      "Epoch 42/200\n",
      "34/34 [==============================] - 0s 5ms/step - loss: 6944.1523 - mae: 6944.1523\n",
      "Epoch 43/200\n",
      "34/34 [==============================] - 0s 5ms/step - loss: 6882.8047 - mae: 6882.8047\n",
      "Epoch 44/200\n",
      "34/34 [==============================] - 0s 5ms/step - loss: 6817.8892 - mae: 6817.8892\n",
      "Epoch 45/200\n",
      "34/34 [==============================] - 0s 5ms/step - loss: 6752.1143 - mae: 6752.1143\n",
      "Epoch 46/200\n",
      "34/34 [==============================] - 0s 5ms/step - loss: 6684.6821 - mae: 6684.6821\n",
      "Epoch 47/200\n",
      "34/34 [==============================] - 0s 5ms/step - loss: 6615.1113 - mae: 6615.1113\n",
      "Epoch 48/200\n",
      "34/34 [==============================] - 0s 5ms/step - loss: 6537.7676 - mae: 6537.7676\n",
      "Epoch 49/200\n",
      "34/34 [==============================] - 0s 5ms/step - loss: 6460.4580 - mae: 6460.4580\n",
      "Epoch 50/200\n",
      "34/34 [==============================] - 0s 5ms/step - loss: 6376.3804 - mae: 6376.3804\n",
      "Epoch 51/200\n",
      "34/34 [==============================] - 0s 5ms/step - loss: 6294.0508 - mae: 6294.0508\n",
      "Epoch 52/200\n",
      "34/34 [==============================] - 0s 5ms/step - loss: 6202.4688 - mae: 6202.4688\n",
      "Epoch 53/200\n",
      "34/34 [==============================] - 0s 5ms/step - loss: 6108.7827 - mae: 6108.7827\n",
      "Epoch 54/200\n",
      "34/34 [==============================] - 0s 5ms/step - loss: 6012.4775 - mae: 6012.4775\n",
      "Epoch 55/200\n",
      "34/34 [==============================] - 0s 5ms/step - loss: 5907.5859 - mae: 5907.5859\n",
      "Epoch 56/200\n",
      "34/34 [==============================] - 0s 5ms/step - loss: 5801.7666 - mae: 5801.7666\n",
      "Epoch 57/200\n",
      "34/34 [==============================] - 0s 5ms/step - loss: 5688.6245 - mae: 5688.6245\n",
      "Epoch 58/200\n",
      "34/34 [==============================] - 0s 5ms/step - loss: 5571.2202 - mae: 5571.2202\n",
      "Epoch 59/200\n",
      "34/34 [==============================] - 0s 5ms/step - loss: 5455.5317 - mae: 5455.5317\n",
      "Epoch 60/200\n",
      "34/34 [==============================] - 0s 5ms/step - loss: 5334.8633 - mae: 5334.8633\n",
      "Epoch 61/200\n",
      "34/34 [==============================] - 0s 5ms/step - loss: 5208.3179 - mae: 5208.3179\n",
      "Epoch 62/200\n",
      "34/34 [==============================] - 0s 5ms/step - loss: 5081.3931 - mae: 5081.3931\n",
      "Epoch 63/200\n",
      "34/34 [==============================] - 0s 5ms/step - loss: 4953.7373 - mae: 4953.7373\n",
      "Epoch 64/200\n",
      "34/34 [==============================] - 0s 5ms/step - loss: 4822.1870 - mae: 4822.1870\n",
      "Epoch 65/200\n",
      "34/34 [==============================] - 0s 5ms/step - loss: 4694.2100 - mae: 4694.2100\n",
      "Epoch 66/200\n",
      "34/34 [==============================] - 0s 5ms/step - loss: 4564.6206 - mae: 4564.6206\n",
      "Epoch 67/200\n",
      "34/34 [==============================] - 0s 5ms/step - loss: 4450.9761 - mae: 4450.9761\n",
      "Epoch 68/200\n",
      "34/34 [==============================] - 0s 5ms/step - loss: 4342.0806 - mae: 4342.0806\n",
      "Epoch 69/200\n",
      "34/34 [==============================] - 0s 5ms/step - loss: 4237.8628 - mae: 4237.8628\n",
      "Epoch 70/200\n",
      "34/34 [==============================] - 0s 5ms/step - loss: 4141.8428 - mae: 4141.8428\n",
      "Epoch 71/200\n",
      "34/34 [==============================] - 0s 5ms/step - loss: 4052.2773 - mae: 4052.2773\n",
      "Epoch 72/200\n",
      "34/34 [==============================] - 0s 5ms/step - loss: 3972.7700 - mae: 3972.7700\n",
      "Epoch 73/200\n",
      "34/34 [==============================] - 0s 5ms/step - loss: 3904.0925 - mae: 3904.0925\n",
      "Epoch 74/200\n",
      "34/34 [==============================] - 0s 5ms/step - loss: 3847.2993 - mae: 3847.2993\n",
      "Epoch 75/200\n",
      "34/34 [==============================] - 0s 5ms/step - loss: 3801.2524 - mae: 3801.2524\n",
      "Epoch 76/200\n",
      "34/34 [==============================] - 0s 5ms/step - loss: 3765.3176 - mae: 3765.3176\n",
      "Epoch 77/200\n",
      "34/34 [==============================] - 0s 5ms/step - loss: 3737.1340 - mae: 3737.1340\n",
      "Epoch 78/200\n",
      "34/34 [==============================] - 0s 6ms/step - loss: 3716.5601 - mae: 3716.5601\n",
      "Epoch 79/200\n",
      "34/34 [==============================] - 0s 5ms/step - loss: 3700.8325 - mae: 3700.8325\n",
      "Epoch 80/200\n",
      "34/34 [==============================] - 0s 5ms/step - loss: 3690.1135 - mae: 3690.1135\n",
      "Epoch 81/200\n",
      "34/34 [==============================] - 0s 5ms/step - loss: 3682.1672 - mae: 3682.1672\n",
      "Epoch 82/200\n",
      "34/34 [==============================] - 0s 5ms/step - loss: 3677.7258 - mae: 3677.7258\n",
      "Epoch 83/200\n",
      "34/34 [==============================] - 0s 5ms/step - loss: 3670.5527 - mae: 3670.5527\n",
      "Epoch 84/200\n",
      "34/34 [==============================] - 0s 5ms/step - loss: 3666.9495 - mae: 3666.9495\n",
      "Epoch 85/200\n",
      "34/34 [==============================] - 0s 6ms/step - loss: 3663.9692 - mae: 3663.9692\n",
      "Epoch 86/200\n",
      "34/34 [==============================] - 0s 5ms/step - loss: 3662.1028 - mae: 3662.1028\n",
      "Epoch 87/200\n",
      "34/34 [==============================] - 0s 5ms/step - loss: 3659.1238 - mae: 3659.1238\n",
      "Epoch 88/200\n",
      "34/34 [==============================] - 0s 5ms/step - loss: 3656.5833 - mae: 3656.5833\n",
      "Epoch 89/200\n",
      "34/34 [==============================] - 0s 5ms/step - loss: 3654.5427 - mae: 3654.5427\n",
      "Epoch 90/200\n",
      "34/34 [==============================] - 0s 5ms/step - loss: 3653.0803 - mae: 3653.0803\n",
      "Epoch 91/200\n",
      "34/34 [==============================] - 0s 5ms/step - loss: 3650.1567 - mae: 3650.1567\n",
      "Epoch 92/200\n",
      "34/34 [==============================] - 0s 5ms/step - loss: 3649.4485 - mae: 3649.4485\n",
      "Epoch 93/200\n",
      "34/34 [==============================] - 0s 5ms/step - loss: 3647.1633 - mae: 3647.1633\n",
      "Epoch 94/200\n",
      "34/34 [==============================] - 0s 5ms/step - loss: 3645.5205 - mae: 3645.5205\n",
      "Epoch 95/200\n",
      "34/34 [==============================] - 0s 5ms/step - loss: 3646.7312 - mae: 3646.7312\n",
      "Epoch 96/200\n",
      "34/34 [==============================] - 0s 5ms/step - loss: 3643.2471 - mae: 3643.2471\n",
      "Epoch 97/200\n",
      "34/34 [==============================] - 0s 5ms/step - loss: 3641.0815 - mae: 3641.0815\n",
      "Epoch 98/200\n",
      "34/34 [==============================] - 0s 5ms/step - loss: 3639.0513 - mae: 3639.0513\n",
      "Epoch 99/200\n",
      "34/34 [==============================] - 0s 5ms/step - loss: 3638.1924 - mae: 3638.1924\n",
      "Epoch 100/200\n",
      "34/34 [==============================] - 0s 5ms/step - loss: 3636.8438 - mae: 3636.8438\n",
      "Epoch 101/200\n",
      "34/34 [==============================] - 0s 5ms/step - loss: 3634.0181 - mae: 3634.0181\n",
      "Epoch 102/200\n",
      "34/34 [==============================] - 0s 5ms/step - loss: 3631.3918 - mae: 3631.3918\n",
      "Epoch 103/200\n",
      "34/34 [==============================] - 0s 5ms/step - loss: 3630.5159 - mae: 3630.5159\n",
      "Epoch 104/200\n",
      "34/34 [==============================] - 0s 5ms/step - loss: 3628.0139 - mae: 3628.0139\n",
      "Epoch 105/200\n",
      "34/34 [==============================] - 0s 5ms/step - loss: 3626.5647 - mae: 3626.5647\n",
      "Epoch 106/200\n",
      "34/34 [==============================] - 0s 5ms/step - loss: 3625.1267 - mae: 3625.1267\n",
      "Epoch 107/200\n",
      "34/34 [==============================] - 0s 5ms/step - loss: 3624.5105 - mae: 3624.5105\n",
      "Epoch 108/200\n",
      "34/34 [==============================] - 0s 5ms/step - loss: 3622.4412 - mae: 3622.4412\n",
      "Epoch 109/200\n",
      "34/34 [==============================] - 0s 5ms/step - loss: 3623.0845 - mae: 3623.0845\n",
      "Epoch 110/200\n",
      "34/34 [==============================] - 0s 5ms/step - loss: 3618.6523 - mae: 3618.6523\n",
      "Epoch 111/200\n",
      "34/34 [==============================] - 0s 5ms/step - loss: 3616.2131 - mae: 3616.2131\n",
      "Epoch 112/200\n",
      "34/34 [==============================] - 0s 5ms/step - loss: 3614.3293 - mae: 3614.3293\n",
      "Epoch 113/200\n",
      "34/34 [==============================] - 0s 5ms/step - loss: 3612.9075 - mae: 3612.9075\n",
      "Epoch 114/200\n",
      "34/34 [==============================] - 0s 5ms/step - loss: 3611.9878 - mae: 3611.9878\n",
      "Epoch 115/200\n",
      "34/34 [==============================] - 0s 5ms/step - loss: 3610.3003 - mae: 3610.3003\n",
      "Epoch 116/200\n",
      "34/34 [==============================] - 0s 5ms/step - loss: 3609.0210 - mae: 3609.0210\n",
      "Epoch 117/200\n",
      "34/34 [==============================] - 0s 5ms/step - loss: 3605.8979 - mae: 3605.8979\n",
      "Epoch 118/200\n",
      "34/34 [==============================] - 0s 5ms/step - loss: 3602.3372 - mae: 3602.3372\n",
      "Epoch 119/200\n",
      "34/34 [==============================] - 0s 5ms/step - loss: 3604.6870 - mae: 3604.6870\n",
      "Epoch 120/200\n",
      "34/34 [==============================] - 0s 5ms/step - loss: 3600.9875 - mae: 3600.9875\n",
      "Epoch 121/200\n",
      "34/34 [==============================] - 0s 5ms/step - loss: 3596.4619 - mae: 3596.4619\n",
      "Epoch 122/200\n",
      "34/34 [==============================] - 0s 5ms/step - loss: 3595.7095 - mae: 3595.7095\n",
      "Epoch 123/200\n",
      "34/34 [==============================] - 0s 5ms/step - loss: 3593.8208 - mae: 3593.8208\n",
      "Epoch 124/200\n",
      "34/34 [==============================] - 0s 5ms/step - loss: 3591.6165 - mae: 3591.6165\n",
      "Epoch 125/200\n",
      "34/34 [==============================] - 0s 5ms/step - loss: 3589.5088 - mae: 3589.5088\n",
      "Epoch 126/200\n",
      "34/34 [==============================] - 0s 5ms/step - loss: 3588.6873 - mae: 3588.6873\n",
      "Epoch 127/200\n",
      "34/34 [==============================] - 0s 5ms/step - loss: 3588.7930 - mae: 3588.7930\n",
      "Epoch 128/200\n",
      "34/34 [==============================] - 0s 5ms/step - loss: 3585.5999 - mae: 3585.5999\n",
      "Epoch 129/200\n",
      "34/34 [==============================] - 0s 5ms/step - loss: 3584.0737 - mae: 3584.0737\n",
      "Epoch 130/200\n",
      "34/34 [==============================] - 0s 5ms/step - loss: 3580.5056 - mae: 3580.5056\n",
      "Epoch 131/200\n",
      "34/34 [==============================] - 0s 5ms/step - loss: 3579.0613 - mae: 3579.0613\n",
      "Epoch 132/200\n",
      "34/34 [==============================] - 0s 5ms/step - loss: 3576.2432 - mae: 3576.2432\n",
      "Epoch 133/200\n",
      "34/34 [==============================] - 0s 5ms/step - loss: 3574.6619 - mae: 3574.6619\n",
      "Epoch 134/200\n",
      "34/34 [==============================] - 0s 5ms/step - loss: 3572.7615 - mae: 3572.7615\n",
      "Epoch 135/200\n",
      "34/34 [==============================] - 0s 5ms/step - loss: 3570.6887 - mae: 3570.6887\n",
      "Epoch 136/200\n",
      "34/34 [==============================] - 0s 5ms/step - loss: 3569.5037 - mae: 3569.5037\n",
      "Epoch 137/200\n",
      "34/34 [==============================] - 0s 5ms/step - loss: 3567.4033 - mae: 3567.4033\n",
      "Epoch 138/200\n",
      "34/34 [==============================] - 0s 5ms/step - loss: 3565.2004 - mae: 3565.2004\n",
      "Epoch 139/200\n",
      "34/34 [==============================] - 0s 5ms/step - loss: 3564.4319 - mae: 3564.4319\n",
      "Epoch 140/200\n",
      "34/34 [==============================] - 0s 5ms/step - loss: 3562.1208 - mae: 3562.1208\n",
      "Epoch 141/200\n",
      "34/34 [==============================] - 0s 5ms/step - loss: 3562.3247 - mae: 3562.3247\n",
      "Epoch 142/200\n",
      "34/34 [==============================] - 0s 5ms/step - loss: 3559.2043 - mae: 3559.2043\n",
      "Epoch 143/200\n",
      "34/34 [==============================] - 0s 5ms/step - loss: 3559.0820 - mae: 3559.0820\n",
      "Epoch 144/200\n",
      "34/34 [==============================] - 0s 5ms/step - loss: 3556.2593 - mae: 3556.2593\n",
      "Epoch 145/200\n",
      "34/34 [==============================] - 0s 6ms/step - loss: 3554.3696 - mae: 3554.3696\n",
      "Epoch 146/200\n",
      "34/34 [==============================] - 0s 5ms/step - loss: 3554.5505 - mae: 3554.5505\n",
      "Epoch 147/200\n",
      "34/34 [==============================] - 0s 5ms/step - loss: 3552.1904 - mae: 3552.1904\n",
      "Epoch 148/200\n",
      "34/34 [==============================] - 0s 5ms/step - loss: 3550.8113 - mae: 3550.8113\n",
      "Epoch 149/200\n",
      "34/34 [==============================] - 0s 5ms/step - loss: 3548.1121 - mae: 3548.1121\n",
      "Epoch 150/200\n",
      "34/34 [==============================] - 0s 5ms/step - loss: 3547.6895 - mae: 3547.6895\n",
      "Epoch 151/200\n",
      "34/34 [==============================] - 0s 5ms/step - loss: 3546.1987 - mae: 3546.1987\n",
      "Epoch 152/200\n",
      "34/34 [==============================] - 0s 5ms/step - loss: 3544.4954 - mae: 3544.4954\n",
      "Epoch 153/200\n",
      "34/34 [==============================] - 0s 5ms/step - loss: 3543.1270 - mae: 3543.1270\n",
      "Epoch 154/200\n",
      "34/34 [==============================] - 0s 5ms/step - loss: 3544.3428 - mae: 3544.3428\n",
      "Epoch 155/200\n",
      "34/34 [==============================] - 0s 5ms/step - loss: 3541.7288 - mae: 3541.7288\n",
      "Epoch 156/200\n",
      "34/34 [==============================] - 0s 5ms/step - loss: 3540.1934 - mae: 3540.1934\n",
      "Epoch 157/200\n",
      "34/34 [==============================] - 0s 5ms/step - loss: 3538.7031 - mae: 3538.7031\n",
      "Epoch 158/200\n",
      "34/34 [==============================] - 0s 5ms/step - loss: 3535.8525 - mae: 3535.8525\n",
      "Epoch 159/200\n",
      "34/34 [==============================] - 0s 5ms/step - loss: 3534.2424 - mae: 3534.2424\n",
      "Epoch 160/200\n",
      "34/34 [==============================] - 0s 5ms/step - loss: 3533.9729 - mae: 3533.9729\n",
      "Epoch 161/200\n",
      "34/34 [==============================] - 0s 5ms/step - loss: 3530.8704 - mae: 3530.8704\n",
      "Epoch 162/200\n",
      "34/34 [==============================] - 0s 5ms/step - loss: 3530.2751 - mae: 3530.2751\n",
      "Epoch 163/200\n",
      "34/34 [==============================] - 0s 5ms/step - loss: 3528.8582 - mae: 3528.8582\n",
      "Epoch 164/200\n",
      "34/34 [==============================] - 0s 5ms/step - loss: 3527.6067 - mae: 3527.6067\n",
      "Epoch 165/200\n",
      "34/34 [==============================] - 0s 5ms/step - loss: 3525.3364 - mae: 3525.3364\n",
      "Epoch 166/200\n",
      "34/34 [==============================] - 0s 5ms/step - loss: 3523.7102 - mae: 3523.7102\n",
      "Epoch 167/200\n",
      "34/34 [==============================] - 0s 6ms/step - loss: 3522.8831 - mae: 3522.8831\n",
      "Epoch 168/200\n",
      "34/34 [==============================] - 0s 5ms/step - loss: 3521.8933 - mae: 3521.8933\n",
      "Epoch 169/200\n",
      "34/34 [==============================] - 0s 5ms/step - loss: 3520.7852 - mae: 3520.7852\n",
      "Epoch 170/200\n",
      "34/34 [==============================] - 0s 5ms/step - loss: 3519.0767 - mae: 3519.0767\n",
      "Epoch 171/200\n",
      "34/34 [==============================] - 0s 5ms/step - loss: 3518.6743 - mae: 3518.6743\n",
      "Epoch 172/200\n",
      "34/34 [==============================] - 0s 5ms/step - loss: 3517.2158 - mae: 3517.2158\n",
      "Epoch 173/200\n",
      "34/34 [==============================] - 0s 5ms/step - loss: 3515.9319 - mae: 3515.9319\n",
      "Epoch 174/200\n",
      "34/34 [==============================] - 0s 5ms/step - loss: 3514.7959 - mae: 3514.7959\n",
      "Epoch 175/200\n",
      "34/34 [==============================] - 0s 5ms/step - loss: 3513.4307 - mae: 3513.4307\n",
      "Epoch 176/200\n",
      "34/34 [==============================] - 0s 5ms/step - loss: 3513.5559 - mae: 3513.5559\n",
      "Epoch 177/200\n",
      "34/34 [==============================] - 0s 5ms/step - loss: 3513.7644 - mae: 3513.7644\n",
      "Epoch 178/200\n",
      "34/34 [==============================] - 0s 5ms/step - loss: 3511.2583 - mae: 3511.2583\n",
      "Epoch 179/200\n",
      "34/34 [==============================] - 0s 5ms/step - loss: 3513.5894 - mae: 3513.5894\n",
      "Epoch 180/200\n",
      "34/34 [==============================] - 0s 5ms/step - loss: 3508.2483 - mae: 3508.2483\n",
      "Epoch 181/200\n",
      "34/34 [==============================] - 0s 5ms/step - loss: 3506.2249 - mae: 3506.2249\n",
      "Epoch 182/200\n",
      "34/34 [==============================] - 0s 5ms/step - loss: 3505.5835 - mae: 3505.5835\n",
      "Epoch 183/200\n",
      "34/34 [==============================] - 0s 5ms/step - loss: 3503.7439 - mae: 3503.7439\n",
      "Epoch 184/200\n",
      "34/34 [==============================] - 0s 5ms/step - loss: 3502.9268 - mae: 3502.9268\n",
      "Epoch 185/200\n",
      "34/34 [==============================] - 0s 5ms/step - loss: 3502.7100 - mae: 3502.7100\n",
      "Epoch 186/200\n",
      "34/34 [==============================] - 0s 5ms/step - loss: 3500.1431 - mae: 3500.1431\n",
      "Epoch 187/200\n",
      "34/34 [==============================] - 0s 5ms/step - loss: 3500.4800 - mae: 3500.4800\n",
      "Epoch 188/200\n",
      "34/34 [==============================] - 0s 5ms/step - loss: 3497.8118 - mae: 3497.8118\n",
      "Epoch 189/200\n",
      "34/34 [==============================] - 0s 5ms/step - loss: 3496.0305 - mae: 3496.0305\n",
      "Epoch 190/200\n",
      "34/34 [==============================] - 0s 5ms/step - loss: 3498.0181 - mae: 3498.0181\n",
      "Epoch 191/200\n",
      "34/34 [==============================] - 0s 5ms/step - loss: 3502.7803 - mae: 3502.7803\n",
      "Epoch 192/200\n",
      "34/34 [==============================] - 0s 5ms/step - loss: 3493.2395 - mae: 3493.2395\n",
      "Epoch 193/200\n",
      "34/34 [==============================] - 0s 5ms/step - loss: 3493.1033 - mae: 3493.1033\n",
      "Epoch 194/200\n",
      "34/34 [==============================] - 0s 5ms/step - loss: 3490.1021 - mae: 3490.1021\n",
      "Epoch 195/200\n",
      "34/34 [==============================] - 0s 5ms/step - loss: 3489.2605 - mae: 3489.2605\n",
      "Epoch 196/200\n",
      "34/34 [==============================] - 0s 5ms/step - loss: 3490.5442 - mae: 3490.5442\n",
      "Epoch 197/200\n",
      "34/34 [==============================] - 0s 5ms/step - loss: 3487.1079 - mae: 3487.1079\n",
      "Epoch 198/200\n",
      "34/34 [==============================] - 0s 5ms/step - loss: 3485.9695 - mae: 3485.9695\n",
      "Epoch 199/200\n",
      "34/34 [==============================] - 0s 5ms/step - loss: 3484.8608 - mae: 3484.8608\n",
      "Epoch 200/200\n",
      "34/34 [==============================] - 0s 6ms/step - loss: 3485.2468 - mae: 3485.2468\n"
     ]
    }
   ],
   "source": [
    "# Build a neural network model to fit on our normalized data\n",
    "\n",
    "# Set random seed\n",
    "tf.random.set_seed(42)\n",
    "\n",
    "# 1. Build the model\n",
    "norm_model = tf.keras.Sequential()\n",
    "norm_model.add(tf.keras.layers.Dense(100))\n",
    "norm_model.add(tf.keras.layers.Dense(10))\n",
    "norm_model.add(tf.keras.layers.Dense(1))\n",
    "\n",
    "# 2. Compile the model\n",
    "norm_model.compile(loss=tf.keras.losses.mae,\n",
    "                   optimizer=tf.keras.optimizers.Adam(),\n",
    "                   metrics=[\"mae\"])\n",
    "\n",
    "# 3. Fit the model\n",
    "history = norm_model.fit(X_train_normal, y_train, epochs=200)"
   ]
  },
  {
   "cell_type": "code",
   "execution_count": 281,
   "metadata": {},
   "outputs": [
    {
     "name": "stdout",
     "output_type": "stream",
     "text": [
      "9/9 [==============================] - 0s 5ms/step - loss: 3174.2112 - mae: 3174.2112\n"
     ]
    },
    {
     "name": "stderr",
     "output_type": "stream",
     "text": [
      "2022-02-12 13:37:21.906181: I tensorflow/core/grappler/optimizers/custom_graph_optimizer_registry.cc:112] Plugin optimizer for device_type GPU is enabled.\n"
     ]
    },
    {
     "data": {
      "text/plain": [
       "[3174.211181640625, 3174.211181640625]"
      ]
     },
     "execution_count": 281,
     "metadata": {},
     "output_type": "execute_result"
    }
   ],
   "source": [
    "# Evaluate our insurance model trained on the normalized data\n",
    "norm_model.evaluate(X_test_normal, y_test)"
   ]
  },
  {
   "cell_type": "code",
   "execution_count": null,
   "metadata": {},
   "outputs": [],
   "source": []
  }
 ],
 "metadata": {
  "interpreter": {
   "hash": "7efeaa60e9a5c6dc89bcf2ef7d05e65afecf12bb1fb436594ce8f677a26dbbe3"
  },
  "kernelspec": {
   "display_name": "Python 3.9.10 64-bit (conda)",
   "language": "python",
   "name": "python3"
  },
  "language_info": {
   "codemirror_mode": {
    "name": "ipython",
    "version": 3
   },
   "file_extension": ".py",
   "mimetype": "text/x-python",
   "name": "python",
   "nbconvert_exporter": "python",
   "pygments_lexer": "ipython3",
   "version": "3.9.10"
  },
  "orig_nbformat": 4
 },
 "nbformat": 4,
 "nbformat_minor": 2
}
